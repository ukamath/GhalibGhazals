{
 "cells": [
  {
   "cell_type": "markdown",
   "metadata": {},
   "source": [
    "# Ghazals Processing and Visualization"
   ]
  },
  {
   "cell_type": "markdown",
   "metadata": {},
   "source": [
    "## Import all the libraries needed"
   ]
  },
  {
   "cell_type": "code",
   "execution_count": 39,
   "metadata": {},
   "outputs": [],
   "source": [
    "import re\n",
    "import os\n",
    "import pandas as pd\n",
    "import scattertext as st\n",
    "import nltk\n",
    "import wordcloud\n",
    "from wordcloud import WordCloud, ImageColorGenerator\n",
    "import matplotlib.pyplot as plt\n",
    "import plotly.express as px\n",
    "import plotly.graph_objects as go\n",
    "import numpy as np\n",
    "from nltk import ngrams"
   ]
  },
  {
   "cell_type": "markdown",
   "metadata": {},
   "source": [
    "## Read texts from all the folders and store it in a dictionary eg. {\"Poet-name\": Dataframe of lines}"
   ]
  },
  {
   "cell_type": "code",
   "execution_count": 40,
   "metadata": {},
   "outputs": [],
   "source": [
    "def returnDataframe(filepath):\n",
    "    with open(filepath,encoding='utf-8') as f:\n",
    "        line_list=[]\n",
    "        for line in f:\n",
    "            stripped_line = line.strip()\n",
    "            line_list.append(stripped_line)\n",
    "    return \" \".join(line_list)\n",
    "\n",
    "\n",
    "def createPoetsToPoemsDictionary(): \n",
    "    baseDir= \"./ghazals_a_to_z/ghazals\"\n",
    "    poet_shayari_dict={}\n",
    "    for _, dirname, filename in os.walk(baseDir):\n",
    "        alphabet_dirs=dirname\n",
    "        break\n",
    "    for dirs in alphabet_dirs:\n",
    "        for _, dirname, filename in os.walk(baseDir+\"/\"+dirs):\n",
    "            poet_names=dirname\n",
    "            break\n",
    "        for poet in poet_names:\n",
    "            poems_per_poet=[] \n",
    "            for _, _, filename in os.walk(baseDir+\"/\"+dirs+\"/\"+poet):\n",
    "                for text_files in filename:\n",
    "                    filepath=baseDir+\"/\"+dirs+\"/\"+poet+\"/\"+text_files\n",
    "                    poem=returnDataframe(filepath)\n",
    "                    poems_per_poet.append(poem)\n",
    "   \n",
    "                poet_shayari_dict[poet] = pd.DataFrame([i+\" \" for i in poems_per_poet],columns=[\"Poems\"])\n",
    "           \n",
    "    return poet_shayari_dict"
   ]
  },
  {
   "cell_type": "markdown",
   "metadata": {},
   "source": [
    "## Clean the data (Split words with \"-\", remove stop words, split words connected by \".\")"
   ]
  },
  {
   "cell_type": "code",
   "execution_count": 41,
   "metadata": {},
   "outputs": [],
   "source": [
    "stop_words = ['ko', 'hai', 'meñ', 'pe', 'bhī', 'kī', 'ki', 'huuñ', 'haiñ', \n",
    "              'tak', 'hote', 'hotā', 'ham','tum','yā', 'ho','na','kis', 'se', 'ye',\n",
    "              'is', 'tujh','mujh', 'kyā', 'phir', 'aur', 'jo', 'vo','kā', 'to', 'aa.e',\n",
    "              'par', 'mirā', 'tirā','mirī', 'tirī','mere', 'merī', 'tere','mire', 'tire', 'yahī'\n",
    "              'o', 'ke', 'ai', 'maiñ', 'merā', 'terā', 'terī', 'merį', 'kisī','kab'\n",
    "              'nahīñ', 'un', 'hua', 'e', 'ne', 'uskā', 'uskī', 'thā', 'thī', 'aisī'\n",
    "               'huā', 'huī', 'jab', 'tab','ab', 'kab' 'honā', 'aayā', 'gayā','be', 'kuchh',\n",
    "              'kyoñ','jise', 'kahāñ', 'ga','hi','aanā', 'jaanā', 'koī','hameñ', 'kyuuñ',\n",
    "              'kar', 'jaa', 'pa', 'do', '\\'asad\\'', '\\'ġhālib\\'', 'us','jis','gar','hue',\n",
    "              'kiye', 'liye', 'tū', 'kiyā', 'ga', 'haa', 'de', 'mujhe', 'tujhe', 'agar',\n",
    "              'hī', 'rahā', 'iiñ', 'gaa', 'jaa', 'eñ', 'ek', 'ik', 'har', 'aa', 'kare'\n",
    "              'kahe', 'kaheñ', 'kahte', 'haañ', 'the', 'aati', 'hā', 'yuuñ', 'pā', 'ba',\n",
    "               'jā', 'kaun', 'yahī', 'vahī', 'aap', 'kare', 'apnā', 'vaañ', 'aatī', 'jātī', \n",
    "              'nā', 'le', 'nahīñ', 'so', 'apnā', 'huā']\n",
    "\n",
    "def remove_stopWords(s):\n",
    "    '''For removing stop words\n",
    "    '''\n",
    "    s = ' '.join(word for word in s.split() if word not in stop_words)\n",
    "    return s\n",
    "\n",
    "def remove_connected_words(s):\n",
    "    '''For removing connected words\n",
    "    '''\n",
    "    s = ' '.join(word for word in s.split(\"-\"))\n",
    "    return s\n",
    "\n",
    "def connect_words(s):\n",
    "    '''For removing connected words\n",
    "    '''\n",
    "    s = s.replace(\".\", \"\")\n",
    "    return s\n",
    "\n",
    "def clean(df):\n",
    "    \n",
    "    string_poems= \" \".join(df.iloc[:,0])\n",
    "    only_cleaned_connected_words = remove_connected_words(string_poems)\n",
    "    removed_connected_stop_words = remove_stopWords(only_cleaned_connected_words)\n",
    "    removed_connected_stop_words=connect_words(removed_connected_stop_words)\n",
    "    \n",
    "    return removed_connected_stop_words\n",
    "\n",
    "def convertNgrams(s,n):\n",
    "    grams_list=[]\n",
    "    for grams in ngrams(s.split(), n):\n",
    "        grams_list.append(\" \".join(grams))\n",
    "        \n",
    "    return pd.DataFrame(grams_list,columns=[\"Words\"])\n",
    "\n",
    "def createWordsDict(poet_shayari_dict,grams):\n",
    "    words_dict={}\n",
    "    for key in poet_shayari_dict.keys():\n",
    "        poems_df=poet_shayari_dict[key]\n",
    "        cleaned_poems=clean(poems_df)\n",
    "\n",
    "        words_dict[key] =convertNgrams(cleaned_poems,grams)\n",
    "    return words_dict"
   ]
  },
  {
   "cell_type": "markdown",
   "metadata": {},
   "source": [
    "## Calculate and sort words w.r.t. Frequency"
   ]
  },
  {
   "cell_type": "code",
   "execution_count": 42,
   "metadata": {},
   "outputs": [],
   "source": [
    "def sortWordsWithCount(df_final):\n",
    "    total_word_count={}\n",
    "    for index,rows in df_final.iterrows():\n",
    "        words=rows[\"Words\"].split(' ')\n",
    "        for word in words:\n",
    "            if word in total_word_count:\n",
    "                total_word_count[word]+=1\n",
    "            else:\n",
    "                total_word_count[word]=1\n",
    "    words_and_count=pd.DataFrame(total_word_count.items(), columns=['Words', 'Count'])\n",
    "    words_and_count = words_and_count[words_and_count.Words != \" \"]\n",
    "    sorted_words=words_and_count.sort_values(by=['Count'],ascending=False)\n",
    "    return sorted_words"
   ]
  },
  {
   "cell_type": "markdown",
   "metadata": {},
   "source": [
    "## Merge Word Dataframes"
   ]
  },
  {
   "cell_type": "code",
   "execution_count": 43,
   "metadata": {},
   "outputs": [],
   "source": [
    "def mergeWords(df1,df2):\n",
    "    merged_words_df = pd.merge(df1, df2, how='outer', on=['Words'])\n",
    "    merged_words_df = merged_words_df.replace(np.nan, 0)\n",
    "    merged_words_df=merged_words_df.drop(0)\n",
    "    return merged_words_df"
   ]
  },
  {
   "cell_type": "markdown",
   "metadata": {},
   "source": [
    "## Calculate Vocabulary Set and Total Words Count of authors"
   ]
  },
  {
   "cell_type": "code",
   "execution_count": 69,
   "metadata": {},
   "outputs": [],
   "source": [
    "def calculateVocabularySet(dictionary_poems,num_authors):\n",
    "    i=0\n",
    "    wordlist=[]\n",
    "    for poet in dictionary_poems:\n",
    "        if i==num_authors:\n",
    "            break\n",
    "        i+=1\n",
    "        words_count_df=sortWordsWithCount(dictionary_poems[str(poet)])\n",
    "        vocabulary=words_count_df[\"Words\"].count()\n",
    "        total_words=words_count_df[\"Count\"].sum()\n",
    "        wordlist.append([str(poet),vocabulary,total_words])\n",
    "\n",
    "    return pd.DataFrame(wordlist,columns=[\"Poet\",\"Vocabulary Set\",\"Total Words Used\"])\n",
    "    "
   ]
  },
  {
   "cell_type": "markdown",
   "metadata": {},
   "source": [
    "## Plot Scatterplot"
   ]
  },
  {
   "cell_type": "code",
   "execution_count": 44,
   "metadata": {},
   "outputs": [],
   "source": [
    "def plotScatterPlot(df1,df2,poet1,poet2,num_words):\n",
    "    merged_words = pd.merge(df1, df2, how='outer', on=['Words'])\n",
    "    merged_words = merged_words.replace(np.nan, 0)\n",
    "    merged_words=merged_words.drop(0)\n",
    "    \n",
    "    #Remove zeros (As log(0) is -inf)\n",
    "    Count_x=np.log([1 if merged_words.loc[i, \"Count_x\"] == 0 else merged_words.loc[i, \"Count_x\"] for i in range(1,len(merged_words)) ])  \n",
    "    Count_y=np.log([1 if merged_words.loc[i, \"Count_y\"] == 0 else merged_words.loc[i, \"Count_y\"] for i in range(1,len(merged_words)) ])  \n",
    "    \n",
    "    # Create a List with words and their counts eg ([word,count1,count2])\n",
    "    data=[]\n",
    "    for i in range(1,num_words):\n",
    "        data.append([merged_words.loc[i, \"Words\"],Count_x[i-1],Count_y[i-1]])\n",
    "    \n",
    "    # Set labels and plot Scatterplot\n",
    "    fig, ax = plt.subplots(figsize = (10, 10))\n",
    "    x = np.log([x[1] + 1 for x in data])  \n",
    "    y = np.log([x[2] + 1 for x in data])\n",
    "    ax.scatter(x, y)  \n",
    "    plt.xlabel(poet1+\" Log Word Count\",fontsize=16)\n",
    "    plt.ylabel(poet2+\" Log Word Count\",fontsize=16)\n",
    "    plt.title(\"Log Count of Top:\"+str(num_words)+\" words used in \"+poet1+\" and \"+poet2+\" Poems\",fontsize=20)\n",
    "    for i in range(0, len(data)):\n",
    "        ax.annotate(data[i][0], (x[i], y[i]), fontsize=12)\n",
    "    plt.show()"
   ]
  },
  {
   "cell_type": "markdown",
   "metadata": {},
   "source": [
    "## Pie Plot of the word frequency of both poets"
   ]
  },
  {
   "cell_type": "code",
   "execution_count": 45,
   "metadata": {},
   "outputs": [],
   "source": [
    "def Pieplot(df1,df2,poet1,poet2):\n",
    "    df1_count=df1.Words.count()\n",
    "    df2_count=df2.Words.count()\n",
    "    fig = plt.figure(figsize=(5, 5))\n",
    "    labels = poet1 , poet2\n",
    "    sizes = [df1_count, df2_count] \n",
    "    plt.pie(sizes, labels=labels, autopct='%1.1f%%',\n",
    "            shadow=True, startangle=90)\n",
    "    plt.axis('equal')\n",
    "    plt.title(\"Unique Words Count\")\n",
    "    plt.show()"
   ]
  },
  {
   "cell_type": "markdown",
   "metadata": {},
   "source": [
    "## Plot Word Cloud"
   ]
  },
  {
   "cell_type": "code",
   "execution_count": 46,
   "metadata": {},
   "outputs": [],
   "source": [
    "def plotWordCloud(dataframe):\n",
    "    poem_words=''\n",
    "    for val in dataframe.Words:\n",
    "        poem_words+= \" \"+val+\" \"\n",
    "    poem_words\n",
    "    wordcloud = WordCloud(stopwords=stop_words,\n",
    "                          background_color='white',\n",
    "                          width=3000,\n",
    "                          height=2500\n",
    "                          ).generate(poem_words)\n",
    "    plt.figure(1, figsize=(12, 12))\n",
    "    plt.imshow(wordcloud)\n",
    "    plt.axis('off')\n",
    "    plt.show()"
   ]
  },
  {
   "cell_type": "markdown",
   "metadata": {},
   "source": [
    "## Plot Word Frequencies\n"
   ]
  },
  {
   "cell_type": "code",
   "execution_count": 47,
   "metadata": {},
   "outputs": [],
   "source": [
    "def plotWordFrequencies(df,num_words):\n",
    "    fig = px.bar(df.head(num_words), y='Count', x='Words', text='Count')\n",
    "    fig.update_traces(texttemplate='%{text:.2s}', textposition='outside')\n",
    "    fig.update_layout(title=\"Word Frequency\",\n",
    "                  xaxis_title=\"Words\",\n",
    "                  yaxis_title=\"Count\",\n",
    "                  uniformtext_minsize=8, \n",
    "                  uniformtext_mode='hide')\n",
    "    fig.show()"
   ]
  },
  {
   "cell_type": "markdown",
   "metadata": {},
   "source": [
    "## Word Frequency Comparisions"
   ]
  },
  {
   "cell_type": "code",
   "execution_count": 48,
   "metadata": {},
   "outputs": [],
   "source": [
    "def wordFrequencyComparisions(merged_words_df,num_words):\n",
    "    words = merged_words_df[\"Words\"].head(num_words)\n",
    "    first_word_count=merged_words_df[\"Count_x\"].head(num_words)\n",
    "    second_word_count=merged_words_df[\"Count_y\"].head(num_words)\n",
    "    fig = go.Figure()\n",
    "    fig.add_trace(go.Bar(\n",
    "        x=words,\n",
    "        y=first_word_count,\n",
    "        name='mirza-ghalib',\n",
    "        marker_color='indianred'\n",
    "    ))\n",
    "    fig.add_trace(go.Bar(\n",
    "        x=words,\n",
    "        y=second_word_count,\n",
    "        name='meer-taqi-meer',\n",
    "        marker_color='lightsalmon'\n",
    "    ))\n",
    "\n",
    "    # Here we modify the tickangle of the xaxis, resulting in rotated labels.\n",
    "    fig.update_layout(title=\"Word Frequency Comparison of Top:\"+str(num_words)+\" words\",\n",
    "                      xaxis_title=\"Words\",\n",
    "                      yaxis_title=\"Count\",barmode='group', xaxis_tickangle=-45)\n",
    "    fig.show()"
   ]
  },
  {
   "cell_type": "code",
   "execution_count": 82,
   "metadata": {},
   "outputs": [],
   "source": [
    "def vocabTotalWordsComparisionPlot(df):\n",
    "    fig = px.scatter(df, x=\"Total Words Used\", y=\"Vocabulary Set\", size=\"Total Words Used\",color=\"Poet\",\n",
    "                 hover_name=\"Poet\", log_x=True, size_max=60)\n",
    "    fig.show()\n"
   ]
  },
  {
   "cell_type": "code",
   "execution_count": null,
   "metadata": {},
   "outputs": [],
   "source": []
  },
  {
   "cell_type": "markdown",
   "metadata": {},
   "source": [
    "## Main Function"
   ]
  },
  {
   "cell_type": "code",
   "execution_count": 95,
   "metadata": {},
   "outputs": [],
   "source": [
    "poet1=\"mirza-ghalib\" \n",
    "poet2=\"meer-taqi-meer\"\n",
    "poet_shayari_dict=createPoetsToPoemsDictionary()\n",
    "dictionary_poems=createWordsDict(poet_shayari_dict,1)\n",
    "df1=sortWordsWithCount(dictionary_poems[poet1])\n",
    "df2=sortWordsWithCount(dictionary_poems[poet2])\n",
    "merged_words_df=mergeWords(df1,df2)\n",
    "authors_vocab_df=calculateVocabularySet(dictionary_poems,100)"
   ]
  },
  {
   "cell_type": "code",
   "execution_count": null,
   "metadata": {},
   "outputs": [],
   "source": []
  },
  {
   "cell_type": "code",
   "execution_count": null,
   "metadata": {},
   "outputs": [],
   "source": []
  },
  {
   "cell_type": "code",
   "execution_count": 96,
   "metadata": {},
   "outputs": [
    {
     "data": {
      "image/png": "[encoded data removed]",
      "text/plain": [
       "<Figure size 720x720 with 1 Axes>"
      ]
     },
     "metadata": {
      "needs_background": "light"
     },
     "output_type": "display_data"
    }
   ],
   "source": [
    "plotScatterPlot(df1,df2,poet1,poet2,50)"
   ]
  },
  {
   "cell_type": "code",
   "execution_count": 97,
   "metadata": {},
   "outputs": [
    {
     "data": {
      "image/png": "[encoded data removed]",
      "text/plain": [
       "<Figure size 360x360 with 1 Axes>"
      ]
     },
     "metadata": {},
     "output_type": "display_data"
    }
   ],
   "source": [
    "Pieplot(df1,df2,poet1,poet2)"
   ]
  },
  {
   "cell_type": "code",
   "execution_count": 98,
   "metadata": {},
   "outputs": [
    {
     "data": {
      "image/png": "[encoded data removed]",
      "text/plain": [
       "<Figure size 864x864 with 1 Axes>"
      ]
     },
     "metadata": {
      "needs_background": "light"
     },
     "output_type": "display_data"
    }
   ],
   "source": [
    "plotWordCloud(df1)"
   ]
  },
  {
   "cell_type": "code",
   "execution_count": 99,
   "metadata": {},
   "outputs": [
    {
     "data": {
      "application/vnd.plotly.v1+json": {
       "config": {
        "plotlyServerURL": "https://plot.ly"
       },
       "data": [
        {
         "alignmentgroup": "True",
         "hovertemplate": "Words=%{x}<br>Count=%{text}<extra></extra>",
         "legendgroup": "",
         "marker": {
          "color": "#636efa"
         },
         "name": "",
         "offsetgroup": "",
         "orientation": "v",
         "showlegend": false,
         "text": [
          335,
          277,
          127,
          97,
          81,
          78,
          75,
          70,
          66,
          63
         ],
         "textposition": "outside",
         "texttemplate": "%{text:.2s}",
         "type": "bar",
         "x": [
          "dil",
          "o",
          "gul",
          "sar",
          "yak",
          "ġham",
          "dar",
          "mai",
          "rañg",
          "chashm"
         ],
         "xaxis": "x",
         "y": [
          335,
          277,
          127,
          97,
          81,
          78,
          75,
          70,
          66,
          63
         ],
         "yaxis": "y"
        }
       ],
       "layout": {
        "barmode": "relative",
        "legend": {
         "tracegroupgap": 0
        },
        "margin": {
         "t": 60
        },
        "template": {
         "data": {
          "bar": [
           {
            "error_x": {
             "color": "#2a3f5f"
            },
            "error_y": {
             "color": "#2a3f5f"
            },
            "marker": {
             "line": {
              "color": "#E5ECF6",
              "width": 0.5
             }
            },
            "type": "bar"
           }
          ],
          "barpolar": [
           {
            "marker": {
             "line": {
              "color": "#E5ECF6",
              "width": 0.5
             }
            },
            "type": "barpolar"
           }
          ],
          "carpet": [
           {
            "aaxis": {
             "endlinecolor": "#2a3f5f",
             "gridcolor": "white",
             "linecolor": "white",
             "minorgridcolor": "white",
             "startlinecolor": "#2a3f5f"
            },
            "baxis": {
             "endlinecolor": "#2a3f5f",
             "gridcolor": "white",
             "linecolor": "white",
             "minorgridcolor": "white",
             "startlinecolor": "#2a3f5f"
            },
            "type": "carpet"
           }
          ],
          "choropleth": [
           {
            "colorbar": {
             "outlinewidth": 0,
             "ticks": ""
            },
            "type": "choropleth"
           }
          ],
          "contour": [
           {
            "colorbar": {
             "outlinewidth": 0,
             "ticks": ""
            },
            "colorscale": [
             [
              0,
              "#0d0887"
             ],
             [
              0.1111111111111111,
              "#46039f"
             ],
             [
              0.2222222222222222,
              "#7201a8"
             ],
             [
              0.3333333333333333,
              "#9c179e"
             ],
             [
              0.4444444444444444,
              "#bd3786"
             ],
             [
              0.5555555555555556,
              "#d8576b"
             ],
             [
              0.6666666666666666,
              "#ed7953"
             ],
             [
              0.7777777777777778,
              "#fb9f3a"
             ],
             [
              0.8888888888888888,
              "#fdca26"
             ],
             [
              1,
              "#f0f921"
             ]
            ],
            "type": "contour"
           }
          ],
          "contourcarpet": [
           {
            "colorbar": {
             "outlinewidth": 0,
             "ticks": ""
            },
            "type": "contourcarpet"
           }
          ],
          "heatmap": [
           {
            "colorbar": {
             "outlinewidth": 0,
             "ticks": ""
            },
            "colorscale": [
             [
              0,
              "#0d0887"
             ],
             [
              0.1111111111111111,
              "#46039f"
             ],
             [
              0.2222222222222222,
              "#7201a8"
             ],
             [
              0.3333333333333333,
              "#9c179e"
             ],
             [
              0.4444444444444444,
              "#bd3786"
             ],
             [
              0.5555555555555556,
              "#d8576b"
             ],
             [
              0.6666666666666666,
              "#ed7953"
             ],
             [
              0.7777777777777778,
              "#fb9f3a"
             ],
             [
              0.8888888888888888,
              "#fdca26"
             ],
             [
              1,
              "#f0f921"
             ]
            ],
            "type": "heatmap"
           }
          ],
          "heatmapgl": [
           {
            "colorbar": {
             "outlinewidth": 0,
             "ticks": ""
            },
            "colorscale": [
             [
              0,
              "#0d0887"
             ],
             [
              0.1111111111111111,
              "#46039f"
             ],
             [
              0.2222222222222222,
              "#7201a8"
             ],
             [
              0.3333333333333333,
              "#9c179e"
             ],
             [
              0.4444444444444444,
              "#bd3786"
             ],
             [
              0.5555555555555556,
              "#d8576b"
             ],
             [
              0.6666666666666666,
              "#ed7953"
             ],
             [
              0.7777777777777778,
              "#fb9f3a"
             ],
             [
              0.8888888888888888,
              "#fdca26"
             ],
             [
              1,
              "#f0f921"
             ]
            ],
            "type": "heatmapgl"
           }
          ],
          "histogram": [
           {
            "marker": {
             "colorbar": {
              "outlinewidth": 0,
              "ticks": ""
             }
            },
            "type": "histogram"
           }
          ],
          "histogram2d": [
           {
            "colorbar": {
             "outlinewidth": 0,
             "ticks": ""
            },
            "colorscale": [
             [
              0,
              "#0d0887"
             ],
             [
              0.1111111111111111,
              "#46039f"
             ],
             [
              0.2222222222222222,
              "#7201a8"
             ],
             [
              0.3333333333333333,
              "#9c179e"
             ],
             [
              0.4444444444444444,
              "#bd3786"
             ],
             [
              0.5555555555555556,
              "#d8576b"
             ],
             [
              0.6666666666666666,
              "#ed7953"
             ],
             [
              0.7777777777777778,
              "#fb9f3a"
             ],
             [
              0.8888888888888888,
              "#fdca26"
             ],
             [
              1,
              "#f0f921"
             ]
            ],
            "type": "histogram2d"
           }
          ],
          "histogram2dcontour": [
           {
            "colorbar": {
             "outlinewidth": 0,
             "ticks": ""
            },
            "colorscale": [
             [
              0,
              "#0d0887"
             ],
             [
              0.1111111111111111,
              "#46039f"
             ],
             [
              0.2222222222222222,
              "#7201a8"
             ],
             [
              0.3333333333333333,
              "#9c179e"
             ],
             [
              0.4444444444444444,
              "#bd3786"
             ],
             [
              0.5555555555555556,
              "#d8576b"
             ],
             [
              0.6666666666666666,
              "#ed7953"
             ],
             [
              0.7777777777777778,
              "#fb9f3a"
             ],
             [
              0.8888888888888888,
              "#fdca26"
             ],
             [
              1,
              "#f0f921"
             ]
            ],
            "type": "histogram2dcontour"
           }
          ],
          "mesh3d": [
           {
            "colorbar": {
             "outlinewidth": 0,
             "ticks": ""
            },
            "type": "mesh3d"
           }
          ],
          "parcoords": [
           {
            "line": {
             "colorbar": {
              "outlinewidth": 0,
              "ticks": ""
             }
            },
            "type": "parcoords"
           }
          ],
          "pie": [
           {
            "automargin": true,
            "type": "pie"
           }
          ],
          "scatter": [
           {
            "marker": {
             "colorbar": {
              "outlinewidth": 0,
              "ticks": ""
             }
            },
            "type": "scatter"
           }
          ],
          "scatter3d": [
           {
            "line": {
             "colorbar": {
              "outlinewidth": 0,
              "ticks": ""
             }
            },
            "marker": {
             "colorbar": {
              "outlinewidth": 0,
              "ticks": ""
             }
            },
            "type": "scatter3d"
           }
          ],
          "scattercarpet": [
           {
            "marker": {
             "colorbar": {
              "outlinewidth": 0,
              "ticks": ""
             }
            },
            "type": "scattercarpet"
           }
          ],
          "scattergeo": [
           {
            "marker": {
             "colorbar": {
              "outlinewidth": 0,
              "ticks": ""
             }
            },
            "type": "scattergeo"
           }
          ],
          "scattergl": [
           {
            "marker": {
             "colorbar": {
              "outlinewidth": 0,
              "ticks": ""
             }
            },
            "type": "scattergl"
           }
          ],
          "scattermapbox": [
           {
            "marker": {
             "colorbar": {
              "outlinewidth": 0,
              "ticks": ""
             }
            },
            "type": "scattermapbox"
           }
          ],
          "scatterpolar": [
           {
            "marker": {
             "colorbar": {
              "outlinewidth": 0,
              "ticks": ""
             }
            },
            "type": "scatterpolar"
           }
          ],
          "scatterpolargl": [
           {
            "marker": {
             "colorbar": {
              "outlinewidth": 0,
              "ticks": ""
             }
            },
            "type": "scatterpolargl"
           }
          ],
          "scatterternary": [
           {
            "marker": {
             "colorbar": {
              "outlinewidth": 0,
              "ticks": ""
             }
            },
            "type": "scatterternary"
           }
          ],
          "surface": [
           {
            "colorbar": {
             "outlinewidth": 0,
             "ticks": ""
            },
            "colorscale": [
             [
              0,
              "#0d0887"
             ],
             [
              0.1111111111111111,
              "#46039f"
             ],
             [
              0.2222222222222222,
              "#7201a8"
             ],
             [
              0.3333333333333333,
              "#9c179e"
             ],
             [
              0.4444444444444444,
              "#bd3786"
             ],
             [
              0.5555555555555556,
              "#d8576b"
             ],
             [
              0.6666666666666666,
              "#ed7953"
             ],
             [
              0.7777777777777778,
              "#fb9f3a"
             ],
             [
              0.8888888888888888,
              "#fdca26"
             ],
             [
              1,
              "#f0f921"
             ]
            ],
            "type": "surface"
           }
          ],
          "table": [
           {
            "cells": {
             "fill": {
              "color": "#EBF0F8"
             },
             "line": {
              "color": "white"
             }
            },
            "header": {
             "fill": {
              "color": "#C8D4E3"
             },
             "line": {
              "color": "white"
             }
            },
            "type": "table"
           }
          ]
         },
         "layout": {
          "annotationdefaults": {
           "arrowcolor": "#2a3f5f",
           "arrowhead": 0,
           "arrowwidth": 1
          },
          "coloraxis": {
           "colorbar": {
            "outlinewidth": 0,
            "ticks": ""
           }
          },
          "colorscale": {
           "diverging": [
            [
             0,
             "#8e0152"
            ],
            [
             0.1,
             "#c51b7d"
            ],
            [
             0.2,
             "#de77ae"
            ],
            [
             0.3,
             "#f1b6da"
            ],
            [
             0.4,
             "#fde0ef"
            ],
            [
             0.5,
             "#f7f7f7"
            ],
            [
             0.6,
             "#e6f5d0"
            ],
            [
             0.7,
             "#b8e186"
            ],
            [
             0.8,
             "#7fbc41"
            ],
            [
             0.9,
             "#4d9221"
            ],
            [
             1,
             "#276419"
            ]
           ],
           "sequential": [
            [
             0,
             "#0d0887"
            ],
            [
             0.1111111111111111,
             "#46039f"
            ],
            [
             0.2222222222222222,
             "#7201a8"
            ],
            [
             0.3333333333333333,
             "#9c179e"
            ],
            [
             0.4444444444444444,
             "#bd3786"
            ],
            [
             0.5555555555555556,
             "#d8576b"
            ],
            [
             0.6666666666666666,
             "#ed7953"
            ],
            [
             0.7777777777777778,
             "#fb9f3a"
            ],
            [
             0.8888888888888888,
             "#fdca26"
            ],
            [
             1,
             "#f0f921"
            ]
           ],
           "sequentialminus": [
            [
             0,
             "#0d0887"
            ],
            [
             0.1111111111111111,
             "#46039f"
            ],
            [
             0.2222222222222222,
             "#7201a8"
            ],
            [
             0.3333333333333333,
             "#9c179e"
            ],
            [
             0.4444444444444444,
             "#bd3786"
            ],
            [
             0.5555555555555556,
             "#d8576b"
            ],
            [
             0.6666666666666666,
             "#ed7953"
            ],
            [
             0.7777777777777778,
             "#fb9f3a"
            ],
            [
             0.8888888888888888,
             "#fdca26"
            ],
            [
             1,
             "#f0f921"
            ]
           ]
          },
          "colorway": [
           "#636efa",
           "#EF553B",
           "#00cc96",
           "#ab63fa",
           "#FFA15A",
           "#19d3f3",
           "#FF6692",
           "#B6E880",
           "#FF97FF",
           "#FECB52"
          ],
          "font": {
           "color": "#2a3f5f"
          },
          "geo": {
           "bgcolor": "white",
           "lakecolor": "white",
           "landcolor": "#E5ECF6",
           "showlakes": true,
           "showland": true,
           "subunitcolor": "white"
          },
          "hoverlabel": {
           "align": "left"
          },
          "hovermode": "closest",
          "mapbox": {
           "style": "light"
          },
          "paper_bgcolor": "white",
          "plot_bgcolor": "#E5ECF6",
          "polar": {
           "angularaxis": {
            "gridcolor": "white",
            "linecolor": "white",
            "ticks": ""
           },
           "bgcolor": "#E5ECF6",
           "radialaxis": {
            "gridcolor": "white",
            "linecolor": "white",
            "ticks": ""
           }
          },
          "scene": {
           "xaxis": {
            "backgroundcolor": "#E5ECF6",
            "gridcolor": "white",
            "gridwidth": 2,
            "linecolor": "white",
            "showbackground": true,
            "ticks": "",
            "zerolinecolor": "white"
           },
           "yaxis": {
            "backgroundcolor": "#E5ECF6",
            "gridcolor": "white",
            "gridwidth": 2,
            "linecolor": "white",
            "showbackground": true,
            "ticks": "",
            "zerolinecolor": "white"
           },
           "zaxis": {
            "backgroundcolor": "#E5ECF6",
            "gridcolor": "white",
            "gridwidth": 2,
            "linecolor": "white",
            "showbackground": true,
            "ticks": "",
            "zerolinecolor": "white"
           }
          },
          "shapedefaults": {
           "line": {
            "color": "#2a3f5f"
           }
          },
          "ternary": {
           "aaxis": {
            "gridcolor": "white",
            "linecolor": "white",
            "ticks": ""
           },
           "baxis": {
            "gridcolor": "white",
            "linecolor": "white",
            "ticks": ""
           },
           "bgcolor": "#E5ECF6",
           "caxis": {
            "gridcolor": "white",
            "linecolor": "white",
            "ticks": ""
           }
          },
          "title": {
           "x": 0.05
          },
          "xaxis": {
           "automargin": true,
           "gridcolor": "white",
           "linecolor": "white",
           "ticks": "",
           "title": {
            "standoff": 15
           },
           "zerolinecolor": "white",
           "zerolinewidth": 2
          },
          "yaxis": {
           "automargin": true,
           "gridcolor": "white",
           "linecolor": "white",
           "ticks": "",
           "title": {
            "standoff": 15
           },
           "zerolinecolor": "white",
           "zerolinewidth": 2
          }
         }
        },
        "title": {
         "text": "Word Frequency"
        },
        "uniformtext": {
         "minsize": 8,
         "mode": "hide"
        },
        "xaxis": {
         "anchor": "y",
         "domain": [
          0,
          1
         ],
         "title": {
          "text": "Words"
         }
        },
        "yaxis": {
         "anchor": "x",
         "domain": [
          0,
          1
         ],
         "title": {
          "text": "Count"
         }
        }
       }
      },
      "text/html": [
       "<div>\n",
       "        \n",
       "        \n",
       "            <div id=\"aac1dcfc-1607-411c-9f10-fe0f695b8299\" class=\"plotly-graph-div\" style=\"height:525px; width:100%;\"></div>\n",
       "            <script type=\"text/javascript\">\n",
       "                require([\"plotly\"], function(Plotly) {\n",
       "                    window.PLOTLYENV=window.PLOTLYENV || {};\n",
       "                    \n",
       "                if (document.getElementById(\"aac1dcfc-1607-411c-9f10-fe0f695b8299\")) {\n",
       "                    Plotly.newPlot(\n",
       "                        'aac1dcfc-1607-411c-9f10-fe0f695b8299',\n",
       "                        [{\"alignmentgroup\": \"True\", \"hovertemplate\": \"Words=%{x}<br>Count=%{text}<extra></extra>\", \"legendgroup\": \"\", \"marker\": {\"color\": \"#636efa\"}, \"name\": \"\", \"offsetgroup\": \"\", \"orientation\": \"v\", \"showlegend\": false, \"text\": [335.0, 277.0, 127.0, 97.0, 81.0, 78.0, 75.0, 70.0, 66.0, 63.0], \"textposition\": \"outside\", \"texttemplate\": \"%{text:.2s}\", \"type\": \"bar\", \"x\": [\"dil\", \"o\", \"gul\", \"sar\", \"yak\", \"\\u0121ham\", \"dar\", \"mai\", \"ra\\u00f1g\", \"chashm\"], \"xaxis\": \"x\", \"y\": [335, 277, 127, 97, 81, 78, 75, 70, 66, 63], \"yaxis\": \"y\"}],\n",
       "                        {\"barmode\": \"relative\", \"legend\": {\"tracegroupgap\": 0}, \"margin\": {\"t\": 60}, \"template\": {\"data\": {\"bar\": [{\"error_x\": {\"color\": \"#2a3f5f\"}, \"error_y\": {\"color\": \"#2a3f5f\"}, \"marker\": {\"line\": {\"color\": \"#E5ECF6\", \"width\": 0.5}}, \"type\": \"bar\"}], \"barpolar\": [{\"marker\": {\"line\": {\"color\": \"#E5ECF6\", \"width\": 0.5}}, \"type\": \"barpolar\"}], \"carpet\": [{\"aaxis\": {\"endlinecolor\": \"#2a3f5f\", \"gridcolor\": \"white\", \"linecolor\": \"white\", \"minorgridcolor\": \"white\", \"startlinecolor\": \"#2a3f5f\"}, \"baxis\": {\"endlinecolor\": \"#2a3f5f\", \"gridcolor\": \"white\", \"linecolor\": \"white\", \"minorgridcolor\": \"white\", \"startlinecolor\": \"#2a3f5f\"}, \"type\": \"carpet\"}], \"choropleth\": [{\"colorbar\": {\"outlinewidth\": 0, \"ticks\": \"\"}, \"type\": \"choropleth\"}], \"contour\": [{\"colorbar\": {\"outlinewidth\": 0, \"ticks\": \"\"}, \"colorscale\": [[0.0, \"#0d0887\"], [0.1111111111111111, \"#46039f\"], [0.2222222222222222, \"#7201a8\"], [0.3333333333333333, \"#9c179e\"], [0.4444444444444444, \"#bd3786\"], [0.5555555555555556, \"#d8576b\"], [0.6666666666666666, \"#ed7953\"], [0.7777777777777778, \"#fb9f3a\"], [0.8888888888888888, \"#fdca26\"], [1.0, \"#f0f921\"]], \"type\": \"contour\"}], \"contourcarpet\": [{\"colorbar\": {\"outlinewidth\": 0, \"ticks\": \"\"}, \"type\": \"contourcarpet\"}], \"heatmap\": [{\"colorbar\": {\"outlinewidth\": 0, \"ticks\": \"\"}, \"colorscale\": [[0.0, \"#0d0887\"], [0.1111111111111111, \"#46039f\"], [0.2222222222222222, \"#7201a8\"], [0.3333333333333333, \"#9c179e\"], [0.4444444444444444, \"#bd3786\"], [0.5555555555555556, \"#d8576b\"], [0.6666666666666666, \"#ed7953\"], [0.7777777777777778, \"#fb9f3a\"], [0.8888888888888888, \"#fdca26\"], [1.0, \"#f0f921\"]], \"type\": \"heatmap\"}], \"heatmapgl\": [{\"colorbar\": {\"outlinewidth\": 0, \"ticks\": \"\"}, \"colorscale\": [[0.0, \"#0d0887\"], [0.1111111111111111, \"#46039f\"], [0.2222222222222222, \"#7201a8\"], [0.3333333333333333, \"#9c179e\"], [0.4444444444444444, \"#bd3786\"], [0.5555555555555556, \"#d8576b\"], [0.6666666666666666, \"#ed7953\"], [0.7777777777777778, \"#fb9f3a\"], [0.8888888888888888, \"#fdca26\"], [1.0, \"#f0f921\"]], \"type\": \"heatmapgl\"}], \"histogram\": [{\"marker\": {\"colorbar\": {\"outlinewidth\": 0, \"ticks\": \"\"}}, \"type\": \"histogram\"}], \"histogram2d\": [{\"colorbar\": {\"outlinewidth\": 0, \"ticks\": \"\"}, \"colorscale\": [[0.0, \"#0d0887\"], [0.1111111111111111, \"#46039f\"], [0.2222222222222222, \"#7201a8\"], [0.3333333333333333, \"#9c179e\"], [0.4444444444444444, \"#bd3786\"], [0.5555555555555556, \"#d8576b\"], [0.6666666666666666, \"#ed7953\"], [0.7777777777777778, \"#fb9f3a\"], [0.8888888888888888, \"#fdca26\"], [1.0, \"#f0f921\"]], \"type\": \"histogram2d\"}], \"histogram2dcontour\": [{\"colorbar\": {\"outlinewidth\": 0, \"ticks\": \"\"}, \"colorscale\": [[0.0, \"#0d0887\"], [0.1111111111111111, \"#46039f\"], [0.2222222222222222, \"#7201a8\"], [0.3333333333333333, \"#9c179e\"], [0.4444444444444444, \"#bd3786\"], [0.5555555555555556, \"#d8576b\"], [0.6666666666666666, \"#ed7953\"], [0.7777777777777778, \"#fb9f3a\"], [0.8888888888888888, \"#fdca26\"], [1.0, \"#f0f921\"]], \"type\": \"histogram2dcontour\"}], \"mesh3d\": [{\"colorbar\": {\"outlinewidth\": 0, \"ticks\": \"\"}, \"type\": \"mesh3d\"}], \"parcoords\": [{\"line\": {\"colorbar\": {\"outlinewidth\": 0, \"ticks\": \"\"}}, \"type\": \"parcoords\"}], \"pie\": [{\"automargin\": true, \"type\": \"pie\"}], \"scatter\": [{\"marker\": {\"colorbar\": {\"outlinewidth\": 0, \"ticks\": \"\"}}, \"type\": \"scatter\"}], \"scatter3d\": [{\"line\": {\"colorbar\": {\"outlinewidth\": 0, \"ticks\": \"\"}}, \"marker\": {\"colorbar\": {\"outlinewidth\": 0, \"ticks\": \"\"}}, \"type\": \"scatter3d\"}], \"scattercarpet\": [{\"marker\": {\"colorbar\": {\"outlinewidth\": 0, \"ticks\": \"\"}}, \"type\": \"scattercarpet\"}], \"scattergeo\": [{\"marker\": {\"colorbar\": {\"outlinewidth\": 0, \"ticks\": \"\"}}, \"type\": \"scattergeo\"}], \"scattergl\": [{\"marker\": {\"colorbar\": {\"outlinewidth\": 0, \"ticks\": \"\"}}, \"type\": \"scattergl\"}], \"scattermapbox\": [{\"marker\": {\"colorbar\": {\"outlinewidth\": 0, \"ticks\": \"\"}}, \"type\": \"scattermapbox\"}], \"scatterpolar\": [{\"marker\": {\"colorbar\": {\"outlinewidth\": 0, \"ticks\": \"\"}}, \"type\": \"scatterpolar\"}], \"scatterpolargl\": [{\"marker\": {\"colorbar\": {\"outlinewidth\": 0, \"ticks\": \"\"}}, \"type\": \"scatterpolargl\"}], \"scatterternary\": [{\"marker\": {\"colorbar\": {\"outlinewidth\": 0, \"ticks\": \"\"}}, \"type\": \"scatterternary\"}], \"surface\": [{\"colorbar\": {\"outlinewidth\": 0, \"ticks\": \"\"}, \"colorscale\": [[0.0, \"#0d0887\"], [0.1111111111111111, \"#46039f\"], [0.2222222222222222, \"#7201a8\"], [0.3333333333333333, \"#9c179e\"], [0.4444444444444444, \"#bd3786\"], [0.5555555555555556, \"#d8576b\"], [0.6666666666666666, \"#ed7953\"], [0.7777777777777778, \"#fb9f3a\"], [0.8888888888888888, \"#fdca26\"], [1.0, \"#f0f921\"]], \"type\": \"surface\"}], \"table\": [{\"cells\": {\"fill\": {\"color\": \"#EBF0F8\"}, \"line\": {\"color\": \"white\"}}, \"header\": {\"fill\": {\"color\": \"#C8D4E3\"}, \"line\": {\"color\": \"white\"}}, \"type\": \"table\"}]}, \"layout\": {\"annotationdefaults\": {\"arrowcolor\": \"#2a3f5f\", \"arrowhead\": 0, \"arrowwidth\": 1}, \"coloraxis\": {\"colorbar\": {\"outlinewidth\": 0, \"ticks\": \"\"}}, \"colorscale\": {\"diverging\": [[0, \"#8e0152\"], [0.1, \"#c51b7d\"], [0.2, \"#de77ae\"], [0.3, \"#f1b6da\"], [0.4, \"#fde0ef\"], [0.5, \"#f7f7f7\"], [0.6, \"#e6f5d0\"], [0.7, \"#b8e186\"], [0.8, \"#7fbc41\"], [0.9, \"#4d9221\"], [1, \"#276419\"]], \"sequential\": [[0.0, \"#0d0887\"], [0.1111111111111111, \"#46039f\"], [0.2222222222222222, \"#7201a8\"], [0.3333333333333333, \"#9c179e\"], [0.4444444444444444, \"#bd3786\"], [0.5555555555555556, \"#d8576b\"], [0.6666666666666666, \"#ed7953\"], [0.7777777777777778, \"#fb9f3a\"], [0.8888888888888888, \"#fdca26\"], [1.0, \"#f0f921\"]], \"sequentialminus\": [[0.0, \"#0d0887\"], [0.1111111111111111, \"#46039f\"], [0.2222222222222222, \"#7201a8\"], [0.3333333333333333, \"#9c179e\"], [0.4444444444444444, \"#bd3786\"], [0.5555555555555556, \"#d8576b\"], [0.6666666666666666, \"#ed7953\"], [0.7777777777777778, \"#fb9f3a\"], [0.8888888888888888, \"#fdca26\"], [1.0, \"#f0f921\"]]}, \"colorway\": [\"#636efa\", \"#EF553B\", \"#00cc96\", \"#ab63fa\", \"#FFA15A\", \"#19d3f3\", \"#FF6692\", \"#B6E880\", \"#FF97FF\", \"#FECB52\"], \"font\": {\"color\": \"#2a3f5f\"}, \"geo\": {\"bgcolor\": \"white\", \"lakecolor\": \"white\", \"landcolor\": \"#E5ECF6\", \"showlakes\": true, \"showland\": true, \"subunitcolor\": \"white\"}, \"hoverlabel\": {\"align\": \"left\"}, \"hovermode\": \"closest\", \"mapbox\": {\"style\": \"light\"}, \"paper_bgcolor\": \"white\", \"plot_bgcolor\": \"#E5ECF6\", \"polar\": {\"angularaxis\": {\"gridcolor\": \"white\", \"linecolor\": \"white\", \"ticks\": \"\"}, \"bgcolor\": \"#E5ECF6\", \"radialaxis\": {\"gridcolor\": \"white\", \"linecolor\": \"white\", \"ticks\": \"\"}}, \"scene\": {\"xaxis\": {\"backgroundcolor\": \"#E5ECF6\", \"gridcolor\": \"white\", \"gridwidth\": 2, \"linecolor\": \"white\", \"showbackground\": true, \"ticks\": \"\", \"zerolinecolor\": \"white\"}, \"yaxis\": {\"backgroundcolor\": \"#E5ECF6\", \"gridcolor\": \"white\", \"gridwidth\": 2, \"linecolor\": \"white\", \"showbackground\": true, \"ticks\": \"\", \"zerolinecolor\": \"white\"}, \"zaxis\": {\"backgroundcolor\": \"#E5ECF6\", \"gridcolor\": \"white\", \"gridwidth\": 2, \"linecolor\": \"white\", \"showbackground\": true, \"ticks\": \"\", \"zerolinecolor\": \"white\"}}, \"shapedefaults\": {\"line\": {\"color\": \"#2a3f5f\"}}, \"ternary\": {\"aaxis\": {\"gridcolor\": \"white\", \"linecolor\": \"white\", \"ticks\": \"\"}, \"baxis\": {\"gridcolor\": \"white\", \"linecolor\": \"white\", \"ticks\": \"\"}, \"bgcolor\": \"#E5ECF6\", \"caxis\": {\"gridcolor\": \"white\", \"linecolor\": \"white\", \"ticks\": \"\"}}, \"title\": {\"x\": 0.05}, \"xaxis\": {\"automargin\": true, \"gridcolor\": \"white\", \"linecolor\": \"white\", \"ticks\": \"\", \"title\": {\"standoff\": 15}, \"zerolinecolor\": \"white\", \"zerolinewidth\": 2}, \"yaxis\": {\"automargin\": true, \"gridcolor\": \"white\", \"linecolor\": \"white\", \"ticks\": \"\", \"title\": {\"standoff\": 15}, \"zerolinecolor\": \"white\", \"zerolinewidth\": 2}}}, \"title\": {\"text\": \"Word Frequency\"}, \"uniformtext\": {\"minsize\": 8, \"mode\": \"hide\"}, \"xaxis\": {\"anchor\": \"y\", \"domain\": [0.0, 1.0], \"title\": {\"text\": \"Words\"}}, \"yaxis\": {\"anchor\": \"x\", \"domain\": [0.0, 1.0], \"title\": {\"text\": \"Count\"}}},\n",
       "                        {\"responsive\": true}\n",
       "                    ).then(function(){\n",
       "                            \n",
       "var gd = document.getElementById('aac1dcfc-1607-411c-9f10-fe0f695b8299');\n",
       "var x = new MutationObserver(function (mutations, observer) {{\n",
       "        var display = window.getComputedStyle(gd).display;\n",
       "        if (!display || display === 'none') {{\n",
       "            console.log([gd, 'removed!']);\n",
       "            Plotly.purge(gd);\n",
       "            observer.disconnect();\n",
       "        }}\n",
       "}});\n",
       "\n",
       "// Listen for the removal of the full notebook cells\n",
       "var notebookContainer = gd.closest('#notebook-container');\n",
       "if (notebookContainer) {{\n",
       "    x.observe(notebookContainer, {childList: true});\n",
       "}}\n",
       "\n",
       "// Listen for the clearing of the current output cell\n",
       "var outputEl = gd.closest('.output');\n",
       "if (outputEl) {{\n",
       "    x.observe(outputEl, {childList: true});\n",
       "}}\n",
       "\n",
       "                        })\n",
       "                };\n",
       "                });\n",
       "            </script>\n",
       "        </div>"
      ]
     },
     "metadata": {},
     "output_type": "display_data"
    }
   ],
   "source": [
    "plotWordFrequencies(df1,10)"
   ]
  },
  {
   "cell_type": "code",
   "execution_count": 100,
   "metadata": {},
   "outputs": [
    {
     "data": {
      "application/vnd.plotly.v1+json": {
       "config": {
        "plotlyServerURL": "https://plot.ly"
       },
       "data": [
        {
         "marker": {
          "color": "indianred"
         },
         "name": "mirza-ghalib",
         "type": "bar",
         "x": [
          "o",
          "gul",
          "sar",
          "yak",
          "ġham",
          "dar",
          "mai",
          "rañg",
          "chashm",
          "ishq"
         ],
         "y": [
          277,
          127,
          97,
          81,
          78,
          75,
          70,
          66,
          63,
          62
         ]
        },
        {
         "marker": {
          "color": "lightsalmon"
         },
         "name": "meer-taqi-meer",
         "type": "bar",
         "x": [
          "o",
          "gul",
          "sar",
          "yak",
          "ġham",
          "dar",
          "mai",
          "rañg",
          "chashm",
          "ishq"
         ],
         "y": [
          374,
          145,
          157,
          54,
          97,
          37,
          42,
          53,
          103,
          191
         ]
        }
       ],
       "layout": {
        "barmode": "group",
        "template": {
         "data": {
          "bar": [
           {
            "error_x": {
             "color": "#2a3f5f"
            },
            "error_y": {
             "color": "#2a3f5f"
            },
            "marker": {
             "line": {
              "color": "#E5ECF6",
              "width": 0.5
             }
            },
            "type": "bar"
           }
          ],
          "barpolar": [
           {
            "marker": {
             "line": {
              "color": "#E5ECF6",
              "width": 0.5
             }
            },
            "type": "barpolar"
           }
          ],
          "carpet": [
           {
            "aaxis": {
             "endlinecolor": "#2a3f5f",
             "gridcolor": "white",
             "linecolor": "white",
             "minorgridcolor": "white",
             "startlinecolor": "#2a3f5f"
            },
            "baxis": {
             "endlinecolor": "#2a3f5f",
             "gridcolor": "white",
             "linecolor": "white",
             "minorgridcolor": "white",
             "startlinecolor": "#2a3f5f"
            },
            "type": "carpet"
           }
          ],
          "choropleth": [
           {
            "colorbar": {
             "outlinewidth": 0,
             "ticks": ""
            },
            "type": "choropleth"
           }
          ],
          "contour": [
           {
            "colorbar": {
             "outlinewidth": 0,
             "ticks": ""
            },
            "colorscale": [
             [
              0,
              "#0d0887"
             ],
             [
              0.1111111111111111,
              "#46039f"
             ],
             [
              0.2222222222222222,
              "#7201a8"
             ],
             [
              0.3333333333333333,
              "#9c179e"
             ],
             [
              0.4444444444444444,
              "#bd3786"
             ],
             [
              0.5555555555555556,
              "#d8576b"
             ],
             [
              0.6666666666666666,
              "#ed7953"
             ],
             [
              0.7777777777777778,
              "#fb9f3a"
             ],
             [
              0.8888888888888888,
              "#fdca26"
             ],
             [
              1,
              "#f0f921"
             ]
            ],
            "type": "contour"
           }
          ],
          "contourcarpet": [
           {
            "colorbar": {
             "outlinewidth": 0,
             "ticks": ""
            },
            "type": "contourcarpet"
           }
          ],
          "heatmap": [
           {
            "colorbar": {
             "outlinewidth": 0,
             "ticks": ""
            },
            "colorscale": [
             [
              0,
              "#0d0887"
             ],
             [
              0.1111111111111111,
              "#46039f"
             ],
             [
              0.2222222222222222,
              "#7201a8"
             ],
             [
              0.3333333333333333,
              "#9c179e"
             ],
             [
              0.4444444444444444,
              "#bd3786"
             ],
             [
              0.5555555555555556,
              "#d8576b"
             ],
             [
              0.6666666666666666,
              "#ed7953"
             ],
             [
              0.7777777777777778,
              "#fb9f3a"
             ],
             [
              0.8888888888888888,
              "#fdca26"
             ],
             [
              1,
              "#f0f921"
             ]
            ],
            "type": "heatmap"
           }
          ],
          "heatmapgl": [
           {
            "colorbar": {
             "outlinewidth": 0,
             "ticks": ""
            },
            "colorscale": [
             [
              0,
              "#0d0887"
             ],
             [
              0.1111111111111111,
              "#46039f"
             ],
             [
              0.2222222222222222,
              "#7201a8"
             ],
             [
              0.3333333333333333,
              "#9c179e"
             ],
             [
              0.4444444444444444,
              "#bd3786"
             ],
             [
              0.5555555555555556,
              "#d8576b"
             ],
             [
              0.6666666666666666,
              "#ed7953"
             ],
             [
              0.7777777777777778,
              "#fb9f3a"
             ],
             [
              0.8888888888888888,
              "#fdca26"
             ],
             [
              1,
              "#f0f921"
             ]
            ],
            "type": "heatmapgl"
           }
          ],
          "histogram": [
           {
            "marker": {
             "colorbar": {
              "outlinewidth": 0,
              "ticks": ""
             }
            },
            "type": "histogram"
           }
          ],
          "histogram2d": [
           {
            "colorbar": {
             "outlinewidth": 0,
             "ticks": ""
            },
            "colorscale": [
             [
              0,
              "#0d0887"
             ],
             [
              0.1111111111111111,
              "#46039f"
             ],
             [
              0.2222222222222222,
              "#7201a8"
             ],
             [
              0.3333333333333333,
              "#9c179e"
             ],
             [
              0.4444444444444444,
              "#bd3786"
             ],
             [
              0.5555555555555556,
              "#d8576b"
             ],
             [
              0.6666666666666666,
              "#ed7953"
             ],
             [
              0.7777777777777778,
              "#fb9f3a"
             ],
             [
              0.8888888888888888,
              "#fdca26"
             ],
             [
              1,
              "#f0f921"
             ]
            ],
            "type": "histogram2d"
           }
          ],
          "histogram2dcontour": [
           {
            "colorbar": {
             "outlinewidth": 0,
             "ticks": ""
            },
            "colorscale": [
             [
              0,
              "#0d0887"
             ],
             [
              0.1111111111111111,
              "#46039f"
             ],
             [
              0.2222222222222222,
              "#7201a8"
             ],
             [
              0.3333333333333333,
              "#9c179e"
             ],
             [
              0.4444444444444444,
              "#bd3786"
             ],
             [
              0.5555555555555556,
              "#d8576b"
             ],
             [
              0.6666666666666666,
              "#ed7953"
             ],
             [
              0.7777777777777778,
              "#fb9f3a"
             ],
             [
              0.8888888888888888,
              "#fdca26"
             ],
             [
              1,
              "#f0f921"
             ]
            ],
            "type": "histogram2dcontour"
           }
          ],
          "mesh3d": [
           {
            "colorbar": {
             "outlinewidth": 0,
             "ticks": ""
            },
            "type": "mesh3d"
           }
          ],
          "parcoords": [
           {
            "line": {
             "colorbar": {
              "outlinewidth": 0,
              "ticks": ""
             }
            },
            "type": "parcoords"
           }
          ],
          "pie": [
           {
            "automargin": true,
            "type": "pie"
           }
          ],
          "scatter": [
           {
            "marker": {
             "colorbar": {
              "outlinewidth": 0,
              "ticks": ""
             }
            },
            "type": "scatter"
           }
          ],
          "scatter3d": [
           {
            "line": {
             "colorbar": {
              "outlinewidth": 0,
              "ticks": ""
             }
            },
            "marker": {
             "colorbar": {
              "outlinewidth": 0,
              "ticks": ""
             }
            },
            "type": "scatter3d"
           }
          ],
          "scattercarpet": [
           {
            "marker": {
             "colorbar": {
              "outlinewidth": 0,
              "ticks": ""
             }
            },
            "type": "scattercarpet"
           }
          ],
          "scattergeo": [
           {
            "marker": {
             "colorbar": {
              "outlinewidth": 0,
              "ticks": ""
             }
            },
            "type": "scattergeo"
           }
          ],
          "scattergl": [
           {
            "marker": {
             "colorbar": {
              "outlinewidth": 0,
              "ticks": ""
             }
            },
            "type": "scattergl"
           }
          ],
          "scattermapbox": [
           {
            "marker": {
             "colorbar": {
              "outlinewidth": 0,
              "ticks": ""
             }
            },
            "type": "scattermapbox"
           }
          ],
          "scatterpolar": [
           {
            "marker": {
             "colorbar": {
              "outlinewidth": 0,
              "ticks": ""
             }
            },
            "type": "scatterpolar"
           }
          ],
          "scatterpolargl": [
           {
            "marker": {
             "colorbar": {
              "outlinewidth": 0,
              "ticks": ""
             }
            },
            "type": "scatterpolargl"
           }
          ],
          "scatterternary": [
           {
            "marker": {
             "colorbar": {
              "outlinewidth": 0,
              "ticks": ""
             }
            },
            "type": "scatterternary"
           }
          ],
          "surface": [
           {
            "colorbar": {
             "outlinewidth": 0,
             "ticks": ""
            },
            "colorscale": [
             [
              0,
              "#0d0887"
             ],
             [
              0.1111111111111111,
              "#46039f"
             ],
             [
              0.2222222222222222,
              "#7201a8"
             ],
             [
              0.3333333333333333,
              "#9c179e"
             ],
             [
              0.4444444444444444,
              "#bd3786"
             ],
             [
              0.5555555555555556,
              "#d8576b"
             ],
             [
              0.6666666666666666,
              "#ed7953"
             ],
             [
              0.7777777777777778,
              "#fb9f3a"
             ],
             [
              0.8888888888888888,
              "#fdca26"
             ],
             [
              1,
              "#f0f921"
             ]
            ],
            "type": "surface"
           }
          ],
          "table": [
           {
            "cells": {
             "fill": {
              "color": "#EBF0F8"
             },
             "line": {
              "color": "white"
             }
            },
            "header": {
             "fill": {
              "color": "#C8D4E3"
             },
             "line": {
              "color": "white"
             }
            },
            "type": "table"
           }
          ]
         },
         "layout": {
          "annotationdefaults": {
           "arrowcolor": "#2a3f5f",
           "arrowhead": 0,
           "arrowwidth": 1
          },
          "coloraxis": {
           "colorbar": {
            "outlinewidth": 0,
            "ticks": ""
           }
          },
          "colorscale": {
           "diverging": [
            [
             0,
             "#8e0152"
            ],
            [
             0.1,
             "#c51b7d"
            ],
            [
             0.2,
             "#de77ae"
            ],
            [
             0.3,
             "#f1b6da"
            ],
            [
             0.4,
             "#fde0ef"
            ],
            [
             0.5,
             "#f7f7f7"
            ],
            [
             0.6,
             "#e6f5d0"
            ],
            [
             0.7,
             "#b8e186"
            ],
            [
             0.8,
             "#7fbc41"
            ],
            [
             0.9,
             "#4d9221"
            ],
            [
             1,
             "#276419"
            ]
           ],
           "sequential": [
            [
             0,
             "#0d0887"
            ],
            [
             0.1111111111111111,
             "#46039f"
            ],
            [
             0.2222222222222222,
             "#7201a8"
            ],
            [
             0.3333333333333333,
             "#9c179e"
            ],
            [
             0.4444444444444444,
             "#bd3786"
            ],
            [
             0.5555555555555556,
             "#d8576b"
            ],
            [
             0.6666666666666666,
             "#ed7953"
            ],
            [
             0.7777777777777778,
             "#fb9f3a"
            ],
            [
             0.8888888888888888,
             "#fdca26"
            ],
            [
             1,
             "#f0f921"
            ]
           ],
           "sequentialminus": [
            [
             0,
             "#0d0887"
            ],
            [
             0.1111111111111111,
             "#46039f"
            ],
            [
             0.2222222222222222,
             "#7201a8"
            ],
            [
             0.3333333333333333,
             "#9c179e"
            ],
            [
             0.4444444444444444,
             "#bd3786"
            ],
            [
             0.5555555555555556,
             "#d8576b"
            ],
            [
             0.6666666666666666,
             "#ed7953"
            ],
            [
             0.7777777777777778,
             "#fb9f3a"
            ],
            [
             0.8888888888888888,
             "#fdca26"
            ],
            [
             1,
             "#f0f921"
            ]
           ]
          },
          "colorway": [
           "#636efa",
           "#EF553B",
           "#00cc96",
           "#ab63fa",
           "#FFA15A",
           "#19d3f3",
           "#FF6692",
           "#B6E880",
           "#FF97FF",
           "#FECB52"
          ],
          "font": {
           "color": "#2a3f5f"
          },
          "geo": {
           "bgcolor": "white",
           "lakecolor": "white",
           "landcolor": "#E5ECF6",
           "showlakes": true,
           "showland": true,
           "subunitcolor": "white"
          },
          "hoverlabel": {
           "align": "left"
          },
          "hovermode": "closest",
          "mapbox": {
           "style": "light"
          },
          "paper_bgcolor": "white",
          "plot_bgcolor": "#E5ECF6",
          "polar": {
           "angularaxis": {
            "gridcolor": "white",
            "linecolor": "white",
            "ticks": ""
           },
           "bgcolor": "#E5ECF6",
           "radialaxis": {
            "gridcolor": "white",
            "linecolor": "white",
            "ticks": ""
           }
          },
          "scene": {
           "xaxis": {
            "backgroundcolor": "#E5ECF6",
            "gridcolor": "white",
            "gridwidth": 2,
            "linecolor": "white",
            "showbackground": true,
            "ticks": "",
            "zerolinecolor": "white"
           },
           "yaxis": {
            "backgroundcolor": "#E5ECF6",
            "gridcolor": "white",
            "gridwidth": 2,
            "linecolor": "white",
            "showbackground": true,
            "ticks": "",
            "zerolinecolor": "white"
           },
           "zaxis": {
            "backgroundcolor": "#E5ECF6",
            "gridcolor": "white",
            "gridwidth": 2,
            "linecolor": "white",
            "showbackground": true,
            "ticks": "",
            "zerolinecolor": "white"
           }
          },
          "shapedefaults": {
           "line": {
            "color": "#2a3f5f"
           }
          },
          "ternary": {
           "aaxis": {
            "gridcolor": "white",
            "linecolor": "white",
            "ticks": ""
           },
           "baxis": {
            "gridcolor": "white",
            "linecolor": "white",
            "ticks": ""
           },
           "bgcolor": "#E5ECF6",
           "caxis": {
            "gridcolor": "white",
            "linecolor": "white",
            "ticks": ""
           }
          },
          "title": {
           "x": 0.05
          },
          "xaxis": {
           "automargin": true,
           "gridcolor": "white",
           "linecolor": "white",
           "ticks": "",
           "title": {
            "standoff": 15
           },
           "zerolinecolor": "white",
           "zerolinewidth": 2
          },
          "yaxis": {
           "automargin": true,
           "gridcolor": "white",
           "linecolor": "white",
           "ticks": "",
           "title": {
            "standoff": 15
           },
           "zerolinecolor": "white",
           "zerolinewidth": 2
          }
         }
        },
        "title": {
         "text": "Word Frequency Comparison of Top:10 words"
        },
        "xaxis": {
         "tickangle": -45,
         "title": {
          "text": "Words"
         }
        },
        "yaxis": {
         "title": {
          "text": "Count"
         }
        }
       }
      },
      "text/html": [
       "<div>\n",
       "        \n",
       "        \n",
       "            <div id=\"29ad19b6-50a2-4d3d-b98e-f9b1683f14c9\" class=\"plotly-graph-div\" style=\"height:525px; width:100%;\"></div>\n",
       "            <script type=\"text/javascript\">\n",
       "                require([\"plotly\"], function(Plotly) {\n",
       "                    window.PLOTLYENV=window.PLOTLYENV || {};\n",
       "                    \n",
       "                if (document.getElementById(\"29ad19b6-50a2-4d3d-b98e-f9b1683f14c9\")) {\n",
       "                    Plotly.newPlot(\n",
       "                        '29ad19b6-50a2-4d3d-b98e-f9b1683f14c9',\n",
       "                        [{\"marker\": {\"color\": \"indianred\"}, \"name\": \"mirza-ghalib\", \"type\": \"bar\", \"x\": [\"o\", \"gul\", \"sar\", \"yak\", \"\\u0121ham\", \"dar\", \"mai\", \"ra\\u00f1g\", \"chashm\", \"ishq\"], \"y\": [277.0, 127.0, 97.0, 81.0, 78.0, 75.0, 70.0, 66.0, 63.0, 62.0]}, {\"marker\": {\"color\": \"lightsalmon\"}, \"name\": \"meer-taqi-meer\", \"type\": \"bar\", \"x\": [\"o\", \"gul\", \"sar\", \"yak\", \"\\u0121ham\", \"dar\", \"mai\", \"ra\\u00f1g\", \"chashm\", \"ishq\"], \"y\": [374.0, 145.0, 157.0, 54.0, 97.0, 37.0, 42.0, 53.0, 103.0, 191.0]}],\n",
       "                        {\"barmode\": \"group\", \"template\": {\"data\": {\"bar\": [{\"error_x\": {\"color\": \"#2a3f5f\"}, \"error_y\": {\"color\": \"#2a3f5f\"}, \"marker\": {\"line\": {\"color\": \"#E5ECF6\", \"width\": 0.5}}, \"type\": \"bar\"}], \"barpolar\": [{\"marker\": {\"line\": {\"color\": \"#E5ECF6\", \"width\": 0.5}}, \"type\": \"barpolar\"}], \"carpet\": [{\"aaxis\": {\"endlinecolor\": \"#2a3f5f\", \"gridcolor\": \"white\", \"linecolor\": \"white\", \"minorgridcolor\": \"white\", \"startlinecolor\": \"#2a3f5f\"}, \"baxis\": {\"endlinecolor\": \"#2a3f5f\", \"gridcolor\": \"white\", \"linecolor\": \"white\", \"minorgridcolor\": \"white\", \"startlinecolor\": \"#2a3f5f\"}, \"type\": \"carpet\"}], \"choropleth\": [{\"colorbar\": {\"outlinewidth\": 0, \"ticks\": \"\"}, \"type\": \"choropleth\"}], \"contour\": [{\"colorbar\": {\"outlinewidth\": 0, \"ticks\": \"\"}, \"colorscale\": [[0.0, \"#0d0887\"], [0.1111111111111111, \"#46039f\"], [0.2222222222222222, \"#7201a8\"], [0.3333333333333333, \"#9c179e\"], [0.4444444444444444, \"#bd3786\"], [0.5555555555555556, \"#d8576b\"], [0.6666666666666666, \"#ed7953\"], [0.7777777777777778, \"#fb9f3a\"], [0.8888888888888888, \"#fdca26\"], [1.0, \"#f0f921\"]], \"type\": \"contour\"}], \"contourcarpet\": [{\"colorbar\": {\"outlinewidth\": 0, \"ticks\": \"\"}, \"type\": \"contourcarpet\"}], \"heatmap\": [{\"colorbar\": {\"outlinewidth\": 0, \"ticks\": \"\"}, \"colorscale\": [[0.0, \"#0d0887\"], [0.1111111111111111, \"#46039f\"], [0.2222222222222222, \"#7201a8\"], [0.3333333333333333, \"#9c179e\"], [0.4444444444444444, \"#bd3786\"], [0.5555555555555556, \"#d8576b\"], [0.6666666666666666, \"#ed7953\"], [0.7777777777777778, \"#fb9f3a\"], [0.8888888888888888, \"#fdca26\"], [1.0, \"#f0f921\"]], \"type\": \"heatmap\"}], \"heatmapgl\": [{\"colorbar\": {\"outlinewidth\": 0, \"ticks\": \"\"}, \"colorscale\": [[0.0, \"#0d0887\"], [0.1111111111111111, \"#46039f\"], [0.2222222222222222, \"#7201a8\"], [0.3333333333333333, \"#9c179e\"], [0.4444444444444444, \"#bd3786\"], [0.5555555555555556, \"#d8576b\"], [0.6666666666666666, \"#ed7953\"], [0.7777777777777778, \"#fb9f3a\"], [0.8888888888888888, \"#fdca26\"], [1.0, \"#f0f921\"]], \"type\": \"heatmapgl\"}], \"histogram\": [{\"marker\": {\"colorbar\": {\"outlinewidth\": 0, \"ticks\": \"\"}}, \"type\": \"histogram\"}], \"histogram2d\": [{\"colorbar\": {\"outlinewidth\": 0, \"ticks\": \"\"}, \"colorscale\": [[0.0, \"#0d0887\"], [0.1111111111111111, \"#46039f\"], [0.2222222222222222, \"#7201a8\"], [0.3333333333333333, \"#9c179e\"], [0.4444444444444444, \"#bd3786\"], [0.5555555555555556, \"#d8576b\"], [0.6666666666666666, \"#ed7953\"], [0.7777777777777778, \"#fb9f3a\"], [0.8888888888888888, \"#fdca26\"], [1.0, \"#f0f921\"]], \"type\": \"histogram2d\"}], \"histogram2dcontour\": [{\"colorbar\": {\"outlinewidth\": 0, \"ticks\": \"\"}, \"colorscale\": [[0.0, \"#0d0887\"], [0.1111111111111111, \"#46039f\"], [0.2222222222222222, \"#7201a8\"], [0.3333333333333333, \"#9c179e\"], [0.4444444444444444, \"#bd3786\"], [0.5555555555555556, \"#d8576b\"], [0.6666666666666666, \"#ed7953\"], [0.7777777777777778, \"#fb9f3a\"], [0.8888888888888888, \"#fdca26\"], [1.0, \"#f0f921\"]], \"type\": \"histogram2dcontour\"}], \"mesh3d\": [{\"colorbar\": {\"outlinewidth\": 0, \"ticks\": \"\"}, \"type\": \"mesh3d\"}], \"parcoords\": [{\"line\": {\"colorbar\": {\"outlinewidth\": 0, \"ticks\": \"\"}}, \"type\": \"parcoords\"}], \"pie\": [{\"automargin\": true, \"type\": \"pie\"}], \"scatter\": [{\"marker\": {\"colorbar\": {\"outlinewidth\": 0, \"ticks\": \"\"}}, \"type\": \"scatter\"}], \"scatter3d\": [{\"line\": {\"colorbar\": {\"outlinewidth\": 0, \"ticks\": \"\"}}, \"marker\": {\"colorbar\": {\"outlinewidth\": 0, \"ticks\": \"\"}}, \"type\": \"scatter3d\"}], \"scattercarpet\": [{\"marker\": {\"colorbar\": {\"outlinewidth\": 0, \"ticks\": \"\"}}, \"type\": \"scattercarpet\"}], \"scattergeo\": [{\"marker\": {\"colorbar\": {\"outlinewidth\": 0, \"ticks\": \"\"}}, \"type\": \"scattergeo\"}], \"scattergl\": [{\"marker\": {\"colorbar\": {\"outlinewidth\": 0, \"ticks\": \"\"}}, \"type\": \"scattergl\"}], \"scattermapbox\": [{\"marker\": {\"colorbar\": {\"outlinewidth\": 0, \"ticks\": \"\"}}, \"type\": \"scattermapbox\"}], \"scatterpolar\": [{\"marker\": {\"colorbar\": {\"outlinewidth\": 0, \"ticks\": \"\"}}, \"type\": \"scatterpolar\"}], \"scatterpolargl\": [{\"marker\": {\"colorbar\": {\"outlinewidth\": 0, \"ticks\": \"\"}}, \"type\": \"scatterpolargl\"}], \"scatterternary\": [{\"marker\": {\"colorbar\": {\"outlinewidth\": 0, \"ticks\": \"\"}}, \"type\": \"scatterternary\"}], \"surface\": [{\"colorbar\": {\"outlinewidth\": 0, \"ticks\": \"\"}, \"colorscale\": [[0.0, \"#0d0887\"], [0.1111111111111111, \"#46039f\"], [0.2222222222222222, \"#7201a8\"], [0.3333333333333333, \"#9c179e\"], [0.4444444444444444, \"#bd3786\"], [0.5555555555555556, \"#d8576b\"], [0.6666666666666666, \"#ed7953\"], [0.7777777777777778, \"#fb9f3a\"], [0.8888888888888888, \"#fdca26\"], [1.0, \"#f0f921\"]], \"type\": \"surface\"}], \"table\": [{\"cells\": {\"fill\": {\"color\": \"#EBF0F8\"}, \"line\": {\"color\": \"white\"}}, \"header\": {\"fill\": {\"color\": \"#C8D4E3\"}, \"line\": {\"color\": \"white\"}}, \"type\": \"table\"}]}, \"layout\": {\"annotationdefaults\": {\"arrowcolor\": \"#2a3f5f\", \"arrowhead\": 0, \"arrowwidth\": 1}, \"coloraxis\": {\"colorbar\": {\"outlinewidth\": 0, \"ticks\": \"\"}}, \"colorscale\": {\"diverging\": [[0, \"#8e0152\"], [0.1, \"#c51b7d\"], [0.2, \"#de77ae\"], [0.3, \"#f1b6da\"], [0.4, \"#fde0ef\"], [0.5, \"#f7f7f7\"], [0.6, \"#e6f5d0\"], [0.7, \"#b8e186\"], [0.8, \"#7fbc41\"], [0.9, \"#4d9221\"], [1, \"#276419\"]], \"sequential\": [[0.0, \"#0d0887\"], [0.1111111111111111, \"#46039f\"], [0.2222222222222222, \"#7201a8\"], [0.3333333333333333, \"#9c179e\"], [0.4444444444444444, \"#bd3786\"], [0.5555555555555556, \"#d8576b\"], [0.6666666666666666, \"#ed7953\"], [0.7777777777777778, \"#fb9f3a\"], [0.8888888888888888, \"#fdca26\"], [1.0, \"#f0f921\"]], \"sequentialminus\": [[0.0, \"#0d0887\"], [0.1111111111111111, \"#46039f\"], [0.2222222222222222, \"#7201a8\"], [0.3333333333333333, \"#9c179e\"], [0.4444444444444444, \"#bd3786\"], [0.5555555555555556, \"#d8576b\"], [0.6666666666666666, \"#ed7953\"], [0.7777777777777778, \"#fb9f3a\"], [0.8888888888888888, \"#fdca26\"], [1.0, \"#f0f921\"]]}, \"colorway\": [\"#636efa\", \"#EF553B\", \"#00cc96\", \"#ab63fa\", \"#FFA15A\", \"#19d3f3\", \"#FF6692\", \"#B6E880\", \"#FF97FF\", \"#FECB52\"], \"font\": {\"color\": \"#2a3f5f\"}, \"geo\": {\"bgcolor\": \"white\", \"lakecolor\": \"white\", \"landcolor\": \"#E5ECF6\", \"showlakes\": true, \"showland\": true, \"subunitcolor\": \"white\"}, \"hoverlabel\": {\"align\": \"left\"}, \"hovermode\": \"closest\", \"mapbox\": {\"style\": \"light\"}, \"paper_bgcolor\": \"white\", \"plot_bgcolor\": \"#E5ECF6\", \"polar\": {\"angularaxis\": {\"gridcolor\": \"white\", \"linecolor\": \"white\", \"ticks\": \"\"}, \"bgcolor\": \"#E5ECF6\", \"radialaxis\": {\"gridcolor\": \"white\", \"linecolor\": \"white\", \"ticks\": \"\"}}, \"scene\": {\"xaxis\": {\"backgroundcolor\": \"#E5ECF6\", \"gridcolor\": \"white\", \"gridwidth\": 2, \"linecolor\": \"white\", \"showbackground\": true, \"ticks\": \"\", \"zerolinecolor\": \"white\"}, \"yaxis\": {\"backgroundcolor\": \"#E5ECF6\", \"gridcolor\": \"white\", \"gridwidth\": 2, \"linecolor\": \"white\", \"showbackground\": true, \"ticks\": \"\", \"zerolinecolor\": \"white\"}, \"zaxis\": {\"backgroundcolor\": \"#E5ECF6\", \"gridcolor\": \"white\", \"gridwidth\": 2, \"linecolor\": \"white\", \"showbackground\": true, \"ticks\": \"\", \"zerolinecolor\": \"white\"}}, \"shapedefaults\": {\"line\": {\"color\": \"#2a3f5f\"}}, \"ternary\": {\"aaxis\": {\"gridcolor\": \"white\", \"linecolor\": \"white\", \"ticks\": \"\"}, \"baxis\": {\"gridcolor\": \"white\", \"linecolor\": \"white\", \"ticks\": \"\"}, \"bgcolor\": \"#E5ECF6\", \"caxis\": {\"gridcolor\": \"white\", \"linecolor\": \"white\", \"ticks\": \"\"}}, \"title\": {\"x\": 0.05}, \"xaxis\": {\"automargin\": true, \"gridcolor\": \"white\", \"linecolor\": \"white\", \"ticks\": \"\", \"title\": {\"standoff\": 15}, \"zerolinecolor\": \"white\", \"zerolinewidth\": 2}, \"yaxis\": {\"automargin\": true, \"gridcolor\": \"white\", \"linecolor\": \"white\", \"ticks\": \"\", \"title\": {\"standoff\": 15}, \"zerolinecolor\": \"white\", \"zerolinewidth\": 2}}}, \"title\": {\"text\": \"Word Frequency Comparison of Top:10 words\"}, \"xaxis\": {\"tickangle\": -45, \"title\": {\"text\": \"Words\"}}, \"yaxis\": {\"title\": {\"text\": \"Count\"}}},\n",
       "                        {\"responsive\": true}\n",
       "                    ).then(function(){\n",
       "                            \n",
       "var gd = document.getElementById('29ad19b6-50a2-4d3d-b98e-f9b1683f14c9');\n",
       "var x = new MutationObserver(function (mutations, observer) {{\n",
       "        var display = window.getComputedStyle(gd).display;\n",
       "        if (!display || display === 'none') {{\n",
       "            console.log([gd, 'removed!']);\n",
       "            Plotly.purge(gd);\n",
       "            observer.disconnect();\n",
       "        }}\n",
       "}});\n",
       "\n",
       "// Listen for the removal of the full notebook cells\n",
       "var notebookContainer = gd.closest('#notebook-container');\n",
       "if (notebookContainer) {{\n",
       "    x.observe(notebookContainer, {childList: true});\n",
       "}}\n",
       "\n",
       "// Listen for the clearing of the current output cell\n",
       "var outputEl = gd.closest('.output');\n",
       "if (outputEl) {{\n",
       "    x.observe(outputEl, {childList: true});\n",
       "}}\n",
       "\n",
       "                        })\n",
       "                };\n",
       "                });\n",
       "            </script>\n",
       "        </div>"
      ]
     },
     "metadata": {},
     "output_type": "display_data"
    }
   ],
   "source": [
    "wordFrequencyComparisions(merged_words_df,10)"
   ]
  },
  {
   "cell_type": "code",
   "execution_count": 101,
   "metadata": {},
   "outputs": [
    {
     "data": {
      "application/vnd.plotly.v1+json": {
       "config": {
        "plotlyServerURL": "https://plot.ly"
       },
       "data": [
        {
         "hovertemplate": "<b>%{hovertext}</b><br><br>Poet=a-g-josh<br>Total Words Used=%{marker.size}<br>Vocabulary Set=%{y}<extra></extra>",
         "hovertext": [
          "a-g-josh"
         ],
         "legendgroup": "a-g-josh",
         "marker": {
          "color": "#636efa",
          "size": [
           700
          ],
          "sizemode": "area",
          "sizeref": 1.37,
          "symbol": "circle"
         },
         "mode": "markers",
         "name": "a-g-josh",
         "orientation": "v",
         "showlegend": true,
         "type": "scatter",
         "x": [
          700
         ],
         "xaxis": "x",
         "y": [
          455
         ],
         "yaxis": "y"
        },
        {
         "hovertemplate": "<b>%{hovertext}</b><br><br>Poet=aabid-adeeb<br>Total Words Used=%{marker.size}<br>Vocabulary Set=%{y}<extra></extra>",
         "hovertext": [
          "aabid-adeeb"
         ],
         "legendgroup": "aabid-adeeb",
         "marker": {
          "color": "#EF553B",
          "size": [
           663
          ],
          "sizemode": "area",
          "sizeref": 1.37,
          "symbol": "circle"
         },
         "mode": "markers",
         "name": "aabid-adeeb",
         "orientation": "v",
         "showlegend": true,
         "type": "scatter",
         "x": [
          663
         ],
         "xaxis": "x",
         "y": [
          438
         ],
         "yaxis": "y"
        },
        {
         "hovertemplate": "<b>%{hovertext}</b><br><br>Poet=aabid-umar<br>Total Words Used=%{marker.size}<br>Vocabulary Set=%{y}<extra></extra>",
         "hovertext": [
          "aabid-umar"
         ],
         "legendgroup": "aabid-umar",
         "marker": {
          "color": "#00cc96",
          "size": [
           779
          ],
          "sizemode": "area",
          "sizeref": 1.37,
          "symbol": "circle"
         },
         "mode": "markers",
         "name": "aabid-umar",
         "orientation": "v",
         "showlegend": true,
         "type": "scatter",
         "x": [
          779
         ],
         "xaxis": "x",
         "y": [
          513
         ],
         "yaxis": "y"
        },
        {
         "hovertemplate": "<b>%{hovertext}</b><br><br>Poet=aabida-urooj<br>Total Words Used=%{marker.size}<br>Vocabulary Set=%{y}<extra></extra>",
         "hovertext": [
          "aabida-urooj"
         ],
         "legendgroup": "aabida-urooj",
         "marker": {
          "color": "#ab63fa",
          "size": [
           70
          ],
          "sizemode": "area",
          "sizeref": 1.37,
          "symbol": "circle"
         },
         "mode": "markers",
         "name": "aabida-urooj",
         "orientation": "v",
         "showlegend": true,
         "type": "scatter",
         "x": [
          70
         ],
         "xaxis": "x",
         "y": [
          61
         ],
         "yaxis": "y"
        },
        {
         "hovertemplate": "<b>%{hovertext}</b><br><br>Poet=aadil-raza-mansoori<br>Total Words Used=%{marker.size}<br>Vocabulary Set=%{y}<extra></extra>",
         "hovertext": [
          "aadil-raza-mansoori"
         ],
         "legendgroup": "aadil-raza-mansoori",
         "marker": {
          "color": "#FFA15A",
          "size": [
           426
          ],
          "sizemode": "area",
          "sizeref": 1.37,
          "symbol": "circle"
         },
         "mode": "markers",
         "name": "aadil-raza-mansoori",
         "orientation": "v",
         "showlegend": true,
         "type": "scatter",
         "x": [
          426
         ],
         "xaxis": "x",
         "y": [
          282
         ],
         "yaxis": "y"
        },
        {
         "hovertemplate": "<b>%{hovertext}</b><br><br>Poet=aafaque-siddiqui<br>Total Words Used=%{marker.size}<br>Vocabulary Set=%{y}<extra></extra>",
         "hovertext": [
          "aafaque-siddiqui"
         ],
         "legendgroup": "aafaque-siddiqui",
         "marker": {
          "color": "#19d3f3",
          "size": [
           46
          ],
          "sizemode": "area",
          "sizeref": 1.37,
          "symbol": "circle"
         },
         "mode": "markers",
         "name": "aafaque-siddiqui",
         "orientation": "v",
         "showlegend": true,
         "type": "scatter",
         "x": [
          46
         ],
         "xaxis": "x",
         "y": [
          42
         ],
         "yaxis": "y"
        },
        {
         "hovertemplate": "<b>%{hovertext}</b><br><br>Poet=aaga-nisaar<br>Total Words Used=%{marker.size}<br>Vocabulary Set=%{y}<extra></extra>",
         "hovertext": [
          "aaga-nisaar"
         ],
         "legendgroup": "aaga-nisaar",
         "marker": {
          "color": "#FF6692",
          "size": [
           57
          ],
          "sizemode": "area",
          "sizeref": 1.37,
          "symbol": "circle"
         },
         "mode": "markers",
         "name": "aaga-nisaar",
         "orientation": "v",
         "showlegend": true,
         "type": "scatter",
         "x": [
          57
         ],
         "xaxis": "x",
         "y": [
          51
         ],
         "yaxis": "y"
        },
        {
         "hovertemplate": "<b>%{hovertext}</b><br><br>Poet=aagha-akbarabadi<br>Total Words Used=%{marker.size}<br>Vocabulary Set=%{y}<extra></extra>",
         "hovertext": [
          "aagha-akbarabadi"
         ],
         "legendgroup": "aagha-akbarabadi",
         "marker": {
          "color": "#B6E880",
          "size": [
           2383
          ],
          "sizemode": "area",
          "sizeref": 1.37,
          "symbol": "circle"
         },
         "mode": "markers",
         "name": "aagha-akbarabadi",
         "orientation": "v",
         "showlegend": true,
         "type": "scatter",
         "x": [
          2383
         ],
         "xaxis": "x",
         "y": [
          1295
         ],
         "yaxis": "y"
        },
        {
         "hovertemplate": "<b>%{hovertext}</b><br><br>Poet=aakif-ghani<br>Total Words Used=%{marker.size}<br>Vocabulary Set=%{y}<extra></extra>",
         "hovertext": [
          "aakif-ghani"
         ],
         "legendgroup": "aakif-ghani",
         "marker": {
          "color": "#FF97FF",
          "size": [
           164
          ],
          "sizemode": "area",
          "sizeref": 1.37,
          "symbol": "circle"
         },
         "mode": "markers",
         "name": "aakif-ghani",
         "orientation": "v",
         "showlegend": true,
         "type": "scatter",
         "x": [
          164
         ],
         "xaxis": "x",
         "y": [
          133
         ],
         "yaxis": "y"
        },
        {
         "hovertemplate": "<b>%{hovertext}</b><br><br>Poet=aal-e-ahmad-suroor<br>Total Words Used=%{marker.size}<br>Vocabulary Set=%{y}<extra></extra>",
         "hovertext": [
          "aal-e-ahmad-suroor"
         ],
         "legendgroup": "aal-e-ahmad-suroor",
         "marker": {
          "color": "#FECB52",
          "size": [
           2111
          ],
          "sizemode": "area",
          "sizeref": 1.37,
          "symbol": "circle"
         },
         "mode": "markers",
         "name": "aal-e-ahmad-suroor",
         "orientation": "v",
         "showlegend": true,
         "type": "scatter",
         "x": [
          2111
         ],
         "xaxis": "x",
         "y": [
          1094
         ],
         "yaxis": "y"
        },
        {
         "hovertemplate": "<b>%{hovertext}</b><br><br>Poet=aal-e-raza-raza<br>Total Words Used=%{marker.size}<br>Vocabulary Set=%{y}<extra></extra>",
         "hovertext": [
          "aal-e-raza-raza"
         ],
         "legendgroup": "aal-e-raza-raza",
         "marker": {
          "color": "#636efa",
          "size": [
           295
          ],
          "sizemode": "area",
          "sizeref": 1.37,
          "symbol": "circle"
         },
         "mode": "markers",
         "name": "aal-e-raza-raza",
         "orientation": "v",
         "showlegend": true,
         "type": "scatter",
         "x": [
          295
         ],
         "xaxis": "x",
         "y": [
          229
         ],
         "yaxis": "y"
        },
        {
         "hovertemplate": "<b>%{hovertext}</b><br><br>Poet=aamir-suhail<br>Total Words Used=%{marker.size}<br>Vocabulary Set=%{y}<extra></extra>",
         "hovertext": [
          "aamir-suhail"
         ],
         "legendgroup": "aamir-suhail",
         "marker": {
          "color": "#EF553B",
          "size": [
           1237
          ],
          "sizemode": "area",
          "sizeref": 1.37,
          "symbol": "circle"
         },
         "mode": "markers",
         "name": "aamir-suhail",
         "orientation": "v",
         "showlegend": true,
         "type": "scatter",
         "x": [
          1237
         ],
         "xaxis": "x",
         "y": [
          830
         ],
         "yaxis": "y"
        },
        {
         "hovertemplate": "<b>%{hovertext}</b><br><br>Poet=aanand-saroop-anjum<br>Total Words Used=%{marker.size}<br>Vocabulary Set=%{y}<extra></extra>",
         "hovertext": [
          "aanand-saroop-anjum"
         ],
         "legendgroup": "aanand-saroop-anjum",
         "marker": {
          "color": "#00cc96",
          "size": [
           611
          ],
          "sizemode": "area",
          "sizeref": 1.37,
          "symbol": "circle"
         },
         "mode": "markers",
         "name": "aanand-saroop-anjum",
         "orientation": "v",
         "showlegend": true,
         "type": "scatter",
         "x": [
          611
         ],
         "xaxis": "x",
         "y": [
          411
         ],
         "yaxis": "y"
        },
        {
         "hovertemplate": "<b>%{hovertext}</b><br><br>Poet=aanis-moin<br>Total Words Used=%{marker.size}<br>Vocabulary Set=%{y}<extra></extra>",
         "hovertext": [
          "aanis-moin"
         ],
         "legendgroup": "aanis-moin",
         "marker": {
          "color": "#ab63fa",
          "size": [
           700
          ],
          "sizemode": "area",
          "sizeref": 1.37,
          "symbol": "circle"
         },
         "mode": "markers",
         "name": "aanis-moin",
         "orientation": "v",
         "showlegend": true,
         "type": "scatter",
         "x": [
          700
         ],
         "xaxis": "x",
         "y": [
          461
         ],
         "yaxis": "y"
        },
        {
         "hovertemplate": "<b>%{hovertext}</b><br><br>Poet=aarif-aazmi<br>Total Words Used=%{marker.size}<br>Vocabulary Set=%{y}<extra></extra>",
         "hovertext": [
          "aarif-aazmi"
         ],
         "legendgroup": "aarif-aazmi",
         "marker": {
          "color": "#FFA15A",
          "size": [
           250
          ],
          "sizemode": "area",
          "sizeref": 1.37,
          "symbol": "circle"
         },
         "mode": "markers",
         "name": "aarif-aazmi",
         "orientation": "v",
         "showlegend": true,
         "type": "scatter",
         "x": [
          250
         ],
         "xaxis": "x",
         "y": [
          193
         ],
         "yaxis": "y"
        },
        {
         "hovertemplate": "<b>%{hovertext}</b><br><br>Poet=aarifuddin-aajiz<br>Total Words Used=%{marker.size}<br>Vocabulary Set=%{y}<extra></extra>",
         "hovertext": [
          "aarifuddin-aajiz"
         ],
         "legendgroup": "aarifuddin-aajiz",
         "marker": {
          "color": "#19d3f3",
          "size": [
           63
          ],
          "sizemode": "area",
          "sizeref": 1.37,
          "symbol": "circle"
         },
         "mode": "markers",
         "name": "aarifuddin-aajiz",
         "orientation": "v",
         "showlegend": true,
         "type": "scatter",
         "x": [
          63
         ],
         "xaxis": "x",
         "y": [
          55
         ],
         "yaxis": "y"
        },
        {
         "hovertemplate": "<b>%{hovertext}</b><br><br>Poet=aas-fatmi<br>Total Words Used=%{marker.size}<br>Vocabulary Set=%{y}<extra></extra>",
         "hovertext": [
          "aas-fatmi"
         ],
         "legendgroup": "aas-fatmi",
         "marker": {
          "color": "#FF6692",
          "size": [
           98
          ],
          "sizemode": "area",
          "sizeref": 1.37,
          "symbol": "circle"
         },
         "mode": "markers",
         "name": "aas-fatmi",
         "orientation": "v",
         "showlegend": true,
         "type": "scatter",
         "x": [
          98
         ],
         "xaxis": "x",
         "y": [
          85
         ],
         "yaxis": "y"
        },
        {
         "hovertemplate": "<b>%{hovertext}</b><br><br>Poet=aashiq-jafri<br>Total Words Used=%{marker.size}<br>Vocabulary Set=%{y}<extra></extra>",
         "hovertext": [
          "aashiq-jafri"
         ],
         "legendgroup": "aashiq-jafri",
         "marker": {
          "color": "#B6E880",
          "size": [
           216
          ],
          "sizemode": "area",
          "sizeref": 1.37,
          "symbol": "circle"
         },
         "mode": "markers",
         "name": "aashiq-jafri",
         "orientation": "v",
         "showlegend": true,
         "type": "scatter",
         "x": [
          216
         ],
         "xaxis": "x",
         "y": [
          166
         ],
         "yaxis": "y"
        },
        {
         "hovertemplate": "<b>%{hovertext}</b><br><br>Poet=aashufta-changezi<br>Total Words Used=%{marker.size}<br>Vocabulary Set=%{y}<extra></extra>",
         "hovertext": [
          "aashufta-changezi"
         ],
         "legendgroup": "aashufta-changezi",
         "marker": {
          "color": "#FF97FF",
          "size": [
           1673
          ],
          "sizemode": "area",
          "sizeref": 1.37,
          "symbol": "circle"
         },
         "mode": "markers",
         "name": "aashufta-changezi",
         "orientation": "v",
         "showlegend": true,
         "type": "scatter",
         "x": [
          1673
         ],
         "xaxis": "x",
         "y": [
          923
         ],
         "yaxis": "y"
        },
        {
         "hovertemplate": "<b>%{hovertext}</b><br><br>Poet=aasi-faiqi<br>Total Words Used=%{marker.size}<br>Vocabulary Set=%{y}<extra></extra>",
         "hovertext": [
          "aasi-faiqi"
         ],
         "legendgroup": "aasi-faiqi",
         "marker": {
          "color": "#FECB52",
          "size": [
           739
          ],
          "sizemode": "area",
          "sizeref": 1.37,
          "symbol": "circle"
         },
         "mode": "markers",
         "name": "aasi-faiqi",
         "orientation": "v",
         "showlegend": true,
         "type": "scatter",
         "x": [
          739
         ],
         "xaxis": "x",
         "y": [
          502
         ],
         "yaxis": "y"
        },
        {
         "hovertemplate": "<b>%{hovertext}</b><br><br>Poet=aasi-ghazipuri<br>Total Words Used=%{marker.size}<br>Vocabulary Set=%{y}<extra></extra>",
         "hovertext": [
          "aasi-ghazipuri"
         ],
         "legendgroup": "aasi-ghazipuri",
         "marker": {
          "color": "#636efa",
          "size": [
           1263
          ],
          "sizemode": "area",
          "sizeref": 1.37,
          "symbol": "circle"
         },
         "mode": "markers",
         "name": "aasi-ghazipuri",
         "orientation": "v",
         "showlegend": true,
         "type": "scatter",
         "x": [
          1263
         ],
         "xaxis": "x",
         "y": [
          765
         ],
         "yaxis": "y"
        },
        {
         "hovertemplate": "<b>%{hovertext}</b><br><br>Poet=aasi-karnali<br>Total Words Used=%{marker.size}<br>Vocabulary Set=%{y}<extra></extra>",
         "hovertext": [
          "aasi-karnali"
         ],
         "legendgroup": "aasi-karnali",
         "marker": {
          "color": "#EF553B",
          "size": [
           70
          ],
          "sizemode": "area",
          "sizeref": 1.37,
          "symbol": "circle"
         },
         "mode": "markers",
         "name": "aasi-karnali",
         "orientation": "v",
         "showlegend": true,
         "type": "scatter",
         "x": [
          70
         ],
         "xaxis": "x",
         "y": [
          57
         ],
         "yaxis": "y"
        },
        {
         "hovertemplate": "<b>%{hovertext}</b><br><br>Poet=aasi-kashmiri<br>Total Words Used=%{marker.size}<br>Vocabulary Set=%{y}<extra></extra>",
         "hovertext": [
          "aasi-kashmiri"
         ],
         "legendgroup": "aasi-kashmiri",
         "marker": {
          "color": "#00cc96",
          "size": [
           152
          ],
          "sizemode": "area",
          "sizeref": 1.37,
          "symbol": "circle"
         },
         "mode": "markers",
         "name": "aasi-kashmiri",
         "orientation": "v",
         "showlegend": true,
         "type": "scatter",
         "x": [
          152
         ],
         "xaxis": "x",
         "y": [
          137
         ],
         "yaxis": "y"
        },
        {
         "hovertemplate": "<b>%{hovertext}</b><br><br>Poet=aasi-ramnagri<br>Total Words Used=%{marker.size}<br>Vocabulary Set=%{y}<extra></extra>",
         "hovertext": [
          "aasi-ramnagri"
         ],
         "legendgroup": "aasi-ramnagri",
         "marker": {
          "color": "#ab63fa",
          "size": [
           1030
          ],
          "sizemode": "area",
          "sizeref": 1.37,
          "symbol": "circle"
         },
         "mode": "markers",
         "name": "aasi-ramnagri",
         "orientation": "v",
         "showlegend": true,
         "type": "scatter",
         "x": [
          1030
         ],
         "xaxis": "x",
         "y": [
          618
         ],
         "yaxis": "y"
        },
        {
         "hovertemplate": "<b>%{hovertext}</b><br><br>Poet=aasi-uldani<br>Total Words Used=%{marker.size}<br>Vocabulary Set=%{y}<extra></extra>",
         "hovertext": [
          "aasi-uldani"
         ],
         "legendgroup": "aasi-uldani",
         "marker": {
          "color": "#FFA15A",
          "size": [
           73
          ],
          "sizemode": "area",
          "sizeref": 1.37,
          "symbol": "circle"
         },
         "mode": "markers",
         "name": "aasi-uldani",
         "orientation": "v",
         "showlegend": true,
         "type": "scatter",
         "x": [
          73
         ],
         "xaxis": "x",
         "y": [
          69
         ],
         "yaxis": "y"
        },
        {
         "hovertemplate": "<b>%{hovertext}</b><br><br>Poet=aasim-shahnawaz-shibli<br>Total Words Used=%{marker.size}<br>Vocabulary Set=%{y}<extra></extra>",
         "hovertext": [
          "aasim-shahnawaz-shibli"
         ],
         "legendgroup": "aasim-shahnawaz-shibli",
         "marker": {
          "color": "#19d3f3",
          "size": [
           38
          ],
          "sizemode": "area",
          "sizeref": 1.37,
          "symbol": "circle"
         },
         "mode": "markers",
         "name": "aasim-shahnawaz-shibli",
         "orientation": "v",
         "showlegend": true,
         "type": "scatter",
         "x": [
          38
         ],
         "xaxis": "x",
         "y": [
          31
         ],
         "yaxis": "y"
        },
        {
         "hovertemplate": "<b>%{hovertext}</b><br><br>Poet=aasnath-kanwal<br>Total Words Used=%{marker.size}<br>Vocabulary Set=%{y}<extra></extra>",
         "hovertext": [
          "aasnath-kanwal"
         ],
         "legendgroup": "aasnath-kanwal",
         "marker": {
          "color": "#FF6692",
          "size": [
           152
          ],
          "sizemode": "area",
          "sizeref": 1.37,
          "symbol": "circle"
         },
         "mode": "markers",
         "name": "aasnath-kanwal",
         "orientation": "v",
         "showlegend": true,
         "type": "scatter",
         "x": [
          152
         ],
         "xaxis": "x",
         "y": [
          98
         ],
         "yaxis": "y"
        },
        {
         "hovertemplate": "<b>%{hovertext}</b><br><br>Poet=aatif-kamal-rana<br>Total Words Used=%{marker.size}<br>Vocabulary Set=%{y}<extra></extra>",
         "hovertext": [
          "aatif-kamal-rana"
         ],
         "legendgroup": "aatif-kamal-rana",
         "marker": {
          "color": "#B6E880",
          "size": [
           281
          ],
          "sizemode": "area",
          "sizeref": 1.37,
          "symbol": "circle"
         },
         "mode": "markers",
         "name": "aatif-kamal-rana",
         "orientation": "v",
         "showlegend": true,
         "type": "scatter",
         "x": [
          281
         ],
         "xaxis": "x",
         "y": [
          221
         ],
         "yaxis": "y"
        },
        {
         "hovertemplate": "<b>%{hovertext}</b><br><br>Poet=aatif-waheed-yasir<br>Total Words Used=%{marker.size}<br>Vocabulary Set=%{y}<extra></extra>",
         "hovertext": [
          "aatif-waheed-yasir"
         ],
         "legendgroup": "aatif-waheed-yasir",
         "marker": {
          "color": "#FF97FF",
          "size": [
           210
          ],
          "sizemode": "area",
          "sizeref": 1.37,
          "symbol": "circle"
         },
         "mode": "markers",
         "name": "aatif-waheed-yasir",
         "orientation": "v",
         "showlegend": true,
         "type": "scatter",
         "x": [
          210
         ],
         "xaxis": "x",
         "y": [
          173
         ],
         "yaxis": "y"
        },
        {
         "hovertemplate": "<b>%{hovertext}</b><br><br>Poet=aatish-bahawalpuri<br>Total Words Used=%{marker.size}<br>Vocabulary Set=%{y}<extra></extra>",
         "hovertext": [
          "aatish-bahawalpuri"
         ],
         "legendgroup": "aatish-bahawalpuri",
         "marker": {
          "color": "#FECB52",
          "size": [
           672
          ],
          "sizemode": "area",
          "sizeref": 1.37,
          "symbol": "circle"
         },
         "mode": "markers",
         "name": "aatish-bahawalpuri",
         "orientation": "v",
         "showlegend": true,
         "type": "scatter",
         "x": [
          672
         ],
         "xaxis": "x",
         "y": [
          461
         ],
         "yaxis": "y"
        },
        {
         "hovertemplate": "<b>%{hovertext}</b><br><br>Poet=aatish-indori<br>Total Words Used=%{marker.size}<br>Vocabulary Set=%{y}<extra></extra>",
         "hovertext": [
          "aatish-indori"
         ],
         "legendgroup": "aatish-indori",
         "marker": {
          "color": "#636efa",
          "size": [
           415
          ],
          "sizemode": "area",
          "sizeref": 1.37,
          "symbol": "circle"
         },
         "mode": "markers",
         "name": "aatish-indori",
         "orientation": "v",
         "showlegend": true,
         "type": "scatter",
         "x": [
          415
         ],
         "xaxis": "x",
         "y": [
          283
         ],
         "yaxis": "y"
        },
        {
         "hovertemplate": "<b>%{hovertext}</b><br><br>Poet=aazam-khursheed<br>Total Words Used=%{marker.size}<br>Vocabulary Set=%{y}<extra></extra>",
         "hovertext": [
          "aazam-khursheed"
         ],
         "legendgroup": "aazam-khursheed",
         "marker": {
          "color": "#EF553B",
          "size": [
           252
          ],
          "sizemode": "area",
          "sizeref": 1.37,
          "symbol": "circle"
         },
         "mode": "markers",
         "name": "aazam-khursheed",
         "orientation": "v",
         "showlegend": true,
         "type": "scatter",
         "x": [
          252
         ],
         "xaxis": "x",
         "y": [
          189
         ],
         "yaxis": "y"
        },
        {
         "hovertemplate": "<b>%{hovertext}</b><br><br>Poet=aazim-kohli<br>Total Words Used=%{marker.size}<br>Vocabulary Set=%{y}<extra></extra>",
         "hovertext": [
          "aazim-kohli"
         ],
         "legendgroup": "aazim-kohli",
         "marker": {
          "color": "#00cc96",
          "size": [
           1106
          ],
          "sizemode": "area",
          "sizeref": 1.37,
          "symbol": "circle"
         },
         "mode": "markers",
         "name": "aazim-kohli",
         "orientation": "v",
         "showlegend": true,
         "type": "scatter",
         "x": [
          1106
         ],
         "xaxis": "x",
         "y": [
          691
         ],
         "yaxis": "y"
        },
        {
         "hovertemplate": "<b>%{hovertext}</b><br><br>Poet=abbas-ali-khan-bekhud<br>Total Words Used=%{marker.size}<br>Vocabulary Set=%{y}<extra></extra>",
         "hovertext": [
          "abbas-ali-khan-bekhud"
         ],
         "legendgroup": "abbas-ali-khan-bekhud",
         "marker": {
          "color": "#ab63fa",
          "size": [
           1426
          ],
          "sizemode": "area",
          "sizeref": 1.37,
          "symbol": "circle"
         },
         "mode": "markers",
         "name": "abbas-ali-khan-bekhud",
         "orientation": "v",
         "showlegend": true,
         "type": "scatter",
         "x": [
          1426
         ],
         "xaxis": "x",
         "y": [
          757
         ],
         "yaxis": "y"
        },
        {
         "hovertemplate": "<b>%{hovertext}</b><br><br>Poet=abbas-alvi<br>Total Words Used=%{marker.size}<br>Vocabulary Set=%{y}<extra></extra>",
         "hovertext": [
          "abbas-alvi"
         ],
         "legendgroup": "abbas-alvi",
         "marker": {
          "color": "#FFA15A",
          "size": [
           181
          ],
          "sizemode": "area",
          "sizeref": 1.37,
          "symbol": "circle"
         },
         "mode": "markers",
         "name": "abbas-alvi",
         "orientation": "v",
         "showlegend": true,
         "type": "scatter",
         "x": [
          181
         ],
         "xaxis": "x",
         "y": [
          140
         ],
         "yaxis": "y"
        },
        {
         "hovertemplate": "<b>%{hovertext}</b><br><br>Poet=abbas-dana<br>Total Words Used=%{marker.size}<br>Vocabulary Set=%{y}<extra></extra>",
         "hovertext": [
          "abbas-dana"
         ],
         "legendgroup": "abbas-dana",
         "marker": {
          "color": "#19d3f3",
          "size": [
           1007
          ],
          "sizemode": "area",
          "sizeref": 1.37,
          "symbol": "circle"
         },
         "mode": "markers",
         "name": "abbas-dana",
         "orientation": "v",
         "showlegend": true,
         "type": "scatter",
         "x": [
          1007
         ],
         "xaxis": "x",
         "y": [
          617
         ],
         "yaxis": "y"
        },
        {
         "hovertemplate": "<b>%{hovertext}</b><br><br>Poet=abbas-kaifi<br>Total Words Used=%{marker.size}<br>Vocabulary Set=%{y}<extra></extra>",
         "hovertext": [
          "abbas-kaifi"
         ],
         "legendgroup": "abbas-kaifi",
         "marker": {
          "color": "#FF6692",
          "size": [
           16
          ],
          "sizemode": "area",
          "sizeref": 1.37,
          "symbol": "circle"
         },
         "mode": "markers",
         "name": "abbas-kaifi",
         "orientation": "v",
         "showlegend": true,
         "type": "scatter",
         "x": [
          16
         ],
         "xaxis": "x",
         "y": [
          15
         ],
         "yaxis": "y"
        },
        {
         "hovertemplate": "<b>%{hovertext}</b><br><br>Poet=abbas-qamar<br>Total Words Used=%{marker.size}<br>Vocabulary Set=%{y}<extra></extra>",
         "hovertext": [
          "abbas-qamar"
         ],
         "legendgroup": "abbas-qamar",
         "marker": {
          "color": "#B6E880",
          "size": [
           269
          ],
          "sizemode": "area",
          "sizeref": 1.37,
          "symbol": "circle"
         },
         "mode": "markers",
         "name": "abbas-qamar",
         "orientation": "v",
         "showlegend": true,
         "type": "scatter",
         "x": [
          269
         ],
         "xaxis": "x",
         "y": [
          198
         ],
         "yaxis": "y"
        },
        {
         "hovertemplate": "<b>%{hovertext}</b><br><br>Poet=abbas-rizvi<br>Total Words Used=%{marker.size}<br>Vocabulary Set=%{y}<extra></extra>",
         "hovertext": [
          "abbas-rizvi"
         ],
         "legendgroup": "abbas-rizvi",
         "marker": {
          "color": "#FF97FF",
          "size": [
           541
          ],
          "sizemode": "area",
          "sizeref": 1.37,
          "symbol": "circle"
         },
         "mode": "markers",
         "name": "abbas-rizvi",
         "orientation": "v",
         "showlegend": true,
         "type": "scatter",
         "x": [
          541
         ],
         "xaxis": "x",
         "y": [
          362
         ],
         "yaxis": "y"
        },
        {
         "hovertemplate": "<b>%{hovertext}</b><br><br>Poet=abbas-tabish<br>Total Words Used=%{marker.size}<br>Vocabulary Set=%{y}<extra></extra>",
         "hovertext": [
          "abbas-tabish"
         ],
         "legendgroup": "abbas-tabish",
         "marker": {
          "color": "#FECB52",
          "size": [
           4932
          ],
          "sizemode": "area",
          "sizeref": 1.37,
          "symbol": "circle"
         },
         "mode": "markers",
         "name": "abbas-tabish",
         "orientation": "v",
         "showlegend": true,
         "type": "scatter",
         "x": [
          4932
         ],
         "xaxis": "x",
         "y": [
          1923
         ],
         "yaxis": "y"
        },
        {
         "hovertemplate": "<b>%{hovertext}</b><br><br>Poet=abdul-ahad-saaz<br>Total Words Used=%{marker.size}<br>Vocabulary Set=%{y}<extra></extra>",
         "hovertext": [
          "abdul-ahad-saaz"
         ],
         "legendgroup": "abdul-ahad-saaz",
         "marker": {
          "color": "#636efa",
          "size": [
           3648
          ],
          "sizemode": "area",
          "sizeref": 1.37,
          "symbol": "circle"
         },
         "mode": "markers",
         "name": "abdul-ahad-saaz",
         "orientation": "v",
         "showlegend": true,
         "type": "scatter",
         "x": [
          3648
         ],
         "xaxis": "x",
         "y": [
          1886
         ],
         "yaxis": "y"
        },
        {
         "hovertemplate": "<b>%{hovertext}</b><br><br>Poet=abdul-aleem-aasi<br>Total Words Used=%{marker.size}<br>Vocabulary Set=%{y}<extra></extra>",
         "hovertext": [
          "abdul-aleem-aasi"
         ],
         "legendgroup": "abdul-aleem-aasi",
         "marker": {
          "color": "#EF553B",
          "size": [
           423
          ],
          "sizemode": "area",
          "sizeref": 1.37,
          "symbol": "circle"
         },
         "mode": "markers",
         "name": "abdul-aleem-aasi",
         "orientation": "v",
         "showlegend": true,
         "type": "scatter",
         "x": [
          423
         ],
         "xaxis": "x",
         "y": [
          305
         ],
         "yaxis": "y"
        },
        {
         "hovertemplate": "<b>%{hovertext}</b><br><br>Poet=abdul-aziz-fitrat<br>Total Words Used=%{marker.size}<br>Vocabulary Set=%{y}<extra></extra>",
         "hovertext": [
          "abdul-aziz-fitrat"
         ],
         "legendgroup": "abdul-aziz-fitrat",
         "marker": {
          "color": "#00cc96",
          "size": [
           211
          ],
          "sizemode": "area",
          "sizeref": 1.37,
          "symbol": "circle"
         },
         "mode": "markers",
         "name": "abdul-aziz-fitrat",
         "orientation": "v",
         "showlegend": true,
         "type": "scatter",
         "x": [
          211
         ],
         "xaxis": "x",
         "y": [
          171
         ],
         "yaxis": "y"
        },
        {
         "hovertemplate": "<b>%{hovertext}</b><br><br>Poet=abdul-aziz-khalid<br>Total Words Used=%{marker.size}<br>Vocabulary Set=%{y}<extra></extra>",
         "hovertext": [
          "abdul-aziz-khalid"
         ],
         "legendgroup": "abdul-aziz-khalid",
         "marker": {
          "color": "#ab63fa",
          "size": [
           574
          ],
          "sizemode": "area",
          "sizeref": 1.37,
          "symbol": "circle"
         },
         "mode": "markers",
         "name": "abdul-aziz-khalid",
         "orientation": "v",
         "showlegend": true,
         "type": "scatter",
         "x": [
          574
         ],
         "xaxis": "x",
         "y": [
          468
         ],
         "yaxis": "y"
        },
        {
         "hovertemplate": "<b>%{hovertext}</b><br><br>Poet=abdul-halim-sharar<br>Total Words Used=%{marker.size}<br>Vocabulary Set=%{y}<extra></extra>",
         "hovertext": [
          "abdul-halim-sharar"
         ],
         "legendgroup": "abdul-halim-sharar",
         "marker": {
          "color": "#FFA15A",
          "size": [
           41
          ],
          "sizemode": "area",
          "sizeref": 1.37,
          "symbol": "circle"
         },
         "mode": "markers",
         "name": "abdul-halim-sharar",
         "orientation": "v",
         "showlegend": true,
         "type": "scatter",
         "x": [
          41
         ],
         "xaxis": "x",
         "y": [
          38
         ],
         "yaxis": "y"
        },
        {
         "hovertemplate": "<b>%{hovertext}</b><br><br>Poet=abdul-hameed-hosh<br>Total Words Used=%{marker.size}<br>Vocabulary Set=%{y}<extra></extra>",
         "hovertext": [
          "abdul-hameed-hosh"
         ],
         "legendgroup": "abdul-hameed-hosh",
         "marker": {
          "color": "#19d3f3",
          "size": [
           48
          ],
          "sizemode": "area",
          "sizeref": 1.37,
          "symbol": "circle"
         },
         "mode": "markers",
         "name": "abdul-hameed-hosh",
         "orientation": "v",
         "showlegend": true,
         "type": "scatter",
         "x": [
          48
         ],
         "xaxis": "x",
         "y": [
          36
         ],
         "yaxis": "y"
        },
        {
         "hovertemplate": "<b>%{hovertext}</b><br><br>Poet=abdul-hameed-saqi<br>Total Words Used=%{marker.size}<br>Vocabulary Set=%{y}<extra></extra>",
         "hovertext": [
          "abdul-hameed-saqi"
         ],
         "legendgroup": "abdul-hameed-saqi",
         "marker": {
          "color": "#FF6692",
          "size": [
           228
          ],
          "sizemode": "area",
          "sizeref": 1.37,
          "symbol": "circle"
         },
         "mode": "markers",
         "name": "abdul-hameed-saqi",
         "orientation": "v",
         "showlegend": true,
         "type": "scatter",
         "x": [
          228
         ],
         "xaxis": "x",
         "y": [
          174
         ],
         "yaxis": "y"
        },
        {
         "hovertemplate": "<b>%{hovertext}</b><br><br>Poet=abdul-hamid<br>Total Words Used=%{marker.size}<br>Vocabulary Set=%{y}<extra></extra>",
         "hovertext": [
          "abdul-hamid"
         ],
         "legendgroup": "abdul-hamid",
         "marker": {
          "color": "#B6E880",
          "size": [
           605
          ],
          "sizemode": "area",
          "sizeref": 1.37,
          "symbol": "circle"
         },
         "mode": "markers",
         "name": "abdul-hamid",
         "orientation": "v",
         "showlegend": true,
         "type": "scatter",
         "x": [
          605
         ],
         "xaxis": "x",
         "y": [
          402
         ],
         "yaxis": "y"
        },
        {
         "hovertemplate": "<b>%{hovertext}</b><br><br>Poet=abdul-hamid-adam<br>Total Words Used=%{marker.size}<br>Vocabulary Set=%{y}<extra></extra>",
         "hovertext": [
          "abdul-hamid-adam"
         ],
         "legendgroup": "abdul-hamid-adam",
         "marker": {
          "color": "#FF97FF",
          "size": [
           4686
          ],
          "sizemode": "area",
          "sizeref": 1.37,
          "symbol": "circle"
         },
         "mode": "markers",
         "name": "abdul-hamid-adam",
         "orientation": "v",
         "showlegend": true,
         "type": "scatter",
         "x": [
          4686
         ],
         "xaxis": "x",
         "y": [
          1981
         ],
         "yaxis": "y"
        },
        {
         "hovertemplate": "<b>%{hovertext}</b><br><br>Poet=abdul-majeed-bhatti<br>Total Words Used=%{marker.size}<br>Vocabulary Set=%{y}<extra></extra>",
         "hovertext": [
          "abdul-majeed-bhatti"
         ],
         "legendgroup": "abdul-majeed-bhatti",
         "marker": {
          "color": "#FECB52",
          "size": [
           108
          ],
          "sizemode": "area",
          "sizeref": 1.37,
          "symbol": "circle"
         },
         "mode": "markers",
         "name": "abdul-majeed-bhatti",
         "orientation": "v",
         "showlegend": true,
         "type": "scatter",
         "x": [
          108
         ],
         "xaxis": "x",
         "y": [
          95
         ],
         "yaxis": "y"
        },
        {
         "hovertemplate": "<b>%{hovertext}</b><br><br>Poet=abdul-majeed-hairat<br>Total Words Used=%{marker.size}<br>Vocabulary Set=%{y}<extra></extra>",
         "hovertext": [
          "abdul-majeed-hairat"
         ],
         "legendgroup": "abdul-majeed-hairat",
         "marker": {
          "color": "#636efa",
          "size": [
           204
          ],
          "sizemode": "area",
          "sizeref": 1.37,
          "symbol": "circle"
         },
         "mode": "markers",
         "name": "abdul-majeed-hairat",
         "orientation": "v",
         "showlegend": true,
         "type": "scatter",
         "x": [
          204
         ],
         "xaxis": "x",
         "y": [
          151
         ],
         "yaxis": "y"
        },
        {
         "hovertemplate": "<b>%{hovertext}</b><br><br>Poet=abdul-majeed-khan-majeed<br>Total Words Used=%{marker.size}<br>Vocabulary Set=%{y}<extra></extra>",
         "hovertext": [
          "abdul-majeed-khan-majeed"
         ],
         "legendgroup": "abdul-majeed-khan-majeed",
         "marker": {
          "color": "#EF553B",
          "size": [
           250
          ],
          "sizemode": "area",
          "sizeref": 1.37,
          "symbol": "circle"
         },
         "mode": "markers",
         "name": "abdul-majeed-khan-majeed",
         "orientation": "v",
         "showlegend": true,
         "type": "scatter",
         "x": [
          250
         ],
         "xaxis": "x",
         "y": [
          181
         ],
         "yaxis": "y"
        },
        {
         "hovertemplate": "<b>%{hovertext}</b><br><br>Poet=abdul-majeed-salik<br>Total Words Used=%{marker.size}<br>Vocabulary Set=%{y}<extra></extra>",
         "hovertext": [
          "abdul-majeed-salik"
         ],
         "legendgroup": "abdul-majeed-salik",
         "marker": {
          "color": "#00cc96",
          "size": [
           601
          ],
          "sizemode": "area",
          "sizeref": 1.37,
          "symbol": "circle"
         },
         "mode": "markers",
         "name": "abdul-majeed-salik",
         "orientation": "v",
         "showlegend": true,
         "type": "scatter",
         "x": [
          601
         ],
         "xaxis": "x",
         "y": [
          394
         ],
         "yaxis": "y"
        },
        {
         "hovertemplate": "<b>%{hovertext}</b><br><br>Poet=abdul-malik-soz<br>Total Words Used=%{marker.size}<br>Vocabulary Set=%{y}<extra></extra>",
         "hovertext": [
          "abdul-malik-soz"
         ],
         "legendgroup": "abdul-malik-soz",
         "marker": {
          "color": "#ab63fa",
          "size": [
           448
          ],
          "sizemode": "area",
          "sizeref": 1.37,
          "symbol": "circle"
         },
         "mode": "markers",
         "name": "abdul-malik-soz",
         "orientation": "v",
         "showlegend": true,
         "type": "scatter",
         "x": [
          448
         ],
         "xaxis": "x",
         "y": [
          284
         ],
         "yaxis": "y"
        },
        {
         "hovertemplate": "<b>%{hovertext}</b><br><br>Poet=abdul-mannan-samadi<br>Total Words Used=%{marker.size}<br>Vocabulary Set=%{y}<extra></extra>",
         "hovertext": [
          "abdul-mannan-samadi"
         ],
         "legendgroup": "abdul-mannan-samadi",
         "marker": {
          "color": "#FFA15A",
          "size": [
           215
          ],
          "sizemode": "area",
          "sizeref": 1.37,
          "symbol": "circle"
         },
         "mode": "markers",
         "name": "abdul-mannan-samadi",
         "orientation": "v",
         "showlegend": true,
         "type": "scatter",
         "x": [
          215
         ],
         "xaxis": "x",
         "y": [
          168
         ],
         "yaxis": "y"
        },
        {
         "hovertemplate": "<b>%{hovertext}</b><br><br>Poet=abdul-mannan-tarzi<br>Total Words Used=%{marker.size}<br>Vocabulary Set=%{y}<extra></extra>",
         "hovertext": [
          "abdul-mannan-tarzi"
         ],
         "legendgroup": "abdul-mannan-tarzi",
         "marker": {
          "color": "#19d3f3",
          "size": [
           1781
          ],
          "sizemode": "area",
          "sizeref": 1.37,
          "symbol": "circle"
         },
         "mode": "markers",
         "name": "abdul-mannan-tarzi",
         "orientation": "v",
         "showlegend": true,
         "type": "scatter",
         "x": [
          1781
         ],
         "xaxis": "x",
         "y": [
          925
         ],
         "yaxis": "y"
        },
        {
         "hovertemplate": "<b>%{hovertext}</b><br><br>Poet=abdul-mateen-niyaz<br>Total Words Used=%{marker.size}<br>Vocabulary Set=%{y}<extra></extra>",
         "hovertext": [
          "abdul-mateen-niyaz"
         ],
         "legendgroup": "abdul-mateen-niyaz",
         "marker": {
          "color": "#FF6692",
          "size": [
           417
          ],
          "sizemode": "area",
          "sizeref": 1.37,
          "symbol": "circle"
         },
         "mode": "markers",
         "name": "abdul-mateen-niyaz",
         "orientation": "v",
         "showlegend": true,
         "type": "scatter",
         "x": [
          417
         ],
         "xaxis": "x",
         "y": [
          283
         ],
         "yaxis": "y"
        },
        {
         "hovertemplate": "<b>%{hovertext}</b><br><br>Poet=abdul-qavi-ziya<br>Total Words Used=%{marker.size}<br>Vocabulary Set=%{y}<extra></extra>",
         "hovertext": [
          "abdul-qavi-ziya"
         ],
         "legendgroup": "abdul-qavi-ziya",
         "marker": {
          "color": "#B6E880",
          "size": [
           845
          ],
          "sizemode": "area",
          "sizeref": 1.37,
          "symbol": "circle"
         },
         "mode": "markers",
         "name": "abdul-qavi-ziya",
         "orientation": "v",
         "showlegend": true,
         "type": "scatter",
         "x": [
          845
         ],
         "xaxis": "x",
         "y": [
          491
         ],
         "yaxis": "y"
        },
        {
         "hovertemplate": "<b>%{hovertext}</b><br><br>Poet=abdul-rahman-bazmi<br>Total Words Used=%{marker.size}<br>Vocabulary Set=%{y}<extra></extra>",
         "hovertext": [
          "abdul-rahman-bazmi"
         ],
         "legendgroup": "abdul-rahman-bazmi",
         "marker": {
          "color": "#FF97FF",
          "size": [
           101
          ],
          "sizemode": "area",
          "sizeref": 1.37,
          "symbol": "circle"
         },
         "mode": "markers",
         "name": "abdul-rahman-bazmi",
         "orientation": "v",
         "showlegend": true,
         "type": "scatter",
         "x": [
          101
         ],
         "xaxis": "x",
         "y": [
          82
         ],
         "yaxis": "y"
        },
        {
         "hovertemplate": "<b>%{hovertext}</b><br><br>Poet=abdul-rahman-ehsan-dehlvi<br>Total Words Used=%{marker.size}<br>Vocabulary Set=%{y}<extra></extra>",
         "hovertext": [
          "abdul-rahman-ehsan-dehlvi"
         ],
         "legendgroup": "abdul-rahman-ehsan-dehlvi",
         "marker": {
          "color": "#FECB52",
          "size": [
           3481
          ],
          "sizemode": "area",
          "sizeref": 1.37,
          "symbol": "circle"
         },
         "mode": "markers",
         "name": "abdul-rahman-ehsan-dehlvi",
         "orientation": "v",
         "showlegend": true,
         "type": "scatter",
         "x": [
          3481
         ],
         "xaxis": "x",
         "y": [
          1604
         ],
         "yaxis": "y"
        },
        {
         "hovertemplate": "<b>%{hovertext}</b><br><br>Poet=abdul-rahman-khan-wasfi-bahraichi<br>Total Words Used=%{marker.size}<br>Vocabulary Set=%{y}<extra></extra>",
         "hovertext": [
          "abdul-rahman-khan-wasfi-bahraichi"
         ],
         "legendgroup": "abdul-rahman-khan-wasfi-bahraichi",
         "marker": {
          "color": "#636efa",
          "size": [
           654
          ],
          "sizemode": "area",
          "sizeref": 1.37,
          "symbol": "circle"
         },
         "mode": "markers",
         "name": "abdul-rahman-khan-wasfi-bahraichi",
         "orientation": "v",
         "showlegend": true,
         "type": "scatter",
         "x": [
          654
         ],
         "xaxis": "x",
         "y": [
          403
         ],
         "yaxis": "y"
        },
        {
         "hovertemplate": "<b>%{hovertext}</b><br><br>Poet=abdul-rahman-rasikh<br>Total Words Used=%{marker.size}<br>Vocabulary Set=%{y}<extra></extra>",
         "hovertext": [
          "abdul-rahman-rasikh"
         ],
         "legendgroup": "abdul-rahman-rasikh",
         "marker": {
          "color": "#EF553B",
          "size": [
           54
          ],
          "sizemode": "area",
          "sizeref": 1.37,
          "symbol": "circle"
         },
         "mode": "markers",
         "name": "abdul-rahman-rasikh",
         "orientation": "v",
         "showlegend": true,
         "type": "scatter",
         "x": [
          54
         ],
         "xaxis": "x",
         "y": [
          52
         ],
         "yaxis": "y"
        },
        {
         "hovertemplate": "<b>%{hovertext}</b><br><br>Poet=abdul-salam<br>Total Words Used=%{marker.size}<br>Vocabulary Set=%{y}<extra></extra>",
         "hovertext": [
          "abdul-salam"
         ],
         "legendgroup": "abdul-salam",
         "marker": {
          "color": "#00cc96",
          "size": [
           173
          ],
          "sizemode": "area",
          "sizeref": 1.37,
          "symbol": "circle"
         },
         "mode": "markers",
         "name": "abdul-salam",
         "orientation": "v",
         "showlegend": true,
         "type": "scatter",
         "x": [
          173
         ],
         "xaxis": "x",
         "y": [
          133
         ],
         "yaxis": "y"
        },
        {
         "hovertemplate": "<b>%{hovertext}</b><br><br>Poet=abdul-wahab-sukhan<br>Total Words Used=%{marker.size}<br>Vocabulary Set=%{y}<extra></extra>",
         "hovertext": [
          "abdul-wahab-sukhan"
         ],
         "legendgroup": "abdul-wahab-sukhan",
         "marker": {
          "color": "#ab63fa",
          "size": [
           1305
          ],
          "sizemode": "area",
          "sizeref": 1.37,
          "symbol": "circle"
         },
         "mode": "markers",
         "name": "abdul-wahab-sukhan",
         "orientation": "v",
         "showlegend": true,
         "type": "scatter",
         "x": [
          1305
         ],
         "xaxis": "x",
         "y": [
          761
         ],
         "yaxis": "y"
        },
        {
         "hovertemplate": "<b>%{hovertext}</b><br><br>Poet=abdul-wahab-yakro<br>Total Words Used=%{marker.size}<br>Vocabulary Set=%{y}<extra></extra>",
         "hovertext": [
          "abdul-wahab-yakro"
         ],
         "legendgroup": "abdul-wahab-yakro",
         "marker": {
          "color": "#FFA15A",
          "size": [
           1003
          ],
          "sizemode": "area",
          "sizeref": 1.37,
          "symbol": "circle"
         },
         "mode": "markers",
         "name": "abdul-wahab-yakro",
         "orientation": "v",
         "showlegend": true,
         "type": "scatter",
         "x": [
          1003
         ],
         "xaxis": "x",
         "y": [
          600
         ],
         "yaxis": "y"
        },
        {
         "hovertemplate": "<b>%{hovertext}</b><br><br>Poet=abdullah-javed<br>Total Words Used=%{marker.size}<br>Vocabulary Set=%{y}<extra></extra>",
         "hovertext": [
          "abdullah-javed"
         ],
         "legendgroup": "abdullah-javed",
         "marker": {
          "color": "#19d3f3",
          "size": [
           1171
          ],
          "sizemode": "area",
          "sizeref": 1.37,
          "symbol": "circle"
         },
         "mode": "markers",
         "name": "abdullah-javed",
         "orientation": "v",
         "showlegend": true,
         "type": "scatter",
         "x": [
          1171
         ],
         "xaxis": "x",
         "y": [
          634
         ],
         "yaxis": "y"
        },
        {
         "hovertemplate": "<b>%{hovertext}</b><br><br>Poet=abdullah-kamal<br>Total Words Used=%{marker.size}<br>Vocabulary Set=%{y}<extra></extra>",
         "hovertext": [
          "abdullah-kamal"
         ],
         "legendgroup": "abdullah-kamal",
         "marker": {
          "color": "#FF6692",
          "size": [
           1177
          ],
          "sizemode": "area",
          "sizeref": 1.37,
          "symbol": "circle"
         },
         "mode": "markers",
         "name": "abdullah-kamal",
         "orientation": "v",
         "showlegend": true,
         "type": "scatter",
         "x": [
          1177
         ],
         "xaxis": "x",
         "y": [
          706
         ],
         "yaxis": "y"
        },
        {
         "hovertemplate": "<b>%{hovertext}</b><br><br>Poet=abdullateef-shauq<br>Total Words Used=%{marker.size}<br>Vocabulary Set=%{y}<extra></extra>",
         "hovertext": [
          "abdullateef-shauq"
         ],
         "legendgroup": "abdullateef-shauq",
         "marker": {
          "color": "#B6E880",
          "size": [
           336
          ],
          "sizemode": "area",
          "sizeref": 1.37,
          "symbol": "circle"
         },
         "mode": "markers",
         "name": "abdullateef-shauq",
         "orientation": "v",
         "showlegend": true,
         "type": "scatter",
         "x": [
          336
         ],
         "xaxis": "x",
         "y": [
          228
         ],
         "yaxis": "y"
        },
        {
         "hovertemplate": "<b>%{hovertext}</b><br><br>Poet=abdullla-khan-mehr-lakhnavi<br>Total Words Used=%{marker.size}<br>Vocabulary Set=%{y}<extra></extra>",
         "hovertext": [
          "abdullla-khan-mehr-lakhnavi"
         ],
         "legendgroup": "abdullla-khan-mehr-lakhnavi",
         "marker": {
          "color": "#FF97FF",
          "size": [
           353
          ],
          "sizemode": "area",
          "sizeref": 1.37,
          "symbol": "circle"
         },
         "mode": "markers",
         "name": "abdullla-khan-mehr-lakhnavi",
         "orientation": "v",
         "showlegend": true,
         "type": "scatter",
         "x": [
          353
         ],
         "xaxis": "x",
         "y": [
          264
         ],
         "yaxis": "y"
        },
        {
         "hovertemplate": "<b>%{hovertext}</b><br><br>Poet=abdur-rahim-nashtar<br>Total Words Used=%{marker.size}<br>Vocabulary Set=%{y}<extra></extra>",
         "hovertext": [
          "abdur-rahim-nashtar"
         ],
         "legendgroup": "abdur-rahim-nashtar",
         "marker": {
          "color": "#FECB52",
          "size": [
           659
          ],
          "sizemode": "area",
          "sizeref": 1.37,
          "symbol": "circle"
         },
         "mode": "markers",
         "name": "abdur-rahim-nashtar",
         "orientation": "v",
         "showlegend": true,
         "type": "scatter",
         "x": [
          659
         ],
         "xaxis": "x",
         "y": [
          458
         ],
         "yaxis": "y"
        },
        {
         "hovertemplate": "<b>%{hovertext}</b><br><br>Poet=abdur-rasheed-khan-kaifi-mahkari<br>Total Words Used=%{marker.size}<br>Vocabulary Set=%{y}<extra></extra>",
         "hovertext": [
          "abdur-rasheed-khan-kaifi-mahkari"
         ],
         "legendgroup": "abdur-rasheed-khan-kaifi-mahkari",
         "marker": {
          "color": "#636efa",
          "size": [
           614
          ],
          "sizemode": "area",
          "sizeref": 1.37,
          "symbol": "circle"
         },
         "mode": "markers",
         "name": "abdur-rasheed-khan-kaifi-mahkari",
         "orientation": "v",
         "showlegend": true,
         "type": "scatter",
         "x": [
          614
         ],
         "xaxis": "x",
         "y": [
          426
         ],
         "yaxis": "y"
        },
        {
         "hovertemplate": "<b>%{hovertext}</b><br><br>Poet=abdur-rauf-urooj<br>Total Words Used=%{marker.size}<br>Vocabulary Set=%{y}<extra></extra>",
         "hovertext": [
          "abdur-rauf-urooj"
         ],
         "legendgroup": "abdur-rauf-urooj",
         "marker": {
          "color": "#EF553B",
          "size": [
           341
          ],
          "sizemode": "area",
          "sizeref": 1.37,
          "symbol": "circle"
         },
         "mode": "markers",
         "name": "abdur-rauf-urooj",
         "orientation": "v",
         "showlegend": true,
         "type": "scatter",
         "x": [
          341
         ],
         "xaxis": "x",
         "y": [
          253
         ],
         "yaxis": "y"
        },
        {
         "hovertemplate": "<b>%{hovertext}</b><br><br>Poet=abdurrahman-momin<br>Total Words Used=%{marker.size}<br>Vocabulary Set=%{y}<extra></extra>",
         "hovertext": [
          "abdurrahman-momin"
         ],
         "legendgroup": "abdurrahman-momin",
         "marker": {
          "color": "#00cc96",
          "size": [
           727
          ],
          "sizemode": "area",
          "sizeref": 1.37,
          "symbol": "circle"
         },
         "mode": "markers",
         "name": "abdurrahman-momin",
         "orientation": "v",
         "showlegend": true,
         "type": "scatter",
         "x": [
          727
         ],
         "xaxis": "x",
         "y": [
          393
         ],
         "yaxis": "y"
        },
        {
         "hovertemplate": "<b>%{hovertext}</b><br><br>Poet=abdurrahman-wasif<br>Total Words Used=%{marker.size}<br>Vocabulary Set=%{y}<extra></extra>",
         "hovertext": [
          "abdurrahman-wasif"
         ],
         "legendgroup": "abdurrahman-wasif",
         "marker": {
          "color": "#ab63fa",
          "size": [
           546
          ],
          "sizemode": "area",
          "sizeref": 1.37,
          "symbol": "circle"
         },
         "mode": "markers",
         "name": "abdurrahman-wasif",
         "orientation": "v",
         "showlegend": true,
         "type": "scatter",
         "x": [
          546
         ],
         "xaxis": "x",
         "y": [
          391
         ],
         "yaxis": "y"
        },
        {
         "hovertemplate": "<b>%{hovertext}</b><br><br>Poet=abdushshukoor-aasi<br>Total Words Used=%{marker.size}<br>Vocabulary Set=%{y}<extra></extra>",
         "hovertext": [
          "abdushshukoor-aasi"
         ],
         "legendgroup": "abdushshukoor-aasi",
         "marker": {
          "color": "#FFA15A",
          "size": [
           43
          ],
          "sizemode": "area",
          "sizeref": 1.37,
          "symbol": "circle"
         },
         "mode": "markers",
         "name": "abdushshukoor-aasi",
         "orientation": "v",
         "showlegend": true,
         "type": "scatter",
         "x": [
          43
         ],
         "xaxis": "x",
         "y": [
          35
         ],
         "yaxis": "y"
        },
        {
         "hovertemplate": "<b>%{hovertext}</b><br><br>Poet=abdussalam-asim<br>Total Words Used=%{marker.size}<br>Vocabulary Set=%{y}<extra></extra>",
         "hovertext": [
          "abdussalam-asim"
         ],
         "legendgroup": "abdussalam-asim",
         "marker": {
          "color": "#19d3f3",
          "size": [
           629
          ],
          "sizemode": "area",
          "sizeref": 1.37,
          "symbol": "circle"
         },
         "mode": "markers",
         "name": "abdussalam-asim",
         "orientation": "v",
         "showlegend": true,
         "type": "scatter",
         "x": [
          629
         ],
         "xaxis": "x",
         "y": [
          414
         ],
         "yaxis": "y"
        },
        {
         "hovertemplate": "<b>%{hovertext}</b><br><br>Poet=abdussamad-tapish<br>Total Words Used=%{marker.size}<br>Vocabulary Set=%{y}<extra></extra>",
         "hovertext": [
          "abdussamad-tapish"
         ],
         "legendgroup": "abdussamad-tapish",
         "marker": {
          "color": "#FF6692",
          "size": [
           520
          ],
          "sizemode": "area",
          "sizeref": 1.37,
          "symbol": "circle"
         },
         "mode": "markers",
         "name": "abdussamad-tapish",
         "orientation": "v",
         "showlegend": true,
         "type": "scatter",
         "x": [
          520
         ],
         "xaxis": "x",
         "y": [
          363
         ],
         "yaxis": "y"
        },
        {
         "hovertemplate": "<b>%{hovertext}</b><br><br>Poet=abeer-abuzari<br>Total Words Used=%{marker.size}<br>Vocabulary Set=%{y}<extra></extra>",
         "hovertext": [
          "abeer-abuzari"
         ],
         "legendgroup": "abeer-abuzari",
         "marker": {
          "color": "#B6E880",
          "size": [
           61
          ],
          "sizemode": "area",
          "sizeref": 1.37,
          "symbol": "circle"
         },
         "mode": "markers",
         "name": "abeer-abuzari",
         "orientation": "v",
         "showlegend": true,
         "type": "scatter",
         "x": [
          61
         ],
         "xaxis": "x",
         "y": [
          43
         ],
         "yaxis": "y"
        },
        {
         "hovertemplate": "<b>%{hovertext}</b><br><br>Poet=abhay-kumar-bebak<br>Total Words Used=%{marker.size}<br>Vocabulary Set=%{y}<extra></extra>",
         "hovertext": [
          "abhay-kumar-bebak"
         ],
         "legendgroup": "abhay-kumar-bebak",
         "marker": {
          "color": "#FF97FF",
          "size": [
           581
          ],
          "sizemode": "area",
          "sizeref": 1.37,
          "symbol": "circle"
         },
         "mode": "markers",
         "name": "abhay-kumar-bebak",
         "orientation": "v",
         "showlegend": true,
         "type": "scatter",
         "x": [
          581
         ],
         "xaxis": "x",
         "y": [
          397
         ],
         "yaxis": "y"
        },
        {
         "hovertemplate": "<b>%{hovertext}</b><br><br>Poet=abhinandan-pandey<br>Total Words Used=%{marker.size}<br>Vocabulary Set=%{y}<extra></extra>",
         "hovertext": [
          "abhinandan-pandey"
         ],
         "legendgroup": "abhinandan-pandey",
         "marker": {
          "color": "#FECB52",
          "size": [
           591
          ],
          "sizemode": "area",
          "sizeref": 1.37,
          "symbol": "circle"
         },
         "mode": "markers",
         "name": "abhinandan-pandey",
         "orientation": "v",
         "showlegend": true,
         "type": "scatter",
         "x": [
          591
         ],
         "xaxis": "x",
         "y": [
          423
         ],
         "yaxis": "y"
        },
        {
         "hovertemplate": "<b>%{hovertext}</b><br><br>Poet=abhishek-kumar-amber<br>Total Words Used=%{marker.size}<br>Vocabulary Set=%{y}<extra></extra>",
         "hovertext": [
          "abhishek-kumar-amber"
         ],
         "legendgroup": "abhishek-kumar-amber",
         "marker": {
          "color": "#636efa",
          "size": [
           345
          ],
          "sizemode": "area",
          "sizeref": 1.37,
          "symbol": "circle"
         },
         "mode": "markers",
         "name": "abhishek-kumar-amber",
         "orientation": "v",
         "showlegend": true,
         "type": "scatter",
         "x": [
          345
         ],
         "xaxis": "x",
         "y": [
          252
         ],
         "yaxis": "y"
        },
        {
         "hovertemplate": "<b>%{hovertext}</b><br><br>Poet=abhishek-shukla<br>Total Words Used=%{marker.size}<br>Vocabulary Set=%{y}<extra></extra>",
         "hovertext": [
          "abhishek-shukla"
         ],
         "legendgroup": "abhishek-shukla",
         "marker": {
          "color": "#EF553B",
          "size": [
           845
          ],
          "sizemode": "area",
          "sizeref": 1.37,
          "symbol": "circle"
         },
         "mode": "markers",
         "name": "abhishek-shukla",
         "orientation": "v",
         "showlegend": true,
         "type": "scatter",
         "x": [
          845
         ],
         "xaxis": "x",
         "y": [
          494
         ],
         "yaxis": "y"
        },
        {
         "hovertemplate": "<b>%{hovertext}</b><br><br>Poet=abid-akhtar<br>Total Words Used=%{marker.size}<br>Vocabulary Set=%{y}<extra></extra>",
         "hovertext": [
          "abid-akhtar"
         ],
         "legendgroup": "abid-akhtar",
         "marker": {
          "color": "#00cc96",
          "size": [
           473
          ],
          "sizemode": "area",
          "sizeref": 1.37,
          "symbol": "circle"
         },
         "mode": "markers",
         "name": "abid-akhtar",
         "orientation": "v",
         "showlegend": true,
         "type": "scatter",
         "x": [
          473
         ],
         "xaxis": "x",
         "y": [
          351
         ],
         "yaxis": "y"
        },
        {
         "hovertemplate": "<b>%{hovertext}</b><br><br>Poet=abid-almi<br>Total Words Used=%{marker.size}<br>Vocabulary Set=%{y}<extra></extra>",
         "hovertext": [
          "abid-almi"
         ],
         "legendgroup": "abid-almi",
         "marker": {
          "color": "#ab63fa",
          "size": [
           647
          ],
          "sizemode": "area",
          "sizeref": 1.37,
          "symbol": "circle"
         },
         "mode": "markers",
         "name": "abid-almi",
         "orientation": "v",
         "showlegend": true,
         "type": "scatter",
         "x": [
          647
         ],
         "xaxis": "x",
         "y": [
          380
         ],
         "yaxis": "y"
        },
        {
         "hovertemplate": "<b>%{hovertext}</b><br><br>Poet=abid-hashri<br>Total Words Used=%{marker.size}<br>Vocabulary Set=%{y}<extra></extra>",
         "hovertext": [
          "abid-hashri"
         ],
         "legendgroup": "abid-hashri",
         "marker": {
          "color": "#FFA15A",
          "size": [
           261
          ],
          "sizemode": "area",
          "sizeref": 1.37,
          "symbol": "circle"
         },
         "mode": "markers",
         "name": "abid-hashri",
         "orientation": "v",
         "showlegend": true,
         "type": "scatter",
         "x": [
          261
         ],
         "xaxis": "x",
         "y": [
          202
         ],
         "yaxis": "y"
        },
        {
         "hovertemplate": "<b>%{hovertext}</b><br><br>Poet=abid-karhani<br>Total Words Used=%{marker.size}<br>Vocabulary Set=%{y}<extra></extra>",
         "hovertext": [
          "abid-karhani"
         ],
         "legendgroup": "abid-karhani",
         "marker": {
          "color": "#19d3f3",
          "size": [
           156
          ],
          "sizemode": "area",
          "sizeref": 1.37,
          "symbol": "circle"
         },
         "mode": "markers",
         "name": "abid-karhani",
         "orientation": "v",
         "showlegend": true,
         "type": "scatter",
         "x": [
          156
         ],
         "xaxis": "x",
         "y": [
          109
         ],
         "yaxis": "y"
        },
        {
         "hovertemplate": "<b>%{hovertext}</b><br><br>Poet=abid-kazmi<br>Total Words Used=%{marker.size}<br>Vocabulary Set=%{y}<extra></extra>",
         "hovertext": [
          "abid-kazmi"
         ],
         "legendgroup": "abid-kazmi",
         "marker": {
          "color": "#FF6692",
          "size": [
           204
          ],
          "sizemode": "area",
          "sizeref": 1.37,
          "symbol": "circle"
         },
         "mode": "markers",
         "name": "abid-kazmi",
         "orientation": "v",
         "showlegend": true,
         "type": "scatter",
         "x": [
          204
         ],
         "xaxis": "x",
         "y": [
          168
         ],
         "yaxis": "y"
        },
        {
         "hovertemplate": "<b>%{hovertext}</b><br><br>Poet=abid-khursheed<br>Total Words Used=%{marker.size}<br>Vocabulary Set=%{y}<extra></extra>",
         "hovertext": [
          "abid-khursheed"
         ],
         "legendgroup": "abid-khursheed",
         "marker": {
          "color": "#B6E880",
          "size": [
           56
          ],
          "sizemode": "area",
          "sizeref": 1.37,
          "symbol": "circle"
         },
         "mode": "markers",
         "name": "abid-khursheed",
         "orientation": "v",
         "showlegend": true,
         "type": "scatter",
         "x": [
          56
         ],
         "xaxis": "x",
         "y": [
          49
         ],
         "yaxis": "y"
        },
        {
         "hovertemplate": "<b>%{hovertext}</b><br><br>Poet=abid-malik<br>Total Words Used=%{marker.size}<br>Vocabulary Set=%{y}<extra></extra>",
         "hovertext": [
          "abid-malik"
         ],
         "legendgroup": "abid-malik",
         "marker": {
          "color": "#FF97FF",
          "size": [
           460
          ],
          "sizemode": "area",
          "sizeref": 1.37,
          "symbol": "circle"
         },
         "mode": "markers",
         "name": "abid-malik",
         "orientation": "v",
         "showlegend": true,
         "type": "scatter",
         "x": [
          460
         ],
         "xaxis": "x",
         "y": [
          316
         ],
         "yaxis": "y"
        },
        {
         "hovertemplate": "<b>%{hovertext}</b><br><br>Poet=abid-munavari<br>Total Words Used=%{marker.size}<br>Vocabulary Set=%{y}<extra></extra>",
         "hovertext": [
          "abid-munavari"
         ],
         "legendgroup": "abid-munavari",
         "marker": {
          "color": "#FECB52",
          "size": [
           716
          ],
          "sizemode": "area",
          "sizeref": 1.37,
          "symbol": "circle"
         },
         "mode": "markers",
         "name": "abid-munavari",
         "orientation": "v",
         "showlegend": true,
         "type": "scatter",
         "x": [
          716
         ],
         "xaxis": "x",
         "y": [
          491
         ],
         "yaxis": "y"
        },
        {
         "hovertemplate": "<b>%{hovertext}</b><br><br>Poet=abid-nami<br>Total Words Used=%{marker.size}<br>Vocabulary Set=%{y}<extra></extra>",
         "hovertext": [
          "abid-nami"
         ],
         "legendgroup": "abid-nami",
         "marker": {
          "color": "#636efa",
          "size": [
           124
          ],
          "sizemode": "area",
          "sizeref": 1.37,
          "symbol": "circle"
         },
         "mode": "markers",
         "name": "abid-nami",
         "orientation": "v",
         "showlegend": true,
         "type": "scatter",
         "x": [
          124
         ],
         "xaxis": "x",
         "y": [
          111
         ],
         "yaxis": "y"
        },
        {
         "hovertemplate": "<b>%{hovertext}</b><br><br>Poet=abid-siddiq<br>Total Words Used=%{marker.size}<br>Vocabulary Set=%{y}<extra></extra>",
         "hovertext": [
          "abid-siddiq"
         ],
         "legendgroup": "abid-siddiq",
         "marker": {
          "color": "#EF553B",
          "size": [
           44
          ],
          "sizemode": "area",
          "sizeref": 1.37,
          "symbol": "circle"
         },
         "mode": "markers",
         "name": "abid-siddiq",
         "orientation": "v",
         "showlegend": true,
         "type": "scatter",
         "x": [
          44
         ],
         "xaxis": "x",
         "y": [
          41
         ],
         "yaxis": "y"
        },
        {
         "hovertemplate": "<b>%{hovertext}</b><br><br>Poet=abid-syal<br>Total Words Used=%{marker.size}<br>Vocabulary Set=%{y}<extra></extra>",
         "hovertext": [
          "abid-syal"
         ],
         "legendgroup": "abid-syal",
         "marker": {
          "color": "#00cc96",
          "size": [
           115
          ],
          "sizemode": "area",
          "sizeref": 1.37,
          "symbol": "circle"
         },
         "mode": "markers",
         "name": "abid-syal",
         "orientation": "v",
         "showlegend": true,
         "type": "scatter",
         "x": [
          115
         ],
         "xaxis": "x",
         "y": [
          99
         ],
         "yaxis": "y"
        },
        {
         "hovertemplate": "<b>%{hovertext}</b><br><br>Poet=abid-wadood<br>Total Words Used=%{marker.size}<br>Vocabulary Set=%{y}<extra></extra>",
         "hovertext": [
          "abid-wadood"
         ],
         "legendgroup": "abid-wadood",
         "marker": {
          "color": "#ab63fa",
          "size": [
           707
          ],
          "sizemode": "area",
          "sizeref": 1.37,
          "symbol": "circle"
         },
         "mode": "markers",
         "name": "abid-wadood",
         "orientation": "v",
         "showlegend": true,
         "type": "scatter",
         "x": [
          707
         ],
         "xaxis": "x",
         "y": [
          478
         ],
         "yaxis": "y"
        },
        {
         "hovertemplate": "<b>%{hovertext}</b><br><br>Poet=abida-karamat<br>Total Words Used=%{marker.size}<br>Vocabulary Set=%{y}<extra></extra>",
         "hovertext": [
          "abida-karamat"
         ],
         "legendgroup": "abida-karamat",
         "marker": {
          "color": "#FFA15A",
          "size": [
           85
          ],
          "sizemode": "area",
          "sizeref": 1.37,
          "symbol": "circle"
         },
         "mode": "markers",
         "name": "abida-karamat",
         "orientation": "v",
         "showlegend": true,
         "type": "scatter",
         "x": [
          85
         ],
         "xaxis": "x",
         "y": [
          68
         ],
         "yaxis": "y"
        },
        {
         "hovertemplate": "<b>%{hovertext}</b><br><br>Poet=abr-ahsani-ganauri<br>Total Words Used=%{marker.size}<br>Vocabulary Set=%{y}<extra></extra>",
         "hovertext": [
          "abr-ahsani-ganauri"
         ],
         "legendgroup": "abr-ahsani-ganauri",
         "marker": {
          "color": "#19d3f3",
          "size": [
           164
          ],
          "sizemode": "area",
          "sizeref": 1.37,
          "symbol": "circle"
         },
         "mode": "markers",
         "name": "abr-ahsani-ganauri",
         "orientation": "v",
         "showlegend": true,
         "type": "scatter",
         "x": [
          164
         ],
         "xaxis": "x",
         "y": [
          138
         ],
         "yaxis": "y"
        },
        {
         "hovertemplate": "<b>%{hovertext}</b><br><br>Poet=abrar-abid<br>Total Words Used=%{marker.size}<br>Vocabulary Set=%{y}<extra></extra>",
         "hovertext": [
          "abrar-abid"
         ],
         "legendgroup": "abrar-abid",
         "marker": {
          "color": "#FF6692",
          "size": [
           498
          ],
          "sizemode": "area",
          "sizeref": 1.37,
          "symbol": "circle"
         },
         "mode": "markers",
         "name": "abrar-abid",
         "orientation": "v",
         "showlegend": true,
         "type": "scatter",
         "x": [
          498
         ],
         "xaxis": "x",
         "y": [
          356
         ],
         "yaxis": "y"
        },
        {
         "hovertemplate": "<b>%{hovertext}</b><br><br>Poet=abrar-ahmad<br>Total Words Used=%{marker.size}<br>Vocabulary Set=%{y}<extra></extra>",
         "hovertext": [
          "abrar-ahmad"
         ],
         "legendgroup": "abrar-ahmad",
         "marker": {
          "color": "#B6E880",
          "size": [
           1389
          ],
          "sizemode": "area",
          "sizeref": 1.37,
          "symbol": "circle"
         },
         "mode": "markers",
         "name": "abrar-ahmad",
         "orientation": "v",
         "showlegend": true,
         "type": "scatter",
         "x": [
          1389
         ],
         "xaxis": "x",
         "y": [
          710
         ],
         "yaxis": "y"
        },
        {
         "hovertemplate": "<b>%{hovertext}</b><br><br>Poet=abrar-azmi<br>Total Words Used=%{marker.size}<br>Vocabulary Set=%{y}<extra></extra>",
         "hovertext": [
          "abrar-azmi"
         ],
         "legendgroup": "abrar-azmi",
         "marker": {
          "color": "#FF97FF",
          "size": [
           468
          ],
          "sizemode": "area",
          "sizeref": 1.37,
          "symbol": "circle"
         },
         "mode": "markers",
         "name": "abrar-azmi",
         "orientation": "v",
         "showlegend": true,
         "type": "scatter",
         "x": [
          468
         ],
         "xaxis": "x",
         "y": [
          322
         ],
         "yaxis": "y"
        },
        {
         "hovertemplate": "<b>%{hovertext}</b><br><br>Poet=abrar-hamid<br>Total Words Used=%{marker.size}<br>Vocabulary Set=%{y}<extra></extra>",
         "hovertext": [
          "abrar-hamid"
         ],
         "legendgroup": "abrar-hamid",
         "marker": {
          "color": "#FECB52",
          "size": [
           280
          ],
          "sizemode": "area",
          "sizeref": 1.37,
          "symbol": "circle"
         },
         "mode": "markers",
         "name": "abrar-hamid",
         "orientation": "v",
         "showlegend": true,
         "type": "scatter",
         "x": [
          280
         ],
         "xaxis": "x",
         "y": [
          219
         ],
         "yaxis": "y"
        }
       ],
       "layout": {
        "legend": {
         "itemsizing": "constant",
         "title": {
          "text": "Poet"
         },
         "tracegroupgap": 0
        },
        "margin": {
         "t": 60
        },
        "template": {
         "data": {
          "bar": [
           {
            "error_x": {
             "color": "#2a3f5f"
            },
            "error_y": {
             "color": "#2a3f5f"
            },
            "marker": {
             "line": {
              "color": "#E5ECF6",
              "width": 0.5
             }
            },
            "type": "bar"
           }
          ],
          "barpolar": [
           {
            "marker": {
             "line": {
              "color": "#E5ECF6",
              "width": 0.5
             }
            },
            "type": "barpolar"
           }
          ],
          "carpet": [
           {
            "aaxis": {
             "endlinecolor": "#2a3f5f",
             "gridcolor": "white",
             "linecolor": "white",
             "minorgridcolor": "white",
             "startlinecolor": "#2a3f5f"
            },
            "baxis": {
             "endlinecolor": "#2a3f5f",
             "gridcolor": "white",
             "linecolor": "white",
             "minorgridcolor": "white",
             "startlinecolor": "#2a3f5f"
            },
            "type": "carpet"
           }
          ],
          "choropleth": [
           {
            "colorbar": {
             "outlinewidth": 0,
             "ticks": ""
            },
            "type": "choropleth"
           }
          ],
          "contour": [
           {
            "colorbar": {
             "outlinewidth": 0,
             "ticks": ""
            },
            "colorscale": [
             [
              0,
              "#0d0887"
             ],
             [
              0.1111111111111111,
              "#46039f"
             ],
             [
              0.2222222222222222,
              "#7201a8"
             ],
             [
              0.3333333333333333,
              "#9c179e"
             ],
             [
              0.4444444444444444,
              "#bd3786"
             ],
             [
              0.5555555555555556,
              "#d8576b"
             ],
             [
              0.6666666666666666,
              "#ed7953"
             ],
             [
              0.7777777777777778,
              "#fb9f3a"
             ],
             [
              0.8888888888888888,
              "#fdca26"
             ],
             [
              1,
              "#f0f921"
             ]
            ],
            "type": "contour"
           }
          ],
          "contourcarpet": [
           {
            "colorbar": {
             "outlinewidth": 0,
             "ticks": ""
            },
            "type": "contourcarpet"
           }
          ],
          "heatmap": [
           {
            "colorbar": {
             "outlinewidth": 0,
             "ticks": ""
            },
            "colorscale": [
             [
              0,
              "#0d0887"
             ],
             [
              0.1111111111111111,
              "#46039f"
             ],
             [
              0.2222222222222222,
              "#7201a8"
             ],
             [
              0.3333333333333333,
              "#9c179e"
             ],
             [
              0.4444444444444444,
              "#bd3786"
             ],
             [
              0.5555555555555556,
              "#d8576b"
             ],
             [
              0.6666666666666666,
              "#ed7953"
             ],
             [
              0.7777777777777778,
              "#fb9f3a"
             ],
             [
              0.8888888888888888,
              "#fdca26"
             ],
             [
              1,
              "#f0f921"
             ]
            ],
            "type": "heatmap"
           }
          ],
          "heatmapgl": [
           {
            "colorbar": {
             "outlinewidth": 0,
             "ticks": ""
            },
            "colorscale": [
             [
              0,
              "#0d0887"
             ],
             [
              0.1111111111111111,
              "#46039f"
             ],
             [
              0.2222222222222222,
              "#7201a8"
             ],
             [
              0.3333333333333333,
              "#9c179e"
             ],
             [
              0.4444444444444444,
              "#bd3786"
             ],
             [
              0.5555555555555556,
              "#d8576b"
             ],
             [
              0.6666666666666666,
              "#ed7953"
             ],
             [
              0.7777777777777778,
              "#fb9f3a"
             ],
             [
              0.8888888888888888,
              "#fdca26"
             ],
             [
              1,
              "#f0f921"
             ]
            ],
            "type": "heatmapgl"
           }
          ],
          "histogram": [
           {
            "marker": {
             "colorbar": {
              "outlinewidth": 0,
              "ticks": ""
             }
            },
            "type": "histogram"
           }
          ],
          "histogram2d": [
           {
            "colorbar": {
             "outlinewidth": 0,
             "ticks": ""
            },
            "colorscale": [
             [
              0,
              "#0d0887"
             ],
             [
              0.1111111111111111,
              "#46039f"
             ],
             [
              0.2222222222222222,
              "#7201a8"
             ],
             [
              0.3333333333333333,
              "#9c179e"
             ],
             [
              0.4444444444444444,
              "#bd3786"
             ],
             [
              0.5555555555555556,
              "#d8576b"
             ],
             [
              0.6666666666666666,
              "#ed7953"
             ],
             [
              0.7777777777777778,
              "#fb9f3a"
             ],
             [
              0.8888888888888888,
              "#fdca26"
             ],
             [
              1,
              "#f0f921"
             ]
            ],
            "type": "histogram2d"
           }
          ],
          "histogram2dcontour": [
           {
            "colorbar": {
             "outlinewidth": 0,
             "ticks": ""
            },
            "colorscale": [
             [
              0,
              "#0d0887"
             ],
             [
              0.1111111111111111,
              "#46039f"
             ],
             [
              0.2222222222222222,
              "#7201a8"
             ],
             [
              0.3333333333333333,
              "#9c179e"
             ],
             [
              0.4444444444444444,
              "#bd3786"
             ],
             [
              0.5555555555555556,
              "#d8576b"
             ],
             [
              0.6666666666666666,
              "#ed7953"
             ],
             [
              0.7777777777777778,
              "#fb9f3a"
             ],
             [
              0.8888888888888888,
              "#fdca26"
             ],
             [
              1,
              "#f0f921"
             ]
            ],
            "type": "histogram2dcontour"
           }
          ],
          "mesh3d": [
           {
            "colorbar": {
             "outlinewidth": 0,
             "ticks": ""
            },
            "type": "mesh3d"
           }
          ],
          "parcoords": [
           {
            "line": {
             "colorbar": {
              "outlinewidth": 0,
              "ticks": ""
             }
            },
            "type": "parcoords"
           }
          ],
          "pie": [
           {
            "automargin": true,
            "type": "pie"
           }
          ],
          "scatter": [
           {
            "marker": {
             "colorbar": {
              "outlinewidth": 0,
              "ticks": ""
             }
            },
            "type": "scatter"
           }
          ],
          "scatter3d": [
           {
            "line": {
             "colorbar": {
              "outlinewidth": 0,
              "ticks": ""
             }
            },
            "marker": {
             "colorbar": {
              "outlinewidth": 0,
              "ticks": ""
             }
            },
            "type": "scatter3d"
           }
          ],
          "scattercarpet": [
           {
            "marker": {
             "colorbar": {
              "outlinewidth": 0,
              "ticks": ""
             }
            },
            "type": "scattercarpet"
           }
          ],
          "scattergeo": [
           {
            "marker": {
             "colorbar": {
              "outlinewidth": 0,
              "ticks": ""
             }
            },
            "type": "scattergeo"
           }
          ],
          "scattergl": [
           {
            "marker": {
             "colorbar": {
              "outlinewidth": 0,
              "ticks": ""
             }
            },
            "type": "scattergl"
           }
          ],
          "scattermapbox": [
           {
            "marker": {
             "colorbar": {
              "outlinewidth": 0,
              "ticks": ""
             }
            },
            "type": "scattermapbox"
           }
          ],
          "scatterpolar": [
           {
            "marker": {
             "colorbar": {
              "outlinewidth": 0,
              "ticks": ""
             }
            },
            "type": "scatterpolar"
           }
          ],
          "scatterpolargl": [
           {
            "marker": {
             "colorbar": {
              "outlinewidth": 0,
              "ticks": ""
             }
            },
            "type": "scatterpolargl"
           }
          ],
          "scatterternary": [
           {
            "marker": {
             "colorbar": {
              "outlinewidth": 0,
              "ticks": ""
             }
            },
            "type": "scatterternary"
           }
          ],
          "surface": [
           {
            "colorbar": {
             "outlinewidth": 0,
             "ticks": ""
            },
            "colorscale": [
             [
              0,
              "#0d0887"
             ],
             [
              0.1111111111111111,
              "#46039f"
             ],
             [
              0.2222222222222222,
              "#7201a8"
             ],
             [
              0.3333333333333333,
              "#9c179e"
             ],
             [
              0.4444444444444444,
              "#bd3786"
             ],
             [
              0.5555555555555556,
              "#d8576b"
             ],
             [
              0.6666666666666666,
              "#ed7953"
             ],
             [
              0.7777777777777778,
              "#fb9f3a"
             ],
             [
              0.8888888888888888,
              "#fdca26"
             ],
             [
              1,
              "#f0f921"
             ]
            ],
            "type": "surface"
           }
          ],
          "table": [
           {
            "cells": {
             "fill": {
              "color": "#EBF0F8"
             },
             "line": {
              "color": "white"
             }
            },
            "header": {
             "fill": {
              "color": "#C8D4E3"
             },
             "line": {
              "color": "white"
             }
            },
            "type": "table"
           }
          ]
         },
         "layout": {
          "annotationdefaults": {
           "arrowcolor": "#2a3f5f",
           "arrowhead": 0,
           "arrowwidth": 1
          },
          "coloraxis": {
           "colorbar": {
            "outlinewidth": 0,
            "ticks": ""
           }
          },
          "colorscale": {
           "diverging": [
            [
             0,
             "#8e0152"
            ],
            [
             0.1,
             "#c51b7d"
            ],
            [
             0.2,
             "#de77ae"
            ],
            [
             0.3,
             "#f1b6da"
            ],
            [
             0.4,
             "#fde0ef"
            ],
            [
             0.5,
             "#f7f7f7"
            ],
            [
             0.6,
             "#e6f5d0"
            ],
            [
             0.7,
             "#b8e186"
            ],
            [
             0.8,
             "#7fbc41"
            ],
            [
             0.9,
             "#4d9221"
            ],
            [
             1,
             "#276419"
            ]
           ],
           "sequential": [
            [
             0,
             "#0d0887"
            ],
            [
             0.1111111111111111,
             "#46039f"
            ],
            [
             0.2222222222222222,
             "#7201a8"
            ],
            [
             0.3333333333333333,
             "#9c179e"
            ],
            [
             0.4444444444444444,
             "#bd3786"
            ],
            [
             0.5555555555555556,
             "#d8576b"
            ],
            [
             0.6666666666666666,
             "#ed7953"
            ],
            [
             0.7777777777777778,
             "#fb9f3a"
            ],
            [
             0.8888888888888888,
             "#fdca26"
            ],
            [
             1,
             "#f0f921"
            ]
           ],
           "sequentialminus": [
            [
             0,
             "#0d0887"
            ],
            [
             0.1111111111111111,
             "#46039f"
            ],
            [
             0.2222222222222222,
             "#7201a8"
            ],
            [
             0.3333333333333333,
             "#9c179e"
            ],
            [
             0.4444444444444444,
             "#bd3786"
            ],
            [
             0.5555555555555556,
             "#d8576b"
            ],
            [
             0.6666666666666666,
             "#ed7953"
            ],
            [
             0.7777777777777778,
             "#fb9f3a"
            ],
            [
             0.8888888888888888,
             "#fdca26"
            ],
            [
             1,
             "#f0f921"
            ]
           ]
          },
          "colorway": [
           "#636efa",
           "#EF553B",
           "#00cc96",
           "#ab63fa",
           "#FFA15A",
           "#19d3f3",
           "#FF6692",
           "#B6E880",
           "#FF97FF",
           "#FECB52"
          ],
          "font": {
           "color": "#2a3f5f"
          },
          "geo": {
           "bgcolor": "white",
           "lakecolor": "white",
           "landcolor": "#E5ECF6",
           "showlakes": true,
           "showland": true,
           "subunitcolor": "white"
          },
          "hoverlabel": {
           "align": "left"
          },
          "hovermode": "closest",
          "mapbox": {
           "style": "light"
          },
          "paper_bgcolor": "white",
          "plot_bgcolor": "#E5ECF6",
          "polar": {
           "angularaxis": {
            "gridcolor": "white",
            "linecolor": "white",
            "ticks": ""
           },
           "bgcolor": "#E5ECF6",
           "radialaxis": {
            "gridcolor": "white",
            "linecolor": "white",
            "ticks": ""
           }
          },
          "scene": {
           "xaxis": {
            "backgroundcolor": "#E5ECF6",
            "gridcolor": "white",
            "gridwidth": 2,
            "linecolor": "white",
            "showbackground": true,
            "ticks": "",
            "zerolinecolor": "white"
           },
           "yaxis": {
            "backgroundcolor": "#E5ECF6",
            "gridcolor": "white",
            "gridwidth": 2,
            "linecolor": "white",
            "showbackground": true,
            "ticks": "",
            "zerolinecolor": "white"
           },
           "zaxis": {
            "backgroundcolor": "#E5ECF6",
            "gridcolor": "white",
            "gridwidth": 2,
            "linecolor": "white",
            "showbackground": true,
            "ticks": "",
            "zerolinecolor": "white"
           }
          },
          "shapedefaults": {
           "line": {
            "color": "#2a3f5f"
           }
          },
          "ternary": {
           "aaxis": {
            "gridcolor": "white",
            "linecolor": "white",
            "ticks": ""
           },
           "baxis": {
            "gridcolor": "white",
            "linecolor": "white",
            "ticks": ""
           },
           "bgcolor": "#E5ECF6",
           "caxis": {
            "gridcolor": "white",
            "linecolor": "white",
            "ticks": ""
           }
          },
          "title": {
           "x": 0.05
          },
          "xaxis": {
           "automargin": true,
           "gridcolor": "white",
           "linecolor": "white",
           "ticks": "",
           "title": {
            "standoff": 15
           },
           "zerolinecolor": "white",
           "zerolinewidth": 2
          },
          "yaxis": {
           "automargin": true,
           "gridcolor": "white",
           "linecolor": "white",
           "ticks": "",
           "title": {
            "standoff": 15
           },
           "zerolinecolor": "white",
           "zerolinewidth": 2
          }
         }
        },
        "xaxis": {
         "anchor": "y",
         "domain": [
          0,
          1
         ],
         "title": {
          "text": "Total Words Used"
         },
         "type": "log"
        },
        "yaxis": {
         "anchor": "x",
         "domain": [
          0,
          1
         ],
         "title": {
          "text": "Vocabulary Set"
         }
        }
       }
      },
      "text/html": [
       "<div>\n",
       "        \n",
       "        \n",
       "            <div id=\"95e67a26-d1e9-4f90-adad-2a0d80836ec1\" class=\"plotly-graph-div\" style=\"height:525px; width:100%;\"></div>\n",
       "            <script type=\"text/javascript\">\n",
       "                require([\"plotly\"], function(Plotly) {\n",
       "                    window.PLOTLYENV=window.PLOTLYENV || {};\n",
       "                    \n",
       "                if (document.getElementById(\"95e67a26-d1e9-4f90-adad-2a0d80836ec1\")) {\n",
       "                    Plotly.newPlot(\n",
       "                        '95e67a26-d1e9-4f90-adad-2a0d80836ec1',\n",
       "                        [{\"hovertemplate\": \"<b>%{hovertext}</b><br><br>Poet=a-g-josh<br>Total Words Used=%{marker.size}<br>Vocabulary Set=%{y}<extra></extra>\", \"hovertext\": [\"a-g-josh\"], \"legendgroup\": \"a-g-josh\", \"marker\": {\"color\": \"#636efa\", \"size\": [700], \"sizemode\": \"area\", \"sizeref\": 1.37, \"symbol\": \"circle\"}, \"mode\": \"markers\", \"name\": \"a-g-josh\", \"orientation\": \"v\", \"showlegend\": true, \"type\": \"scatter\", \"x\": [700], \"xaxis\": \"x\", \"y\": [455], \"yaxis\": \"y\"}, {\"hovertemplate\": \"<b>%{hovertext}</b><br><br>Poet=aabid-adeeb<br>Total Words Used=%{marker.size}<br>Vocabulary Set=%{y}<extra></extra>\", \"hovertext\": [\"aabid-adeeb\"], \"legendgroup\": \"aabid-adeeb\", \"marker\": {\"color\": \"#EF553B\", \"size\": [663], \"sizemode\": \"area\", \"sizeref\": 1.37, \"symbol\": \"circle\"}, \"mode\": \"markers\", \"name\": \"aabid-adeeb\", \"orientation\": \"v\", \"showlegend\": true, \"type\": \"scatter\", \"x\": [663], \"xaxis\": \"x\", \"y\": [438], \"yaxis\": \"y\"}, {\"hovertemplate\": \"<b>%{hovertext}</b><br><br>Poet=aabid-umar<br>Total Words Used=%{marker.size}<br>Vocabulary Set=%{y}<extra></extra>\", \"hovertext\": [\"aabid-umar\"], \"legendgroup\": \"aabid-umar\", \"marker\": {\"color\": \"#00cc96\", \"size\": [779], \"sizemode\": \"area\", \"sizeref\": 1.37, \"symbol\": \"circle\"}, \"mode\": \"markers\", \"name\": \"aabid-umar\", \"orientation\": \"v\", \"showlegend\": true, \"type\": \"scatter\", \"x\": [779], \"xaxis\": \"x\", \"y\": [513], \"yaxis\": \"y\"}, {\"hovertemplate\": \"<b>%{hovertext}</b><br><br>Poet=aabida-urooj<br>Total Words Used=%{marker.size}<br>Vocabulary Set=%{y}<extra></extra>\", \"hovertext\": [\"aabida-urooj\"], \"legendgroup\": \"aabida-urooj\", \"marker\": {\"color\": \"#ab63fa\", \"size\": [70], \"sizemode\": \"area\", \"sizeref\": 1.37, \"symbol\": \"circle\"}, \"mode\": \"markers\", \"name\": \"aabida-urooj\", \"orientation\": \"v\", \"showlegend\": true, \"type\": \"scatter\", \"x\": [70], \"xaxis\": \"x\", \"y\": [61], \"yaxis\": \"y\"}, {\"hovertemplate\": \"<b>%{hovertext}</b><br><br>Poet=aadil-raza-mansoori<br>Total Words Used=%{marker.size}<br>Vocabulary Set=%{y}<extra></extra>\", \"hovertext\": [\"aadil-raza-mansoori\"], \"legendgroup\": \"aadil-raza-mansoori\", \"marker\": {\"color\": \"#FFA15A\", \"size\": [426], \"sizemode\": \"area\", \"sizeref\": 1.37, \"symbol\": \"circle\"}, \"mode\": \"markers\", \"name\": \"aadil-raza-mansoori\", \"orientation\": \"v\", \"showlegend\": true, \"type\": \"scatter\", \"x\": [426], \"xaxis\": \"x\", \"y\": [282], \"yaxis\": \"y\"}, {\"hovertemplate\": \"<b>%{hovertext}</b><br><br>Poet=aafaque-siddiqui<br>Total Words Used=%{marker.size}<br>Vocabulary Set=%{y}<extra></extra>\", \"hovertext\": [\"aafaque-siddiqui\"], \"legendgroup\": \"aafaque-siddiqui\", \"marker\": {\"color\": \"#19d3f3\", \"size\": [46], \"sizemode\": \"area\", \"sizeref\": 1.37, \"symbol\": \"circle\"}, \"mode\": \"markers\", \"name\": \"aafaque-siddiqui\", \"orientation\": \"v\", \"showlegend\": true, \"type\": \"scatter\", \"x\": [46], \"xaxis\": \"x\", \"y\": [42], \"yaxis\": \"y\"}, {\"hovertemplate\": \"<b>%{hovertext}</b><br><br>Poet=aaga-nisaar<br>Total Words Used=%{marker.size}<br>Vocabulary Set=%{y}<extra></extra>\", \"hovertext\": [\"aaga-nisaar\"], \"legendgroup\": \"aaga-nisaar\", \"marker\": {\"color\": \"#FF6692\", \"size\": [57], \"sizemode\": \"area\", \"sizeref\": 1.37, \"symbol\": \"circle\"}, \"mode\": \"markers\", \"name\": \"aaga-nisaar\", \"orientation\": \"v\", \"showlegend\": true, \"type\": \"scatter\", \"x\": [57], \"xaxis\": \"x\", \"y\": [51], \"yaxis\": \"y\"}, {\"hovertemplate\": \"<b>%{hovertext}</b><br><br>Poet=aagha-akbarabadi<br>Total Words Used=%{marker.size}<br>Vocabulary Set=%{y}<extra></extra>\", \"hovertext\": [\"aagha-akbarabadi\"], \"legendgroup\": \"aagha-akbarabadi\", \"marker\": {\"color\": \"#B6E880\", \"size\": [2383], \"sizemode\": \"area\", \"sizeref\": 1.37, \"symbol\": \"circle\"}, \"mode\": \"markers\", \"name\": \"aagha-akbarabadi\", \"orientation\": \"v\", \"showlegend\": true, \"type\": \"scatter\", \"x\": [2383], \"xaxis\": \"x\", \"y\": [1295], \"yaxis\": \"y\"}, {\"hovertemplate\": \"<b>%{hovertext}</b><br><br>Poet=aakif-ghani<br>Total Words Used=%{marker.size}<br>Vocabulary Set=%{y}<extra></extra>\", \"hovertext\": [\"aakif-ghani\"], \"legendgroup\": \"aakif-ghani\", \"marker\": {\"color\": \"#FF97FF\", \"size\": [164], \"sizemode\": \"area\", \"sizeref\": 1.37, \"symbol\": \"circle\"}, \"mode\": \"markers\", \"name\": \"aakif-ghani\", \"orientation\": \"v\", \"showlegend\": true, \"type\": \"scatter\", \"x\": [164], \"xaxis\": \"x\", \"y\": [133], \"yaxis\": \"y\"}, {\"hovertemplate\": \"<b>%{hovertext}</b><br><br>Poet=aal-e-ahmad-suroor<br>Total Words Used=%{marker.size}<br>Vocabulary Set=%{y}<extra></extra>\", \"hovertext\": [\"aal-e-ahmad-suroor\"], \"legendgroup\": \"aal-e-ahmad-suroor\", \"marker\": {\"color\": \"#FECB52\", \"size\": [2111], \"sizemode\": \"area\", \"sizeref\": 1.37, \"symbol\": \"circle\"}, \"mode\": \"markers\", \"name\": \"aal-e-ahmad-suroor\", \"orientation\": \"v\", \"showlegend\": true, \"type\": \"scatter\", \"x\": [2111], \"xaxis\": \"x\", \"y\": [1094], \"yaxis\": \"y\"}, {\"hovertemplate\": \"<b>%{hovertext}</b><br><br>Poet=aal-e-raza-raza<br>Total Words Used=%{marker.size}<br>Vocabulary Set=%{y}<extra></extra>\", \"hovertext\": [\"aal-e-raza-raza\"], \"legendgroup\": \"aal-e-raza-raza\", \"marker\": {\"color\": \"#636efa\", \"size\": [295], \"sizemode\": \"area\", \"sizeref\": 1.37, \"symbol\": \"circle\"}, \"mode\": \"markers\", \"name\": \"aal-e-raza-raza\", \"orientation\": \"v\", \"showlegend\": true, \"type\": \"scatter\", \"x\": [295], \"xaxis\": \"x\", \"y\": [229], \"yaxis\": \"y\"}, {\"hovertemplate\": \"<b>%{hovertext}</b><br><br>Poet=aamir-suhail<br>Total Words Used=%{marker.size}<br>Vocabulary Set=%{y}<extra></extra>\", \"hovertext\": [\"aamir-suhail\"], \"legendgroup\": \"aamir-suhail\", \"marker\": {\"color\": \"#EF553B\", \"size\": [1237], \"sizemode\": \"area\", \"sizeref\": 1.37, \"symbol\": \"circle\"}, \"mode\": \"markers\", \"name\": \"aamir-suhail\", \"orientation\": \"v\", \"showlegend\": true, \"type\": \"scatter\", \"x\": [1237], \"xaxis\": \"x\", \"y\": [830], \"yaxis\": \"y\"}, {\"hovertemplate\": \"<b>%{hovertext}</b><br><br>Poet=aanand-saroop-anjum<br>Total Words Used=%{marker.size}<br>Vocabulary Set=%{y}<extra></extra>\", \"hovertext\": [\"aanand-saroop-anjum\"], \"legendgroup\": \"aanand-saroop-anjum\", \"marker\": {\"color\": \"#00cc96\", \"size\": [611], \"sizemode\": \"area\", \"sizeref\": 1.37, \"symbol\": \"circle\"}, \"mode\": \"markers\", \"name\": \"aanand-saroop-anjum\", \"orientation\": \"v\", \"showlegend\": true, \"type\": \"scatter\", \"x\": [611], \"xaxis\": \"x\", \"y\": [411], \"yaxis\": \"y\"}, {\"hovertemplate\": \"<b>%{hovertext}</b><br><br>Poet=aanis-moin<br>Total Words Used=%{marker.size}<br>Vocabulary Set=%{y}<extra></extra>\", \"hovertext\": [\"aanis-moin\"], \"legendgroup\": \"aanis-moin\", \"marker\": {\"color\": \"#ab63fa\", \"size\": [700], \"sizemode\": \"area\", \"sizeref\": 1.37, \"symbol\": \"circle\"}, \"mode\": \"markers\", \"name\": \"aanis-moin\", \"orientation\": \"v\", \"showlegend\": true, \"type\": \"scatter\", \"x\": [700], \"xaxis\": \"x\", \"y\": [461], \"yaxis\": \"y\"}, {\"hovertemplate\": \"<b>%{hovertext}</b><br><br>Poet=aarif-aazmi<br>Total Words Used=%{marker.size}<br>Vocabulary Set=%{y}<extra></extra>\", \"hovertext\": [\"aarif-aazmi\"], \"legendgroup\": \"aarif-aazmi\", \"marker\": {\"color\": \"#FFA15A\", \"size\": [250], \"sizemode\": \"area\", \"sizeref\": 1.37, \"symbol\": \"circle\"}, \"mode\": \"markers\", \"name\": \"aarif-aazmi\", \"orientation\": \"v\", \"showlegend\": true, \"type\": \"scatter\", \"x\": [250], \"xaxis\": \"x\", \"y\": [193], \"yaxis\": \"y\"}, {\"hovertemplate\": \"<b>%{hovertext}</b><br><br>Poet=aarifuddin-aajiz<br>Total Words Used=%{marker.size}<br>Vocabulary Set=%{y}<extra></extra>\", \"hovertext\": [\"aarifuddin-aajiz\"], \"legendgroup\": \"aarifuddin-aajiz\", \"marker\": {\"color\": \"#19d3f3\", \"size\": [63], \"sizemode\": \"area\", \"sizeref\": 1.37, \"symbol\": \"circle\"}, \"mode\": \"markers\", \"name\": \"aarifuddin-aajiz\", \"orientation\": \"v\", \"showlegend\": true, \"type\": \"scatter\", \"x\": [63], \"xaxis\": \"x\", \"y\": [55], \"yaxis\": \"y\"}, {\"hovertemplate\": \"<b>%{hovertext}</b><br><br>Poet=aas-fatmi<br>Total Words Used=%{marker.size}<br>Vocabulary Set=%{y}<extra></extra>\", \"hovertext\": [\"aas-fatmi\"], \"legendgroup\": \"aas-fatmi\", \"marker\": {\"color\": \"#FF6692\", \"size\": [98], \"sizemode\": \"area\", \"sizeref\": 1.37, \"symbol\": \"circle\"}, \"mode\": \"markers\", \"name\": \"aas-fatmi\", \"orientation\": \"v\", \"showlegend\": true, \"type\": \"scatter\", \"x\": [98], \"xaxis\": \"x\", \"y\": [85], \"yaxis\": \"y\"}, {\"hovertemplate\": \"<b>%{hovertext}</b><br><br>Poet=aashiq-jafri<br>Total Words Used=%{marker.size}<br>Vocabulary Set=%{y}<extra></extra>\", \"hovertext\": [\"aashiq-jafri\"], \"legendgroup\": \"aashiq-jafri\", \"marker\": {\"color\": \"#B6E880\", \"size\": [216], \"sizemode\": \"area\", \"sizeref\": 1.37, \"symbol\": \"circle\"}, \"mode\": \"markers\", \"name\": \"aashiq-jafri\", \"orientation\": \"v\", \"showlegend\": true, \"type\": \"scatter\", \"x\": [216], \"xaxis\": \"x\", \"y\": [166], \"yaxis\": \"y\"}, {\"hovertemplate\": \"<b>%{hovertext}</b><br><br>Poet=aashufta-changezi<br>Total Words Used=%{marker.size}<br>Vocabulary Set=%{y}<extra></extra>\", \"hovertext\": [\"aashufta-changezi\"], \"legendgroup\": \"aashufta-changezi\", \"marker\": {\"color\": \"#FF97FF\", \"size\": [1673], \"sizemode\": \"area\", \"sizeref\": 1.37, \"symbol\": \"circle\"}, \"mode\": \"markers\", \"name\": \"aashufta-changezi\", \"orientation\": \"v\", \"showlegend\": true, \"type\": \"scatter\", \"x\": [1673], \"xaxis\": \"x\", \"y\": [923], \"yaxis\": \"y\"}, {\"hovertemplate\": \"<b>%{hovertext}</b><br><br>Poet=aasi-faiqi<br>Total Words Used=%{marker.size}<br>Vocabulary Set=%{y}<extra></extra>\", \"hovertext\": [\"aasi-faiqi\"], \"legendgroup\": \"aasi-faiqi\", \"marker\": {\"color\": \"#FECB52\", \"size\": [739], \"sizemode\": \"area\", \"sizeref\": 1.37, \"symbol\": \"circle\"}, \"mode\": \"markers\", \"name\": \"aasi-faiqi\", \"orientation\": \"v\", \"showlegend\": true, \"type\": \"scatter\", \"x\": [739], \"xaxis\": \"x\", \"y\": [502], \"yaxis\": \"y\"}, {\"hovertemplate\": \"<b>%{hovertext}</b><br><br>Poet=aasi-ghazipuri<br>Total Words Used=%{marker.size}<br>Vocabulary Set=%{y}<extra></extra>\", \"hovertext\": [\"aasi-ghazipuri\"], \"legendgroup\": \"aasi-ghazipuri\", \"marker\": {\"color\": \"#636efa\", \"size\": [1263], \"sizemode\": \"area\", \"sizeref\": 1.37, \"symbol\": \"circle\"}, \"mode\": \"markers\", \"name\": \"aasi-ghazipuri\", \"orientation\": \"v\", \"showlegend\": true, \"type\": \"scatter\", \"x\": [1263], \"xaxis\": \"x\", \"y\": [765], \"yaxis\": \"y\"}, {\"hovertemplate\": \"<b>%{hovertext}</b><br><br>Poet=aasi-karnali<br>Total Words Used=%{marker.size}<br>Vocabulary Set=%{y}<extra></extra>\", \"hovertext\": [\"aasi-karnali\"], \"legendgroup\": \"aasi-karnali\", \"marker\": {\"color\": \"#EF553B\", \"size\": [70], \"sizemode\": \"area\", \"sizeref\": 1.37, \"symbol\": \"circle\"}, \"mode\": \"markers\", \"name\": \"aasi-karnali\", \"orientation\": \"v\", \"showlegend\": true, \"type\": \"scatter\", \"x\": [70], \"xaxis\": \"x\", \"y\": [57], \"yaxis\": \"y\"}, {\"hovertemplate\": \"<b>%{hovertext}</b><br><br>Poet=aasi-kashmiri<br>Total Words Used=%{marker.size}<br>Vocabulary Set=%{y}<extra></extra>\", \"hovertext\": [\"aasi-kashmiri\"], \"legendgroup\": \"aasi-kashmiri\", \"marker\": {\"color\": \"#00cc96\", \"size\": [152], \"sizemode\": \"area\", \"sizeref\": 1.37, \"symbol\": \"circle\"}, \"mode\": \"markers\", \"name\": \"aasi-kashmiri\", \"orientation\": \"v\", \"showlegend\": true, \"type\": \"scatter\", \"x\": [152], \"xaxis\": \"x\", \"y\": [137], \"yaxis\": \"y\"}, {\"hovertemplate\": \"<b>%{hovertext}</b><br><br>Poet=aasi-ramnagri<br>Total Words Used=%{marker.size}<br>Vocabulary Set=%{y}<extra></extra>\", \"hovertext\": [\"aasi-ramnagri\"], \"legendgroup\": \"aasi-ramnagri\", \"marker\": {\"color\": \"#ab63fa\", \"size\": [1030], \"sizemode\": \"area\", \"sizeref\": 1.37, \"symbol\": \"circle\"}, \"mode\": \"markers\", \"name\": \"aasi-ramnagri\", \"orientation\": \"v\", \"showlegend\": true, \"type\": \"scatter\", \"x\": [1030], \"xaxis\": \"x\", \"y\": [618], \"yaxis\": \"y\"}, {\"hovertemplate\": \"<b>%{hovertext}</b><br><br>Poet=aasi-uldani<br>Total Words Used=%{marker.size}<br>Vocabulary Set=%{y}<extra></extra>\", \"hovertext\": [\"aasi-uldani\"], \"legendgroup\": \"aasi-uldani\", \"marker\": {\"color\": \"#FFA15A\", \"size\": [73], \"sizemode\": \"area\", \"sizeref\": 1.37, \"symbol\": \"circle\"}, \"mode\": \"markers\", \"name\": \"aasi-uldani\", \"orientation\": \"v\", \"showlegend\": true, \"type\": \"scatter\", \"x\": [73], \"xaxis\": \"x\", \"y\": [69], \"yaxis\": \"y\"}, {\"hovertemplate\": \"<b>%{hovertext}</b><br><br>Poet=aasim-shahnawaz-shibli<br>Total Words Used=%{marker.size}<br>Vocabulary Set=%{y}<extra></extra>\", \"hovertext\": [\"aasim-shahnawaz-shibli\"], \"legendgroup\": \"aasim-shahnawaz-shibli\", \"marker\": {\"color\": \"#19d3f3\", \"size\": [38], \"sizemode\": \"area\", \"sizeref\": 1.37, \"symbol\": \"circle\"}, \"mode\": \"markers\", \"name\": \"aasim-shahnawaz-shibli\", \"orientation\": \"v\", \"showlegend\": true, \"type\": \"scatter\", \"x\": [38], \"xaxis\": \"x\", \"y\": [31], \"yaxis\": \"y\"}, {\"hovertemplate\": \"<b>%{hovertext}</b><br><br>Poet=aasnath-kanwal<br>Total Words Used=%{marker.size}<br>Vocabulary Set=%{y}<extra></extra>\", \"hovertext\": [\"aasnath-kanwal\"], \"legendgroup\": \"aasnath-kanwal\", \"marker\": {\"color\": \"#FF6692\", \"size\": [152], \"sizemode\": \"area\", \"sizeref\": 1.37, \"symbol\": \"circle\"}, \"mode\": \"markers\", \"name\": \"aasnath-kanwal\", \"orientation\": \"v\", \"showlegend\": true, \"type\": \"scatter\", \"x\": [152], \"xaxis\": \"x\", \"y\": [98], \"yaxis\": \"y\"}, {\"hovertemplate\": \"<b>%{hovertext}</b><br><br>Poet=aatif-kamal-rana<br>Total Words Used=%{marker.size}<br>Vocabulary Set=%{y}<extra></extra>\", \"hovertext\": [\"aatif-kamal-rana\"], \"legendgroup\": \"aatif-kamal-rana\", \"marker\": {\"color\": \"#B6E880\", \"size\": [281], \"sizemode\": \"area\", \"sizeref\": 1.37, \"symbol\": \"circle\"}, \"mode\": \"markers\", \"name\": \"aatif-kamal-rana\", \"orientation\": \"v\", \"showlegend\": true, \"type\": \"scatter\", \"x\": [281], \"xaxis\": \"x\", \"y\": [221], \"yaxis\": \"y\"}, {\"hovertemplate\": \"<b>%{hovertext}</b><br><br>Poet=aatif-waheed-yasir<br>Total Words Used=%{marker.size}<br>Vocabulary Set=%{y}<extra></extra>\", \"hovertext\": [\"aatif-waheed-yasir\"], \"legendgroup\": \"aatif-waheed-yasir\", \"marker\": {\"color\": \"#FF97FF\", \"size\": [210], \"sizemode\": \"area\", \"sizeref\": 1.37, \"symbol\": \"circle\"}, \"mode\": \"markers\", \"name\": \"aatif-waheed-yasir\", \"orientation\": \"v\", \"showlegend\": true, \"type\": \"scatter\", \"x\": [210], \"xaxis\": \"x\", \"y\": [173], \"yaxis\": \"y\"}, {\"hovertemplate\": \"<b>%{hovertext}</b><br><br>Poet=aatish-bahawalpuri<br>Total Words Used=%{marker.size}<br>Vocabulary Set=%{y}<extra></extra>\", \"hovertext\": [\"aatish-bahawalpuri\"], \"legendgroup\": \"aatish-bahawalpuri\", \"marker\": {\"color\": \"#FECB52\", \"size\": [672], \"sizemode\": \"area\", \"sizeref\": 1.37, \"symbol\": \"circle\"}, \"mode\": \"markers\", \"name\": \"aatish-bahawalpuri\", \"orientation\": \"v\", \"showlegend\": true, \"type\": \"scatter\", \"x\": [672], \"xaxis\": \"x\", \"y\": [461], \"yaxis\": \"y\"}, {\"hovertemplate\": \"<b>%{hovertext}</b><br><br>Poet=aatish-indori<br>Total Words Used=%{marker.size}<br>Vocabulary Set=%{y}<extra></extra>\", \"hovertext\": [\"aatish-indori\"], \"legendgroup\": \"aatish-indori\", \"marker\": {\"color\": \"#636efa\", \"size\": [415], \"sizemode\": \"area\", \"sizeref\": 1.37, \"symbol\": \"circle\"}, \"mode\": \"markers\", \"name\": \"aatish-indori\", \"orientation\": \"v\", \"showlegend\": true, \"type\": \"scatter\", \"x\": [415], \"xaxis\": \"x\", \"y\": [283], \"yaxis\": \"y\"}, {\"hovertemplate\": \"<b>%{hovertext}</b><br><br>Poet=aazam-khursheed<br>Total Words Used=%{marker.size}<br>Vocabulary Set=%{y}<extra></extra>\", \"hovertext\": [\"aazam-khursheed\"], \"legendgroup\": \"aazam-khursheed\", \"marker\": {\"color\": \"#EF553B\", \"size\": [252], \"sizemode\": \"area\", \"sizeref\": 1.37, \"symbol\": \"circle\"}, \"mode\": \"markers\", \"name\": \"aazam-khursheed\", \"orientation\": \"v\", \"showlegend\": true, \"type\": \"scatter\", \"x\": [252], \"xaxis\": \"x\", \"y\": [189], \"yaxis\": \"y\"}, {\"hovertemplate\": \"<b>%{hovertext}</b><br><br>Poet=aazim-kohli<br>Total Words Used=%{marker.size}<br>Vocabulary Set=%{y}<extra></extra>\", \"hovertext\": [\"aazim-kohli\"], \"legendgroup\": \"aazim-kohli\", \"marker\": {\"color\": \"#00cc96\", \"size\": [1106], \"sizemode\": \"area\", \"sizeref\": 1.37, \"symbol\": \"circle\"}, \"mode\": \"markers\", \"name\": \"aazim-kohli\", \"orientation\": \"v\", \"showlegend\": true, \"type\": \"scatter\", \"x\": [1106], \"xaxis\": \"x\", \"y\": [691], \"yaxis\": \"y\"}, {\"hovertemplate\": \"<b>%{hovertext}</b><br><br>Poet=abbas-ali-khan-bekhud<br>Total Words Used=%{marker.size}<br>Vocabulary Set=%{y}<extra></extra>\", \"hovertext\": [\"abbas-ali-khan-bekhud\"], \"legendgroup\": \"abbas-ali-khan-bekhud\", \"marker\": {\"color\": \"#ab63fa\", \"size\": [1426], \"sizemode\": \"area\", \"sizeref\": 1.37, \"symbol\": \"circle\"}, \"mode\": \"markers\", \"name\": \"abbas-ali-khan-bekhud\", \"orientation\": \"v\", \"showlegend\": true, \"type\": \"scatter\", \"x\": [1426], \"xaxis\": \"x\", \"y\": [757], \"yaxis\": \"y\"}, {\"hovertemplate\": \"<b>%{hovertext}</b><br><br>Poet=abbas-alvi<br>Total Words Used=%{marker.size}<br>Vocabulary Set=%{y}<extra></extra>\", \"hovertext\": [\"abbas-alvi\"], \"legendgroup\": \"abbas-alvi\", \"marker\": {\"color\": \"#FFA15A\", \"size\": [181], \"sizemode\": \"area\", \"sizeref\": 1.37, \"symbol\": \"circle\"}, \"mode\": \"markers\", \"name\": \"abbas-alvi\", \"orientation\": \"v\", \"showlegend\": true, \"type\": \"scatter\", \"x\": [181], \"xaxis\": \"x\", \"y\": [140], \"yaxis\": \"y\"}, {\"hovertemplate\": \"<b>%{hovertext}</b><br><br>Poet=abbas-dana<br>Total Words Used=%{marker.size}<br>Vocabulary Set=%{y}<extra></extra>\", \"hovertext\": [\"abbas-dana\"], \"legendgroup\": \"abbas-dana\", \"marker\": {\"color\": \"#19d3f3\", \"size\": [1007], \"sizemode\": \"area\", \"sizeref\": 1.37, \"symbol\": \"circle\"}, \"mode\": \"markers\", \"name\": \"abbas-dana\", \"orientation\": \"v\", \"showlegend\": true, \"type\": \"scatter\", \"x\": [1007], \"xaxis\": \"x\", \"y\": [617], \"yaxis\": \"y\"}, {\"hovertemplate\": \"<b>%{hovertext}</b><br><br>Poet=abbas-kaifi<br>Total Words Used=%{marker.size}<br>Vocabulary Set=%{y}<extra></extra>\", \"hovertext\": [\"abbas-kaifi\"], \"legendgroup\": \"abbas-kaifi\", \"marker\": {\"color\": \"#FF6692\", \"size\": [16], \"sizemode\": \"area\", \"sizeref\": 1.37, \"symbol\": \"circle\"}, \"mode\": \"markers\", \"name\": \"abbas-kaifi\", \"orientation\": \"v\", \"showlegend\": true, \"type\": \"scatter\", \"x\": [16], \"xaxis\": \"x\", \"y\": [15], \"yaxis\": \"y\"}, {\"hovertemplate\": \"<b>%{hovertext}</b><br><br>Poet=abbas-qamar<br>Total Words Used=%{marker.size}<br>Vocabulary Set=%{y}<extra></extra>\", \"hovertext\": [\"abbas-qamar\"], \"legendgroup\": \"abbas-qamar\", \"marker\": {\"color\": \"#B6E880\", \"size\": [269], \"sizemode\": \"area\", \"sizeref\": 1.37, \"symbol\": \"circle\"}, \"mode\": \"markers\", \"name\": \"abbas-qamar\", \"orientation\": \"v\", \"showlegend\": true, \"type\": \"scatter\", \"x\": [269], \"xaxis\": \"x\", \"y\": [198], \"yaxis\": \"y\"}, {\"hovertemplate\": \"<b>%{hovertext}</b><br><br>Poet=abbas-rizvi<br>Total Words Used=%{marker.size}<br>Vocabulary Set=%{y}<extra></extra>\", \"hovertext\": [\"abbas-rizvi\"], \"legendgroup\": \"abbas-rizvi\", \"marker\": {\"color\": \"#FF97FF\", \"size\": [541], \"sizemode\": \"area\", \"sizeref\": 1.37, \"symbol\": \"circle\"}, \"mode\": \"markers\", \"name\": \"abbas-rizvi\", \"orientation\": \"v\", \"showlegend\": true, \"type\": \"scatter\", \"x\": [541], \"xaxis\": \"x\", \"y\": [362], \"yaxis\": \"y\"}, {\"hovertemplate\": \"<b>%{hovertext}</b><br><br>Poet=abbas-tabish<br>Total Words Used=%{marker.size}<br>Vocabulary Set=%{y}<extra></extra>\", \"hovertext\": [\"abbas-tabish\"], \"legendgroup\": \"abbas-tabish\", \"marker\": {\"color\": \"#FECB52\", \"size\": [4932], \"sizemode\": \"area\", \"sizeref\": 1.37, \"symbol\": \"circle\"}, \"mode\": \"markers\", \"name\": \"abbas-tabish\", \"orientation\": \"v\", \"showlegend\": true, \"type\": \"scatter\", \"x\": [4932], \"xaxis\": \"x\", \"y\": [1923], \"yaxis\": \"y\"}, {\"hovertemplate\": \"<b>%{hovertext}</b><br><br>Poet=abdul-ahad-saaz<br>Total Words Used=%{marker.size}<br>Vocabulary Set=%{y}<extra></extra>\", \"hovertext\": [\"abdul-ahad-saaz\"], \"legendgroup\": \"abdul-ahad-saaz\", \"marker\": {\"color\": \"#636efa\", \"size\": [3648], \"sizemode\": \"area\", \"sizeref\": 1.37, \"symbol\": \"circle\"}, \"mode\": \"markers\", \"name\": \"abdul-ahad-saaz\", \"orientation\": \"v\", \"showlegend\": true, \"type\": \"scatter\", \"x\": [3648], \"xaxis\": \"x\", \"y\": [1886], \"yaxis\": \"y\"}, {\"hovertemplate\": \"<b>%{hovertext}</b><br><br>Poet=abdul-aleem-aasi<br>Total Words Used=%{marker.size}<br>Vocabulary Set=%{y}<extra></extra>\", \"hovertext\": [\"abdul-aleem-aasi\"], \"legendgroup\": \"abdul-aleem-aasi\", \"marker\": {\"color\": \"#EF553B\", \"size\": [423], \"sizemode\": \"area\", \"sizeref\": 1.37, \"symbol\": \"circle\"}, \"mode\": \"markers\", \"name\": \"abdul-aleem-aasi\", \"orientation\": \"v\", \"showlegend\": true, \"type\": \"scatter\", \"x\": [423], \"xaxis\": \"x\", \"y\": [305], \"yaxis\": \"y\"}, {\"hovertemplate\": \"<b>%{hovertext}</b><br><br>Poet=abdul-aziz-fitrat<br>Total Words Used=%{marker.size}<br>Vocabulary Set=%{y}<extra></extra>\", \"hovertext\": [\"abdul-aziz-fitrat\"], \"legendgroup\": \"abdul-aziz-fitrat\", \"marker\": {\"color\": \"#00cc96\", \"size\": [211], \"sizemode\": \"area\", \"sizeref\": 1.37, \"symbol\": \"circle\"}, \"mode\": \"markers\", \"name\": \"abdul-aziz-fitrat\", \"orientation\": \"v\", \"showlegend\": true, \"type\": \"scatter\", \"x\": [211], \"xaxis\": \"x\", \"y\": [171], \"yaxis\": \"y\"}, {\"hovertemplate\": \"<b>%{hovertext}</b><br><br>Poet=abdul-aziz-khalid<br>Total Words Used=%{marker.size}<br>Vocabulary Set=%{y}<extra></extra>\", \"hovertext\": [\"abdul-aziz-khalid\"], \"legendgroup\": \"abdul-aziz-khalid\", \"marker\": {\"color\": \"#ab63fa\", \"size\": [574], \"sizemode\": \"area\", \"sizeref\": 1.37, \"symbol\": \"circle\"}, \"mode\": \"markers\", \"name\": \"abdul-aziz-khalid\", \"orientation\": \"v\", \"showlegend\": true, \"type\": \"scatter\", \"x\": [574], \"xaxis\": \"x\", \"y\": [468], \"yaxis\": \"y\"}, {\"hovertemplate\": \"<b>%{hovertext}</b><br><br>Poet=abdul-halim-sharar<br>Total Words Used=%{marker.size}<br>Vocabulary Set=%{y}<extra></extra>\", \"hovertext\": [\"abdul-halim-sharar\"], \"legendgroup\": \"abdul-halim-sharar\", \"marker\": {\"color\": \"#FFA15A\", \"size\": [41], \"sizemode\": \"area\", \"sizeref\": 1.37, \"symbol\": \"circle\"}, \"mode\": \"markers\", \"name\": \"abdul-halim-sharar\", \"orientation\": \"v\", \"showlegend\": true, \"type\": \"scatter\", \"x\": [41], \"xaxis\": \"x\", \"y\": [38], \"yaxis\": \"y\"}, {\"hovertemplate\": \"<b>%{hovertext}</b><br><br>Poet=abdul-hameed-hosh<br>Total Words Used=%{marker.size}<br>Vocabulary Set=%{y}<extra></extra>\", \"hovertext\": [\"abdul-hameed-hosh\"], \"legendgroup\": \"abdul-hameed-hosh\", \"marker\": {\"color\": \"#19d3f3\", \"size\": [48], \"sizemode\": \"area\", \"sizeref\": 1.37, \"symbol\": \"circle\"}, \"mode\": \"markers\", \"name\": \"abdul-hameed-hosh\", \"orientation\": \"v\", \"showlegend\": true, \"type\": \"scatter\", \"x\": [48], \"xaxis\": \"x\", \"y\": [36], \"yaxis\": \"y\"}, {\"hovertemplate\": \"<b>%{hovertext}</b><br><br>Poet=abdul-hameed-saqi<br>Total Words Used=%{marker.size}<br>Vocabulary Set=%{y}<extra></extra>\", \"hovertext\": [\"abdul-hameed-saqi\"], \"legendgroup\": \"abdul-hameed-saqi\", \"marker\": {\"color\": \"#FF6692\", \"size\": [228], \"sizemode\": \"area\", \"sizeref\": 1.37, \"symbol\": \"circle\"}, \"mode\": \"markers\", \"name\": \"abdul-hameed-saqi\", \"orientation\": \"v\", \"showlegend\": true, \"type\": \"scatter\", \"x\": [228], \"xaxis\": \"x\", \"y\": [174], \"yaxis\": \"y\"}, {\"hovertemplate\": \"<b>%{hovertext}</b><br><br>Poet=abdul-hamid<br>Total Words Used=%{marker.size}<br>Vocabulary Set=%{y}<extra></extra>\", \"hovertext\": [\"abdul-hamid\"], \"legendgroup\": \"abdul-hamid\", \"marker\": {\"color\": \"#B6E880\", \"size\": [605], \"sizemode\": \"area\", \"sizeref\": 1.37, \"symbol\": \"circle\"}, \"mode\": \"markers\", \"name\": \"abdul-hamid\", \"orientation\": \"v\", \"showlegend\": true, \"type\": \"scatter\", \"x\": [605], \"xaxis\": \"x\", \"y\": [402], \"yaxis\": \"y\"}, {\"hovertemplate\": \"<b>%{hovertext}</b><br><br>Poet=abdul-hamid-adam<br>Total Words Used=%{marker.size}<br>Vocabulary Set=%{y}<extra></extra>\", \"hovertext\": [\"abdul-hamid-adam\"], \"legendgroup\": \"abdul-hamid-adam\", \"marker\": {\"color\": \"#FF97FF\", \"size\": [4686], \"sizemode\": \"area\", \"sizeref\": 1.37, \"symbol\": \"circle\"}, \"mode\": \"markers\", \"name\": \"abdul-hamid-adam\", \"orientation\": \"v\", \"showlegend\": true, \"type\": \"scatter\", \"x\": [4686], \"xaxis\": \"x\", \"y\": [1981], \"yaxis\": \"y\"}, {\"hovertemplate\": \"<b>%{hovertext}</b><br><br>Poet=abdul-majeed-bhatti<br>Total Words Used=%{marker.size}<br>Vocabulary Set=%{y}<extra></extra>\", \"hovertext\": [\"abdul-majeed-bhatti\"], \"legendgroup\": \"abdul-majeed-bhatti\", \"marker\": {\"color\": \"#FECB52\", \"size\": [108], \"sizemode\": \"area\", \"sizeref\": 1.37, \"symbol\": \"circle\"}, \"mode\": \"markers\", \"name\": \"abdul-majeed-bhatti\", \"orientation\": \"v\", \"showlegend\": true, \"type\": \"scatter\", \"x\": [108], \"xaxis\": \"x\", \"y\": [95], \"yaxis\": \"y\"}, {\"hovertemplate\": \"<b>%{hovertext}</b><br><br>Poet=abdul-majeed-hairat<br>Total Words Used=%{marker.size}<br>Vocabulary Set=%{y}<extra></extra>\", \"hovertext\": [\"abdul-majeed-hairat\"], \"legendgroup\": \"abdul-majeed-hairat\", \"marker\": {\"color\": \"#636efa\", \"size\": [204], \"sizemode\": \"area\", \"sizeref\": 1.37, \"symbol\": \"circle\"}, \"mode\": \"markers\", \"name\": \"abdul-majeed-hairat\", \"orientation\": \"v\", \"showlegend\": true, \"type\": \"scatter\", \"x\": [204], \"xaxis\": \"x\", \"y\": [151], \"yaxis\": \"y\"}, {\"hovertemplate\": \"<b>%{hovertext}</b><br><br>Poet=abdul-majeed-khan-majeed<br>Total Words Used=%{marker.size}<br>Vocabulary Set=%{y}<extra></extra>\", \"hovertext\": [\"abdul-majeed-khan-majeed\"], \"legendgroup\": \"abdul-majeed-khan-majeed\", \"marker\": {\"color\": \"#EF553B\", \"size\": [250], \"sizemode\": \"area\", \"sizeref\": 1.37, \"symbol\": \"circle\"}, \"mode\": \"markers\", \"name\": \"abdul-majeed-khan-majeed\", \"orientation\": \"v\", \"showlegend\": true, \"type\": \"scatter\", \"x\": [250], \"xaxis\": \"x\", \"y\": [181], \"yaxis\": \"y\"}, {\"hovertemplate\": \"<b>%{hovertext}</b><br><br>Poet=abdul-majeed-salik<br>Total Words Used=%{marker.size}<br>Vocabulary Set=%{y}<extra></extra>\", \"hovertext\": [\"abdul-majeed-salik\"], \"legendgroup\": \"abdul-majeed-salik\", \"marker\": {\"color\": \"#00cc96\", \"size\": [601], \"sizemode\": \"area\", \"sizeref\": 1.37, \"symbol\": \"circle\"}, \"mode\": \"markers\", \"name\": \"abdul-majeed-salik\", \"orientation\": \"v\", \"showlegend\": true, \"type\": \"scatter\", \"x\": [601], \"xaxis\": \"x\", \"y\": [394], \"yaxis\": \"y\"}, {\"hovertemplate\": \"<b>%{hovertext}</b><br><br>Poet=abdul-malik-soz<br>Total Words Used=%{marker.size}<br>Vocabulary Set=%{y}<extra></extra>\", \"hovertext\": [\"abdul-malik-soz\"], \"legendgroup\": \"abdul-malik-soz\", \"marker\": {\"color\": \"#ab63fa\", \"size\": [448], \"sizemode\": \"area\", \"sizeref\": 1.37, \"symbol\": \"circle\"}, \"mode\": \"markers\", \"name\": \"abdul-malik-soz\", \"orientation\": \"v\", \"showlegend\": true, \"type\": \"scatter\", \"x\": [448], \"xaxis\": \"x\", \"y\": [284], \"yaxis\": \"y\"}, {\"hovertemplate\": \"<b>%{hovertext}</b><br><br>Poet=abdul-mannan-samadi<br>Total Words Used=%{marker.size}<br>Vocabulary Set=%{y}<extra></extra>\", \"hovertext\": [\"abdul-mannan-samadi\"], \"legendgroup\": \"abdul-mannan-samadi\", \"marker\": {\"color\": \"#FFA15A\", \"size\": [215], \"sizemode\": \"area\", \"sizeref\": 1.37, \"symbol\": \"circle\"}, \"mode\": \"markers\", \"name\": \"abdul-mannan-samadi\", \"orientation\": \"v\", \"showlegend\": true, \"type\": \"scatter\", \"x\": [215], \"xaxis\": \"x\", \"y\": [168], \"yaxis\": \"y\"}, {\"hovertemplate\": \"<b>%{hovertext}</b><br><br>Poet=abdul-mannan-tarzi<br>Total Words Used=%{marker.size}<br>Vocabulary Set=%{y}<extra></extra>\", \"hovertext\": [\"abdul-mannan-tarzi\"], \"legendgroup\": \"abdul-mannan-tarzi\", \"marker\": {\"color\": \"#19d3f3\", \"size\": [1781], \"sizemode\": \"area\", \"sizeref\": 1.37, \"symbol\": \"circle\"}, \"mode\": \"markers\", \"name\": \"abdul-mannan-tarzi\", \"orientation\": \"v\", \"showlegend\": true, \"type\": \"scatter\", \"x\": [1781], \"xaxis\": \"x\", \"y\": [925], \"yaxis\": \"y\"}, {\"hovertemplate\": \"<b>%{hovertext}</b><br><br>Poet=abdul-mateen-niyaz<br>Total Words Used=%{marker.size}<br>Vocabulary Set=%{y}<extra></extra>\", \"hovertext\": [\"abdul-mateen-niyaz\"], \"legendgroup\": \"abdul-mateen-niyaz\", \"marker\": {\"color\": \"#FF6692\", \"size\": [417], \"sizemode\": \"area\", \"sizeref\": 1.37, \"symbol\": \"circle\"}, \"mode\": \"markers\", \"name\": \"abdul-mateen-niyaz\", \"orientation\": \"v\", \"showlegend\": true, \"type\": \"scatter\", \"x\": [417], \"xaxis\": \"x\", \"y\": [283], \"yaxis\": \"y\"}, {\"hovertemplate\": \"<b>%{hovertext}</b><br><br>Poet=abdul-qavi-ziya<br>Total Words Used=%{marker.size}<br>Vocabulary Set=%{y}<extra></extra>\", \"hovertext\": [\"abdul-qavi-ziya\"], \"legendgroup\": \"abdul-qavi-ziya\", \"marker\": {\"color\": \"#B6E880\", \"size\": [845], \"sizemode\": \"area\", \"sizeref\": 1.37, \"symbol\": \"circle\"}, \"mode\": \"markers\", \"name\": \"abdul-qavi-ziya\", \"orientation\": \"v\", \"showlegend\": true, \"type\": \"scatter\", \"x\": [845], \"xaxis\": \"x\", \"y\": [491], \"yaxis\": \"y\"}, {\"hovertemplate\": \"<b>%{hovertext}</b><br><br>Poet=abdul-rahman-bazmi<br>Total Words Used=%{marker.size}<br>Vocabulary Set=%{y}<extra></extra>\", \"hovertext\": [\"abdul-rahman-bazmi\"], \"legendgroup\": \"abdul-rahman-bazmi\", \"marker\": {\"color\": \"#FF97FF\", \"size\": [101], \"sizemode\": \"area\", \"sizeref\": 1.37, \"symbol\": \"circle\"}, \"mode\": \"markers\", \"name\": \"abdul-rahman-bazmi\", \"orientation\": \"v\", \"showlegend\": true, \"type\": \"scatter\", \"x\": [101], \"xaxis\": \"x\", \"y\": [82], \"yaxis\": \"y\"}, {\"hovertemplate\": \"<b>%{hovertext}</b><br><br>Poet=abdul-rahman-ehsan-dehlvi<br>Total Words Used=%{marker.size}<br>Vocabulary Set=%{y}<extra></extra>\", \"hovertext\": [\"abdul-rahman-ehsan-dehlvi\"], \"legendgroup\": \"abdul-rahman-ehsan-dehlvi\", \"marker\": {\"color\": \"#FECB52\", \"size\": [3481], \"sizemode\": \"area\", \"sizeref\": 1.37, \"symbol\": \"circle\"}, \"mode\": \"markers\", \"name\": \"abdul-rahman-ehsan-dehlvi\", \"orientation\": \"v\", \"showlegend\": true, \"type\": \"scatter\", \"x\": [3481], \"xaxis\": \"x\", \"y\": [1604], \"yaxis\": \"y\"}, {\"hovertemplate\": \"<b>%{hovertext}</b><br><br>Poet=abdul-rahman-khan-wasfi-bahraichi<br>Total Words Used=%{marker.size}<br>Vocabulary Set=%{y}<extra></extra>\", \"hovertext\": [\"abdul-rahman-khan-wasfi-bahraichi\"], \"legendgroup\": \"abdul-rahman-khan-wasfi-bahraichi\", \"marker\": {\"color\": \"#636efa\", \"size\": [654], \"sizemode\": \"area\", \"sizeref\": 1.37, \"symbol\": \"circle\"}, \"mode\": \"markers\", \"name\": \"abdul-rahman-khan-wasfi-bahraichi\", \"orientation\": \"v\", \"showlegend\": true, \"type\": \"scatter\", \"x\": [654], \"xaxis\": \"x\", \"y\": [403], \"yaxis\": \"y\"}, {\"hovertemplate\": \"<b>%{hovertext}</b><br><br>Poet=abdul-rahman-rasikh<br>Total Words Used=%{marker.size}<br>Vocabulary Set=%{y}<extra></extra>\", \"hovertext\": [\"abdul-rahman-rasikh\"], \"legendgroup\": \"abdul-rahman-rasikh\", \"marker\": {\"color\": \"#EF553B\", \"size\": [54], \"sizemode\": \"area\", \"sizeref\": 1.37, \"symbol\": \"circle\"}, \"mode\": \"markers\", \"name\": \"abdul-rahman-rasikh\", \"orientation\": \"v\", \"showlegend\": true, \"type\": \"scatter\", \"x\": [54], \"xaxis\": \"x\", \"y\": [52], \"yaxis\": \"y\"}, {\"hovertemplate\": \"<b>%{hovertext}</b><br><br>Poet=abdul-salam<br>Total Words Used=%{marker.size}<br>Vocabulary Set=%{y}<extra></extra>\", \"hovertext\": [\"abdul-salam\"], \"legendgroup\": \"abdul-salam\", \"marker\": {\"color\": \"#00cc96\", \"size\": [173], \"sizemode\": \"area\", \"sizeref\": 1.37, \"symbol\": \"circle\"}, \"mode\": \"markers\", \"name\": \"abdul-salam\", \"orientation\": \"v\", \"showlegend\": true, \"type\": \"scatter\", \"x\": [173], \"xaxis\": \"x\", \"y\": [133], \"yaxis\": \"y\"}, {\"hovertemplate\": \"<b>%{hovertext}</b><br><br>Poet=abdul-wahab-sukhan<br>Total Words Used=%{marker.size}<br>Vocabulary Set=%{y}<extra></extra>\", \"hovertext\": [\"abdul-wahab-sukhan\"], \"legendgroup\": \"abdul-wahab-sukhan\", \"marker\": {\"color\": \"#ab63fa\", \"size\": [1305], \"sizemode\": \"area\", \"sizeref\": 1.37, \"symbol\": \"circle\"}, \"mode\": \"markers\", \"name\": \"abdul-wahab-sukhan\", \"orientation\": \"v\", \"showlegend\": true, \"type\": \"scatter\", \"x\": [1305], \"xaxis\": \"x\", \"y\": [761], \"yaxis\": \"y\"}, {\"hovertemplate\": \"<b>%{hovertext}</b><br><br>Poet=abdul-wahab-yakro<br>Total Words Used=%{marker.size}<br>Vocabulary Set=%{y}<extra></extra>\", \"hovertext\": [\"abdul-wahab-yakro\"], \"legendgroup\": \"abdul-wahab-yakro\", \"marker\": {\"color\": \"#FFA15A\", \"size\": [1003], \"sizemode\": \"area\", \"sizeref\": 1.37, \"symbol\": \"circle\"}, \"mode\": \"markers\", \"name\": \"abdul-wahab-yakro\", \"orientation\": \"v\", \"showlegend\": true, \"type\": \"scatter\", \"x\": [1003], \"xaxis\": \"x\", \"y\": [600], \"yaxis\": \"y\"}, {\"hovertemplate\": \"<b>%{hovertext}</b><br><br>Poet=abdullah-javed<br>Total Words Used=%{marker.size}<br>Vocabulary Set=%{y}<extra></extra>\", \"hovertext\": [\"abdullah-javed\"], \"legendgroup\": \"abdullah-javed\", \"marker\": {\"color\": \"#19d3f3\", \"size\": [1171], \"sizemode\": \"area\", \"sizeref\": 1.37, \"symbol\": \"circle\"}, \"mode\": \"markers\", \"name\": \"abdullah-javed\", \"orientation\": \"v\", \"showlegend\": true, \"type\": \"scatter\", \"x\": [1171], \"xaxis\": \"x\", \"y\": [634], \"yaxis\": \"y\"}, {\"hovertemplate\": \"<b>%{hovertext}</b><br><br>Poet=abdullah-kamal<br>Total Words Used=%{marker.size}<br>Vocabulary Set=%{y}<extra></extra>\", \"hovertext\": [\"abdullah-kamal\"], \"legendgroup\": \"abdullah-kamal\", \"marker\": {\"color\": \"#FF6692\", \"size\": [1177], \"sizemode\": \"area\", \"sizeref\": 1.37, \"symbol\": \"circle\"}, \"mode\": \"markers\", \"name\": \"abdullah-kamal\", \"orientation\": \"v\", \"showlegend\": true, \"type\": \"scatter\", \"x\": [1177], \"xaxis\": \"x\", \"y\": [706], \"yaxis\": \"y\"}, {\"hovertemplate\": \"<b>%{hovertext}</b><br><br>Poet=abdullateef-shauq<br>Total Words Used=%{marker.size}<br>Vocabulary Set=%{y}<extra></extra>\", \"hovertext\": [\"abdullateef-shauq\"], \"legendgroup\": \"abdullateef-shauq\", \"marker\": {\"color\": \"#B6E880\", \"size\": [336], \"sizemode\": \"area\", \"sizeref\": 1.37, \"symbol\": \"circle\"}, \"mode\": \"markers\", \"name\": \"abdullateef-shauq\", \"orientation\": \"v\", \"showlegend\": true, \"type\": \"scatter\", \"x\": [336], \"xaxis\": \"x\", \"y\": [228], \"yaxis\": \"y\"}, {\"hovertemplate\": \"<b>%{hovertext}</b><br><br>Poet=abdullla-khan-mehr-lakhnavi<br>Total Words Used=%{marker.size}<br>Vocabulary Set=%{y}<extra></extra>\", \"hovertext\": [\"abdullla-khan-mehr-lakhnavi\"], \"legendgroup\": \"abdullla-khan-mehr-lakhnavi\", \"marker\": {\"color\": \"#FF97FF\", \"size\": [353], \"sizemode\": \"area\", \"sizeref\": 1.37, \"symbol\": \"circle\"}, \"mode\": \"markers\", \"name\": \"abdullla-khan-mehr-lakhnavi\", \"orientation\": \"v\", \"showlegend\": true, \"type\": \"scatter\", \"x\": [353], \"xaxis\": \"x\", \"y\": [264], \"yaxis\": \"y\"}, {\"hovertemplate\": \"<b>%{hovertext}</b><br><br>Poet=abdur-rahim-nashtar<br>Total Words Used=%{marker.size}<br>Vocabulary Set=%{y}<extra></extra>\", \"hovertext\": [\"abdur-rahim-nashtar\"], \"legendgroup\": \"abdur-rahim-nashtar\", \"marker\": {\"color\": \"#FECB52\", \"size\": [659], \"sizemode\": \"area\", \"sizeref\": 1.37, \"symbol\": \"circle\"}, \"mode\": \"markers\", \"name\": \"abdur-rahim-nashtar\", \"orientation\": \"v\", \"showlegend\": true, \"type\": \"scatter\", \"x\": [659], \"xaxis\": \"x\", \"y\": [458], \"yaxis\": \"y\"}, {\"hovertemplate\": \"<b>%{hovertext}</b><br><br>Poet=abdur-rasheed-khan-kaifi-mahkari<br>Total Words Used=%{marker.size}<br>Vocabulary Set=%{y}<extra></extra>\", \"hovertext\": [\"abdur-rasheed-khan-kaifi-mahkari\"], \"legendgroup\": \"abdur-rasheed-khan-kaifi-mahkari\", \"marker\": {\"color\": \"#636efa\", \"size\": [614], \"sizemode\": \"area\", \"sizeref\": 1.37, \"symbol\": \"circle\"}, \"mode\": \"markers\", \"name\": \"abdur-rasheed-khan-kaifi-mahkari\", \"orientation\": \"v\", \"showlegend\": true, \"type\": \"scatter\", \"x\": [614], \"xaxis\": \"x\", \"y\": [426], \"yaxis\": \"y\"}, {\"hovertemplate\": \"<b>%{hovertext}</b><br><br>Poet=abdur-rauf-urooj<br>Total Words Used=%{marker.size}<br>Vocabulary Set=%{y}<extra></extra>\", \"hovertext\": [\"abdur-rauf-urooj\"], \"legendgroup\": \"abdur-rauf-urooj\", \"marker\": {\"color\": \"#EF553B\", \"size\": [341], \"sizemode\": \"area\", \"sizeref\": 1.37, \"symbol\": \"circle\"}, \"mode\": \"markers\", \"name\": \"abdur-rauf-urooj\", \"orientation\": \"v\", \"showlegend\": true, \"type\": \"scatter\", \"x\": [341], \"xaxis\": \"x\", \"y\": [253], \"yaxis\": \"y\"}, {\"hovertemplate\": \"<b>%{hovertext}</b><br><br>Poet=abdurrahman-momin<br>Total Words Used=%{marker.size}<br>Vocabulary Set=%{y}<extra></extra>\", \"hovertext\": [\"abdurrahman-momin\"], \"legendgroup\": \"abdurrahman-momin\", \"marker\": {\"color\": \"#00cc96\", \"size\": [727], \"sizemode\": \"area\", \"sizeref\": 1.37, \"symbol\": \"circle\"}, \"mode\": \"markers\", \"name\": \"abdurrahman-momin\", \"orientation\": \"v\", \"showlegend\": true, \"type\": \"scatter\", \"x\": [727], \"xaxis\": \"x\", \"y\": [393], \"yaxis\": \"y\"}, {\"hovertemplate\": \"<b>%{hovertext}</b><br><br>Poet=abdurrahman-wasif<br>Total Words Used=%{marker.size}<br>Vocabulary Set=%{y}<extra></extra>\", \"hovertext\": [\"abdurrahman-wasif\"], \"legendgroup\": \"abdurrahman-wasif\", \"marker\": {\"color\": \"#ab63fa\", \"size\": [546], \"sizemode\": \"area\", \"sizeref\": 1.37, \"symbol\": \"circle\"}, \"mode\": \"markers\", \"name\": \"abdurrahman-wasif\", \"orientation\": \"v\", \"showlegend\": true, \"type\": \"scatter\", \"x\": [546], \"xaxis\": \"x\", \"y\": [391], \"yaxis\": \"y\"}, {\"hovertemplate\": \"<b>%{hovertext}</b><br><br>Poet=abdushshukoor-aasi<br>Total Words Used=%{marker.size}<br>Vocabulary Set=%{y}<extra></extra>\", \"hovertext\": [\"abdushshukoor-aasi\"], \"legendgroup\": \"abdushshukoor-aasi\", \"marker\": {\"color\": \"#FFA15A\", \"size\": [43], \"sizemode\": \"area\", \"sizeref\": 1.37, \"symbol\": \"circle\"}, \"mode\": \"markers\", \"name\": \"abdushshukoor-aasi\", \"orientation\": \"v\", \"showlegend\": true, \"type\": \"scatter\", \"x\": [43], \"xaxis\": \"x\", \"y\": [35], \"yaxis\": \"y\"}, {\"hovertemplate\": \"<b>%{hovertext}</b><br><br>Poet=abdussalam-asim<br>Total Words Used=%{marker.size}<br>Vocabulary Set=%{y}<extra></extra>\", \"hovertext\": [\"abdussalam-asim\"], \"legendgroup\": \"abdussalam-asim\", \"marker\": {\"color\": \"#19d3f3\", \"size\": [629], \"sizemode\": \"area\", \"sizeref\": 1.37, \"symbol\": \"circle\"}, \"mode\": \"markers\", \"name\": \"abdussalam-asim\", \"orientation\": \"v\", \"showlegend\": true, \"type\": \"scatter\", \"x\": [629], \"xaxis\": \"x\", \"y\": [414], \"yaxis\": \"y\"}, {\"hovertemplate\": \"<b>%{hovertext}</b><br><br>Poet=abdussamad-tapish<br>Total Words Used=%{marker.size}<br>Vocabulary Set=%{y}<extra></extra>\", \"hovertext\": [\"abdussamad-tapish\"], \"legendgroup\": \"abdussamad-tapish\", \"marker\": {\"color\": \"#FF6692\", \"size\": [520], \"sizemode\": \"area\", \"sizeref\": 1.37, \"symbol\": \"circle\"}, \"mode\": \"markers\", \"name\": \"abdussamad-tapish\", \"orientation\": \"v\", \"showlegend\": true, \"type\": \"scatter\", \"x\": [520], \"xaxis\": \"x\", \"y\": [363], \"yaxis\": \"y\"}, {\"hovertemplate\": \"<b>%{hovertext}</b><br><br>Poet=abeer-abuzari<br>Total Words Used=%{marker.size}<br>Vocabulary Set=%{y}<extra></extra>\", \"hovertext\": [\"abeer-abuzari\"], \"legendgroup\": \"abeer-abuzari\", \"marker\": {\"color\": \"#B6E880\", \"size\": [61], \"sizemode\": \"area\", \"sizeref\": 1.37, \"symbol\": \"circle\"}, \"mode\": \"markers\", \"name\": \"abeer-abuzari\", \"orientation\": \"v\", \"showlegend\": true, \"type\": \"scatter\", \"x\": [61], \"xaxis\": \"x\", \"y\": [43], \"yaxis\": \"y\"}, {\"hovertemplate\": \"<b>%{hovertext}</b><br><br>Poet=abhay-kumar-bebak<br>Total Words Used=%{marker.size}<br>Vocabulary Set=%{y}<extra></extra>\", \"hovertext\": [\"abhay-kumar-bebak\"], \"legendgroup\": \"abhay-kumar-bebak\", \"marker\": {\"color\": \"#FF97FF\", \"size\": [581], \"sizemode\": \"area\", \"sizeref\": 1.37, \"symbol\": \"circle\"}, \"mode\": \"markers\", \"name\": \"abhay-kumar-bebak\", \"orientation\": \"v\", \"showlegend\": true, \"type\": \"scatter\", \"x\": [581], \"xaxis\": \"x\", \"y\": [397], \"yaxis\": \"y\"}, {\"hovertemplate\": \"<b>%{hovertext}</b><br><br>Poet=abhinandan-pandey<br>Total Words Used=%{marker.size}<br>Vocabulary Set=%{y}<extra></extra>\", \"hovertext\": [\"abhinandan-pandey\"], \"legendgroup\": \"abhinandan-pandey\", \"marker\": {\"color\": \"#FECB52\", \"size\": [591], \"sizemode\": \"area\", \"sizeref\": 1.37, \"symbol\": \"circle\"}, \"mode\": \"markers\", \"name\": \"abhinandan-pandey\", \"orientation\": \"v\", \"showlegend\": true, \"type\": \"scatter\", \"x\": [591], \"xaxis\": \"x\", \"y\": [423], \"yaxis\": \"y\"}, {\"hovertemplate\": \"<b>%{hovertext}</b><br><br>Poet=abhishek-kumar-amber<br>Total Words Used=%{marker.size}<br>Vocabulary Set=%{y}<extra></extra>\", \"hovertext\": [\"abhishek-kumar-amber\"], \"legendgroup\": \"abhishek-kumar-amber\", \"marker\": {\"color\": \"#636efa\", \"size\": [345], \"sizemode\": \"area\", \"sizeref\": 1.37, \"symbol\": \"circle\"}, \"mode\": \"markers\", \"name\": \"abhishek-kumar-amber\", \"orientation\": \"v\", \"showlegend\": true, \"type\": \"scatter\", \"x\": [345], \"xaxis\": \"x\", \"y\": [252], \"yaxis\": \"y\"}, {\"hovertemplate\": \"<b>%{hovertext}</b><br><br>Poet=abhishek-shukla<br>Total Words Used=%{marker.size}<br>Vocabulary Set=%{y}<extra></extra>\", \"hovertext\": [\"abhishek-shukla\"], \"legendgroup\": \"abhishek-shukla\", \"marker\": {\"color\": \"#EF553B\", \"size\": [845], \"sizemode\": \"area\", \"sizeref\": 1.37, \"symbol\": \"circle\"}, \"mode\": \"markers\", \"name\": \"abhishek-shukla\", \"orientation\": \"v\", \"showlegend\": true, \"type\": \"scatter\", \"x\": [845], \"xaxis\": \"x\", \"y\": [494], \"yaxis\": \"y\"}, {\"hovertemplate\": \"<b>%{hovertext}</b><br><br>Poet=abid-akhtar<br>Total Words Used=%{marker.size}<br>Vocabulary Set=%{y}<extra></extra>\", \"hovertext\": [\"abid-akhtar\"], \"legendgroup\": \"abid-akhtar\", \"marker\": {\"color\": \"#00cc96\", \"size\": [473], \"sizemode\": \"area\", \"sizeref\": 1.37, \"symbol\": \"circle\"}, \"mode\": \"markers\", \"name\": \"abid-akhtar\", \"orientation\": \"v\", \"showlegend\": true, \"type\": \"scatter\", \"x\": [473], \"xaxis\": \"x\", \"y\": [351], \"yaxis\": \"y\"}, {\"hovertemplate\": \"<b>%{hovertext}</b><br><br>Poet=abid-almi<br>Total Words Used=%{marker.size}<br>Vocabulary Set=%{y}<extra></extra>\", \"hovertext\": [\"abid-almi\"], \"legendgroup\": \"abid-almi\", \"marker\": {\"color\": \"#ab63fa\", \"size\": [647], \"sizemode\": \"area\", \"sizeref\": 1.37, \"symbol\": \"circle\"}, \"mode\": \"markers\", \"name\": \"abid-almi\", \"orientation\": \"v\", \"showlegend\": true, \"type\": \"scatter\", \"x\": [647], \"xaxis\": \"x\", \"y\": [380], \"yaxis\": \"y\"}, {\"hovertemplate\": \"<b>%{hovertext}</b><br><br>Poet=abid-hashri<br>Total Words Used=%{marker.size}<br>Vocabulary Set=%{y}<extra></extra>\", \"hovertext\": [\"abid-hashri\"], \"legendgroup\": \"abid-hashri\", \"marker\": {\"color\": \"#FFA15A\", \"size\": [261], \"sizemode\": \"area\", \"sizeref\": 1.37, \"symbol\": \"circle\"}, \"mode\": \"markers\", \"name\": \"abid-hashri\", \"orientation\": \"v\", \"showlegend\": true, \"type\": \"scatter\", \"x\": [261], \"xaxis\": \"x\", \"y\": [202], \"yaxis\": \"y\"}, {\"hovertemplate\": \"<b>%{hovertext}</b><br><br>Poet=abid-karhani<br>Total Words Used=%{marker.size}<br>Vocabulary Set=%{y}<extra></extra>\", \"hovertext\": [\"abid-karhani\"], \"legendgroup\": \"abid-karhani\", \"marker\": {\"color\": \"#19d3f3\", \"size\": [156], \"sizemode\": \"area\", \"sizeref\": 1.37, \"symbol\": \"circle\"}, \"mode\": \"markers\", \"name\": \"abid-karhani\", \"orientation\": \"v\", \"showlegend\": true, \"type\": \"scatter\", \"x\": [156], \"xaxis\": \"x\", \"y\": [109], \"yaxis\": \"y\"}, {\"hovertemplate\": \"<b>%{hovertext}</b><br><br>Poet=abid-kazmi<br>Total Words Used=%{marker.size}<br>Vocabulary Set=%{y}<extra></extra>\", \"hovertext\": [\"abid-kazmi\"], \"legendgroup\": \"abid-kazmi\", \"marker\": {\"color\": \"#FF6692\", \"size\": [204], \"sizemode\": \"area\", \"sizeref\": 1.37, \"symbol\": \"circle\"}, \"mode\": \"markers\", \"name\": \"abid-kazmi\", \"orientation\": \"v\", \"showlegend\": true, \"type\": \"scatter\", \"x\": [204], \"xaxis\": \"x\", \"y\": [168], \"yaxis\": \"y\"}, {\"hovertemplate\": \"<b>%{hovertext}</b><br><br>Poet=abid-khursheed<br>Total Words Used=%{marker.size}<br>Vocabulary Set=%{y}<extra></extra>\", \"hovertext\": [\"abid-khursheed\"], \"legendgroup\": \"abid-khursheed\", \"marker\": {\"color\": \"#B6E880\", \"size\": [56], \"sizemode\": \"area\", \"sizeref\": 1.37, \"symbol\": \"circle\"}, \"mode\": \"markers\", \"name\": \"abid-khursheed\", \"orientation\": \"v\", \"showlegend\": true, \"type\": \"scatter\", \"x\": [56], \"xaxis\": \"x\", \"y\": [49], \"yaxis\": \"y\"}, {\"hovertemplate\": \"<b>%{hovertext}</b><br><br>Poet=abid-malik<br>Total Words Used=%{marker.size}<br>Vocabulary Set=%{y}<extra></extra>\", \"hovertext\": [\"abid-malik\"], \"legendgroup\": \"abid-malik\", \"marker\": {\"color\": \"#FF97FF\", \"size\": [460], \"sizemode\": \"area\", \"sizeref\": 1.37, \"symbol\": \"circle\"}, \"mode\": \"markers\", \"name\": \"abid-malik\", \"orientation\": \"v\", \"showlegend\": true, \"type\": \"scatter\", \"x\": [460], \"xaxis\": \"x\", \"y\": [316], \"yaxis\": \"y\"}, {\"hovertemplate\": \"<b>%{hovertext}</b><br><br>Poet=abid-munavari<br>Total Words Used=%{marker.size}<br>Vocabulary Set=%{y}<extra></extra>\", \"hovertext\": [\"abid-munavari\"], \"legendgroup\": \"abid-munavari\", \"marker\": {\"color\": \"#FECB52\", \"size\": [716], \"sizemode\": \"area\", \"sizeref\": 1.37, \"symbol\": \"circle\"}, \"mode\": \"markers\", \"name\": \"abid-munavari\", \"orientation\": \"v\", \"showlegend\": true, \"type\": \"scatter\", \"x\": [716], \"xaxis\": \"x\", \"y\": [491], \"yaxis\": \"y\"}, {\"hovertemplate\": \"<b>%{hovertext}</b><br><br>Poet=abid-nami<br>Total Words Used=%{marker.size}<br>Vocabulary Set=%{y}<extra></extra>\", \"hovertext\": [\"abid-nami\"], \"legendgroup\": \"abid-nami\", \"marker\": {\"color\": \"#636efa\", \"size\": [124], \"sizemode\": \"area\", \"sizeref\": 1.37, \"symbol\": \"circle\"}, \"mode\": \"markers\", \"name\": \"abid-nami\", \"orientation\": \"v\", \"showlegend\": true, \"type\": \"scatter\", \"x\": [124], \"xaxis\": \"x\", \"y\": [111], \"yaxis\": \"y\"}, {\"hovertemplate\": \"<b>%{hovertext}</b><br><br>Poet=abid-siddiq<br>Total Words Used=%{marker.size}<br>Vocabulary Set=%{y}<extra></extra>\", \"hovertext\": [\"abid-siddiq\"], \"legendgroup\": \"abid-siddiq\", \"marker\": {\"color\": \"#EF553B\", \"size\": [44], \"sizemode\": \"area\", \"sizeref\": 1.37, \"symbol\": \"circle\"}, \"mode\": \"markers\", \"name\": \"abid-siddiq\", \"orientation\": \"v\", \"showlegend\": true, \"type\": \"scatter\", \"x\": [44], \"xaxis\": \"x\", \"y\": [41], \"yaxis\": \"y\"}, {\"hovertemplate\": \"<b>%{hovertext}</b><br><br>Poet=abid-syal<br>Total Words Used=%{marker.size}<br>Vocabulary Set=%{y}<extra></extra>\", \"hovertext\": [\"abid-syal\"], \"legendgroup\": \"abid-syal\", \"marker\": {\"color\": \"#00cc96\", \"size\": [115], \"sizemode\": \"area\", \"sizeref\": 1.37, \"symbol\": \"circle\"}, \"mode\": \"markers\", \"name\": \"abid-syal\", \"orientation\": \"v\", \"showlegend\": true, \"type\": \"scatter\", \"x\": [115], \"xaxis\": \"x\", \"y\": [99], \"yaxis\": \"y\"}, {\"hovertemplate\": \"<b>%{hovertext}</b><br><br>Poet=abid-wadood<br>Total Words Used=%{marker.size}<br>Vocabulary Set=%{y}<extra></extra>\", \"hovertext\": [\"abid-wadood\"], \"legendgroup\": \"abid-wadood\", \"marker\": {\"color\": \"#ab63fa\", \"size\": [707], \"sizemode\": \"area\", \"sizeref\": 1.37, \"symbol\": \"circle\"}, \"mode\": \"markers\", \"name\": \"abid-wadood\", \"orientation\": \"v\", \"showlegend\": true, \"type\": \"scatter\", \"x\": [707], \"xaxis\": \"x\", \"y\": [478], \"yaxis\": \"y\"}, {\"hovertemplate\": \"<b>%{hovertext}</b><br><br>Poet=abida-karamat<br>Total Words Used=%{marker.size}<br>Vocabulary Set=%{y}<extra></extra>\", \"hovertext\": [\"abida-karamat\"], \"legendgroup\": \"abida-karamat\", \"marker\": {\"color\": \"#FFA15A\", \"size\": [85], \"sizemode\": \"area\", \"sizeref\": 1.37, \"symbol\": \"circle\"}, \"mode\": \"markers\", \"name\": \"abida-karamat\", \"orientation\": \"v\", \"showlegend\": true, \"type\": \"scatter\", \"x\": [85], \"xaxis\": \"x\", \"y\": [68], \"yaxis\": \"y\"}, {\"hovertemplate\": \"<b>%{hovertext}</b><br><br>Poet=abr-ahsani-ganauri<br>Total Words Used=%{marker.size}<br>Vocabulary Set=%{y}<extra></extra>\", \"hovertext\": [\"abr-ahsani-ganauri\"], \"legendgroup\": \"abr-ahsani-ganauri\", \"marker\": {\"color\": \"#19d3f3\", \"size\": [164], \"sizemode\": \"area\", \"sizeref\": 1.37, \"symbol\": \"circle\"}, \"mode\": \"markers\", \"name\": \"abr-ahsani-ganauri\", \"orientation\": \"v\", \"showlegend\": true, \"type\": \"scatter\", \"x\": [164], \"xaxis\": \"x\", \"y\": [138], \"yaxis\": \"y\"}, {\"hovertemplate\": \"<b>%{hovertext}</b><br><br>Poet=abrar-abid<br>Total Words Used=%{marker.size}<br>Vocabulary Set=%{y}<extra></extra>\", \"hovertext\": [\"abrar-abid\"], \"legendgroup\": \"abrar-abid\", \"marker\": {\"color\": \"#FF6692\", \"size\": [498], \"sizemode\": \"area\", \"sizeref\": 1.37, \"symbol\": \"circle\"}, \"mode\": \"markers\", \"name\": \"abrar-abid\", \"orientation\": \"v\", \"showlegend\": true, \"type\": \"scatter\", \"x\": [498], \"xaxis\": \"x\", \"y\": [356], \"yaxis\": \"y\"}, {\"hovertemplate\": \"<b>%{hovertext}</b><br><br>Poet=abrar-ahmad<br>Total Words Used=%{marker.size}<br>Vocabulary Set=%{y}<extra></extra>\", \"hovertext\": [\"abrar-ahmad\"], \"legendgroup\": \"abrar-ahmad\", \"marker\": {\"color\": \"#B6E880\", \"size\": [1389], \"sizemode\": \"area\", \"sizeref\": 1.37, \"symbol\": \"circle\"}, \"mode\": \"markers\", \"name\": \"abrar-ahmad\", \"orientation\": \"v\", \"showlegend\": true, \"type\": \"scatter\", \"x\": [1389], \"xaxis\": \"x\", \"y\": [710], \"yaxis\": \"y\"}, {\"hovertemplate\": \"<b>%{hovertext}</b><br><br>Poet=abrar-azmi<br>Total Words Used=%{marker.size}<br>Vocabulary Set=%{y}<extra></extra>\", \"hovertext\": [\"abrar-azmi\"], \"legendgroup\": \"abrar-azmi\", \"marker\": {\"color\": \"#FF97FF\", \"size\": [468], \"sizemode\": \"area\", \"sizeref\": 1.37, \"symbol\": \"circle\"}, \"mode\": \"markers\", \"name\": \"abrar-azmi\", \"orientation\": \"v\", \"showlegend\": true, \"type\": \"scatter\", \"x\": [468], \"xaxis\": \"x\", \"y\": [322], \"yaxis\": \"y\"}, {\"hovertemplate\": \"<b>%{hovertext}</b><br><br>Poet=abrar-hamid<br>Total Words Used=%{marker.size}<br>Vocabulary Set=%{y}<extra></extra>\", \"hovertext\": [\"abrar-hamid\"], \"legendgroup\": \"abrar-hamid\", \"marker\": {\"color\": \"#FECB52\", \"size\": [280], \"sizemode\": \"area\", \"sizeref\": 1.37, \"symbol\": \"circle\"}, \"mode\": \"markers\", \"name\": \"abrar-hamid\", \"orientation\": \"v\", \"showlegend\": true, \"type\": \"scatter\", \"x\": [280], \"xaxis\": \"x\", \"y\": [219], \"yaxis\": \"y\"}],\n",
       "                        {\"legend\": {\"itemsizing\": \"constant\", \"title\": {\"text\": \"Poet\"}, \"tracegroupgap\": 0}, \"margin\": {\"t\": 60}, \"template\": {\"data\": {\"bar\": [{\"error_x\": {\"color\": \"#2a3f5f\"}, \"error_y\": {\"color\": \"#2a3f5f\"}, \"marker\": {\"line\": {\"color\": \"#E5ECF6\", \"width\": 0.5}}, \"type\": \"bar\"}], \"barpolar\": [{\"marker\": {\"line\": {\"color\": \"#E5ECF6\", \"width\": 0.5}}, \"type\": \"barpolar\"}], \"carpet\": [{\"aaxis\": {\"endlinecolor\": \"#2a3f5f\", \"gridcolor\": \"white\", \"linecolor\": \"white\", \"minorgridcolor\": \"white\", \"startlinecolor\": \"#2a3f5f\"}, \"baxis\": {\"endlinecolor\": \"#2a3f5f\", \"gridcolor\": \"white\", \"linecolor\": \"white\", \"minorgridcolor\": \"white\", \"startlinecolor\": \"#2a3f5f\"}, \"type\": \"carpet\"}], \"choropleth\": [{\"colorbar\": {\"outlinewidth\": 0, \"ticks\": \"\"}, \"type\": \"choropleth\"}], \"contour\": [{\"colorbar\": {\"outlinewidth\": 0, \"ticks\": \"\"}, \"colorscale\": [[0.0, \"#0d0887\"], [0.1111111111111111, \"#46039f\"], [0.2222222222222222, \"#7201a8\"], [0.3333333333333333, \"#9c179e\"], [0.4444444444444444, \"#bd3786\"], [0.5555555555555556, \"#d8576b\"], [0.6666666666666666, \"#ed7953\"], [0.7777777777777778, \"#fb9f3a\"], [0.8888888888888888, \"#fdca26\"], [1.0, \"#f0f921\"]], \"type\": \"contour\"}], \"contourcarpet\": [{\"colorbar\": {\"outlinewidth\": 0, \"ticks\": \"\"}, \"type\": \"contourcarpet\"}], \"heatmap\": [{\"colorbar\": {\"outlinewidth\": 0, \"ticks\": \"\"}, \"colorscale\": [[0.0, \"#0d0887\"], [0.1111111111111111, \"#46039f\"], [0.2222222222222222, \"#7201a8\"], [0.3333333333333333, \"#9c179e\"], [0.4444444444444444, \"#bd3786\"], [0.5555555555555556, \"#d8576b\"], [0.6666666666666666, \"#ed7953\"], [0.7777777777777778, \"#fb9f3a\"], [0.8888888888888888, \"#fdca26\"], [1.0, \"#f0f921\"]], \"type\": \"heatmap\"}], \"heatmapgl\": [{\"colorbar\": {\"outlinewidth\": 0, \"ticks\": \"\"}, \"colorscale\": [[0.0, \"#0d0887\"], [0.1111111111111111, \"#46039f\"], [0.2222222222222222, \"#7201a8\"], [0.3333333333333333, \"#9c179e\"], [0.4444444444444444, \"#bd3786\"], [0.5555555555555556, \"#d8576b\"], [0.6666666666666666, \"#ed7953\"], [0.7777777777777778, \"#fb9f3a\"], [0.8888888888888888, \"#fdca26\"], [1.0, \"#f0f921\"]], \"type\": \"heatmapgl\"}], \"histogram\": [{\"marker\": {\"colorbar\": {\"outlinewidth\": 0, \"ticks\": \"\"}}, \"type\": \"histogram\"}], \"histogram2d\": [{\"colorbar\": {\"outlinewidth\": 0, \"ticks\": \"\"}, \"colorscale\": [[0.0, \"#0d0887\"], [0.1111111111111111, \"#46039f\"], [0.2222222222222222, \"#7201a8\"], [0.3333333333333333, \"#9c179e\"], [0.4444444444444444, \"#bd3786\"], [0.5555555555555556, \"#d8576b\"], [0.6666666666666666, \"#ed7953\"], [0.7777777777777778, \"#fb9f3a\"], [0.8888888888888888, \"#fdca26\"], [1.0, \"#f0f921\"]], \"type\": \"histogram2d\"}], \"histogram2dcontour\": [{\"colorbar\": {\"outlinewidth\": 0, \"ticks\": \"\"}, \"colorscale\": [[0.0, \"#0d0887\"], [0.1111111111111111, \"#46039f\"], [0.2222222222222222, \"#7201a8\"], [0.3333333333333333, \"#9c179e\"], [0.4444444444444444, \"#bd3786\"], [0.5555555555555556, \"#d8576b\"], [0.6666666666666666, \"#ed7953\"], [0.7777777777777778, \"#fb9f3a\"], [0.8888888888888888, \"#fdca26\"], [1.0, \"#f0f921\"]], \"type\": \"histogram2dcontour\"}], \"mesh3d\": [{\"colorbar\": {\"outlinewidth\": 0, \"ticks\": \"\"}, \"type\": \"mesh3d\"}], \"parcoords\": [{\"line\": {\"colorbar\": {\"outlinewidth\": 0, \"ticks\": \"\"}}, \"type\": \"parcoords\"}], \"pie\": [{\"automargin\": true, \"type\": \"pie\"}], \"scatter\": [{\"marker\": {\"colorbar\": {\"outlinewidth\": 0, \"ticks\": \"\"}}, \"type\": \"scatter\"}], \"scatter3d\": [{\"line\": {\"colorbar\": {\"outlinewidth\": 0, \"ticks\": \"\"}}, \"marker\": {\"colorbar\": {\"outlinewidth\": 0, \"ticks\": \"\"}}, \"type\": \"scatter3d\"}], \"scattercarpet\": [{\"marker\": {\"colorbar\": {\"outlinewidth\": 0, \"ticks\": \"\"}}, \"type\": \"scattercarpet\"}], \"scattergeo\": [{\"marker\": {\"colorbar\": {\"outlinewidth\": 0, \"ticks\": \"\"}}, \"type\": \"scattergeo\"}], \"scattergl\": [{\"marker\": {\"colorbar\": {\"outlinewidth\": 0, \"ticks\": \"\"}}, \"type\": \"scattergl\"}], \"scattermapbox\": [{\"marker\": {\"colorbar\": {\"outlinewidth\": 0, \"ticks\": \"\"}}, \"type\": \"scattermapbox\"}], \"scatterpolar\": [{\"marker\": {\"colorbar\": {\"outlinewidth\": 0, \"ticks\": \"\"}}, \"type\": \"scatterpolar\"}], \"scatterpolargl\": [{\"marker\": {\"colorbar\": {\"outlinewidth\": 0, \"ticks\": \"\"}}, \"type\": \"scatterpolargl\"}], \"scatterternary\": [{\"marker\": {\"colorbar\": {\"outlinewidth\": 0, \"ticks\": \"\"}}, \"type\": \"scatterternary\"}], \"surface\": [{\"colorbar\": {\"outlinewidth\": 0, \"ticks\": \"\"}, \"colorscale\": [[0.0, \"#0d0887\"], [0.1111111111111111, \"#46039f\"], [0.2222222222222222, \"#7201a8\"], [0.3333333333333333, \"#9c179e\"], [0.4444444444444444, \"#bd3786\"], [0.5555555555555556, \"#d8576b\"], [0.6666666666666666, \"#ed7953\"], [0.7777777777777778, \"#fb9f3a\"], [0.8888888888888888, \"#fdca26\"], [1.0, \"#f0f921\"]], \"type\": \"surface\"}], \"table\": [{\"cells\": {\"fill\": {\"color\": \"#EBF0F8\"}, \"line\": {\"color\": \"white\"}}, \"header\": {\"fill\": {\"color\": \"#C8D4E3\"}, \"line\": {\"color\": \"white\"}}, \"type\": \"table\"}]}, \"layout\": {\"annotationdefaults\": {\"arrowcolor\": \"#2a3f5f\", \"arrowhead\": 0, \"arrowwidth\": 1}, \"coloraxis\": {\"colorbar\": {\"outlinewidth\": 0, \"ticks\": \"\"}}, \"colorscale\": {\"diverging\": [[0, \"#8e0152\"], [0.1, \"#c51b7d\"], [0.2, \"#de77ae\"], [0.3, \"#f1b6da\"], [0.4, \"#fde0ef\"], [0.5, \"#f7f7f7\"], [0.6, \"#e6f5d0\"], [0.7, \"#b8e186\"], [0.8, \"#7fbc41\"], [0.9, \"#4d9221\"], [1, \"#276419\"]], \"sequential\": [[0.0, \"#0d0887\"], [0.1111111111111111, \"#46039f\"], [0.2222222222222222, \"#7201a8\"], [0.3333333333333333, \"#9c179e\"], [0.4444444444444444, \"#bd3786\"], [0.5555555555555556, \"#d8576b\"], [0.6666666666666666, \"#ed7953\"], [0.7777777777777778, \"#fb9f3a\"], [0.8888888888888888, \"#fdca26\"], [1.0, \"#f0f921\"]], \"sequentialminus\": [[0.0, \"#0d0887\"], [0.1111111111111111, \"#46039f\"], [0.2222222222222222, \"#7201a8\"], [0.3333333333333333, \"#9c179e\"], [0.4444444444444444, \"#bd3786\"], [0.5555555555555556, \"#d8576b\"], [0.6666666666666666, \"#ed7953\"], [0.7777777777777778, \"#fb9f3a\"], [0.8888888888888888, \"#fdca26\"], [1.0, \"#f0f921\"]]}, \"colorway\": [\"#636efa\", \"#EF553B\", \"#00cc96\", \"#ab63fa\", \"#FFA15A\", \"#19d3f3\", \"#FF6692\", \"#B6E880\", \"#FF97FF\", \"#FECB52\"], \"font\": {\"color\": \"#2a3f5f\"}, \"geo\": {\"bgcolor\": \"white\", \"lakecolor\": \"white\", \"landcolor\": \"#E5ECF6\", \"showlakes\": true, \"showland\": true, \"subunitcolor\": \"white\"}, \"hoverlabel\": {\"align\": \"left\"}, \"hovermode\": \"closest\", \"mapbox\": {\"style\": \"light\"}, \"paper_bgcolor\": \"white\", \"plot_bgcolor\": \"#E5ECF6\", \"polar\": {\"angularaxis\": {\"gridcolor\": \"white\", \"linecolor\": \"white\", \"ticks\": \"\"}, \"bgcolor\": \"#E5ECF6\", \"radialaxis\": {\"gridcolor\": \"white\", \"linecolor\": \"white\", \"ticks\": \"\"}}, \"scene\": {\"xaxis\": {\"backgroundcolor\": \"#E5ECF6\", \"gridcolor\": \"white\", \"gridwidth\": 2, \"linecolor\": \"white\", \"showbackground\": true, \"ticks\": \"\", \"zerolinecolor\": \"white\"}, \"yaxis\": {\"backgroundcolor\": \"#E5ECF6\", \"gridcolor\": \"white\", \"gridwidth\": 2, \"linecolor\": \"white\", \"showbackground\": true, \"ticks\": \"\", \"zerolinecolor\": \"white\"}, \"zaxis\": {\"backgroundcolor\": \"#E5ECF6\", \"gridcolor\": \"white\", \"gridwidth\": 2, \"linecolor\": \"white\", \"showbackground\": true, \"ticks\": \"\", \"zerolinecolor\": \"white\"}}, \"shapedefaults\": {\"line\": {\"color\": \"#2a3f5f\"}}, \"ternary\": {\"aaxis\": {\"gridcolor\": \"white\", \"linecolor\": \"white\", \"ticks\": \"\"}, \"baxis\": {\"gridcolor\": \"white\", \"linecolor\": \"white\", \"ticks\": \"\"}, \"bgcolor\": \"#E5ECF6\", \"caxis\": {\"gridcolor\": \"white\", \"linecolor\": \"white\", \"ticks\": \"\"}}, \"title\": {\"x\": 0.05}, \"xaxis\": {\"automargin\": true, \"gridcolor\": \"white\", \"linecolor\": \"white\", \"ticks\": \"\", \"title\": {\"standoff\": 15}, \"zerolinecolor\": \"white\", \"zerolinewidth\": 2}, \"yaxis\": {\"automargin\": true, \"gridcolor\": \"white\", \"linecolor\": \"white\", \"ticks\": \"\", \"title\": {\"standoff\": 15}, \"zerolinecolor\": \"white\", \"zerolinewidth\": 2}}}, \"xaxis\": {\"anchor\": \"y\", \"domain\": [0.0, 1.0], \"title\": {\"text\": \"Total Words Used\"}, \"type\": \"log\"}, \"yaxis\": {\"anchor\": \"x\", \"domain\": [0.0, 1.0], \"title\": {\"text\": \"Vocabulary Set\"}}},\n",
       "                        {\"responsive\": true}\n",
       "                    ).then(function(){\n",
       "                            \n",
       "var gd = document.getElementById('95e67a26-d1e9-4f90-adad-2a0d80836ec1');\n",
       "var x = new MutationObserver(function (mutations, observer) {{\n",
       "        var display = window.getComputedStyle(gd).display;\n",
       "        if (!display || display === 'none') {{\n",
       "            console.log([gd, 'removed!']);\n",
       "            Plotly.purge(gd);\n",
       "            observer.disconnect();\n",
       "        }}\n",
       "}});\n",
       "\n",
       "// Listen for the removal of the full notebook cells\n",
       "var notebookContainer = gd.closest('#notebook-container');\n",
       "if (notebookContainer) {{\n",
       "    x.observe(notebookContainer, {childList: true});\n",
       "}}\n",
       "\n",
       "// Listen for the clearing of the current output cell\n",
       "var outputEl = gd.closest('.output');\n",
       "if (outputEl) {{\n",
       "    x.observe(outputEl, {childList: true});\n",
       "}}\n",
       "\n",
       "                        })\n",
       "                };\n",
       "                });\n",
       "            </script>\n",
       "        </div>"
      ]
     },
     "metadata": {},
     "output_type": "display_data"
    }
   ],
   "source": [
    "vocabTotalWordsComparisionPlot(authors_vocab_df)"
   ]
  },
  {
   "cell_type": "markdown",
   "metadata": {},
   "source": [
    "## TEST Code"
   ]
  },
  {
   "cell_type": "code",
   "execution_count": null,
   "metadata": {},
   "outputs": [],
   "source": []
  },
  {
   "cell_type": "code",
   "execution_count": null,
   "metadata": {},
   "outputs": [],
   "source": []
  },
  {
   "cell_type": "code",
   "execution_count": null,
   "metadata": {},
   "outputs": [],
   "source": []
  }
 ],
 "metadata": {
  "kernelspec": {
   "display_name": "Python 3.7.3 64-bit ('allMajorLibs': conda)",
   "language": "python",
   "name": "python37364bitallmajorlibscondaa35c3d572af4481b98816be3bb5cbf99"
  },
  "language_info": {
   "codemirror_mode": {
    "name": "ipython",
    "version": 3
   },
   "file_extension": ".py",
   "mimetype": "text/x-python",
   "name": "python",
   "nbconvert_exporter": "python",
   "pygments_lexer": "ipython3",
   "version": "3.7.3"
  }
 },
 "nbformat": 4,
 "nbformat_minor": 2
}
